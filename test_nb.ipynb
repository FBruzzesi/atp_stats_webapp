{
 "metadata": {
  "language_info": {
   "codemirror_mode": {
    "name": "ipython",
    "version": 3
   },
   "file_extension": ".py",
   "mimetype": "text/x-python",
   "name": "python",
   "nbconvert_exporter": "python",
   "pygments_lexer": "ipython3",
   "version": "3.8.3-final"
  },
  "orig_nbformat": 2,
  "kernelspec": {
   "name": "python3",
   "display_name": "Python 3"
  }
 },
 "nbformat": 4,
 "nbformat_minor": 2,
 "cells": [
  {
   "cell_type": "code",
   "execution_count": 1,
   "metadata": {},
   "outputs": [],
   "source": [
    "%load_ext autoreload\n",
    "%autoreload 2\n",
    "\n",
    "import pandas as pd\n",
    "import numpy as np\n",
    "\n",
    "pd.set_option('plotting.backend', 'plotly')\n",
    "from datetime import date, datetime as dt\n",
    "import os, re\n",
    "import plotly.colors\n",
    "import plotly.graph_objects as go, plotly.express as px, plotly.figure_factory as ff\n",
    "from plotly.offline import init_notebook_mode\n",
    "from plotly.subplots import make_subplots\n",
    "\n",
    "from statsmodels.stats.proportion import proportion_confint\n",
    "\n",
    "from tennis_utils.player import TennisDataLoader, TennisPlayerDataLoader, TennisPlayer\n",
    "from tennis_utils.scrapers import SackmanScraper\n"
   ]
  },
  {
   "cell_type": "code",
   "execution_count": 2,
   "metadata": {},
   "outputs": [],
   "source": [
    "\n",
    "player_name = 'Roger Federer'\n",
    "data_path = os.getcwd()+'/data'\n",
    "\n",
    "tdl = TennisDataLoader(data_path+'/matches.parquet', data_path+'/players.parquet')\n",
    "matches_df, players_df = tdl.matches, tdl.players\n",
    "\n",
    "tpdl = TennisPlayerDataLoader(player_name, matches_df, players_df)\n",
    "\n",
    "# Subset selected player matches data\n",
    "player_matches = tpdl.player_matches #matches_df[matches_df['player_name'] == player_name]\n",
    "player_details = tpdl.player_details #players_df[players_df['player_name']==player_name]\n",
    "player_rank = tpdl.player_rank\n",
    "\n",
    "tp = TennisPlayer(player_name, player_matches, player_rank, player_details)#, rounds=['F'])\n",
    "m = tp.selected_matches     \n"
   ]
  },
  {
   "cell_type": "code",
   "execution_count": 9,
   "metadata": {},
   "outputs": [],
   "source": [
    "%timeit \n",
    "\n",
    "m_by_year = (m.groupby('year')\n",
    "     .agg(ace = ('ace', np.sum),\n",
    "          df = ('df', np.sum),\n",
    "          svpt = ('svpt', np.sum),\n",
    "          firstIn = ('1stIn', np.sum),\n",
    "          firstInStd = ('1stIn', np.std),\n",
    "          firstWon = ('1stWon', np.sum),\n",
    "          firstWonStd = ('1stWon', np.std),\n",
    "          secondWon = ('2ndWon', np.sum),\n",
    "          secondWonStd = ('2ndWon', np.std), \n",
    "          returnWon = ('returnWon', np.sum),    \n",
    "          returnWonStd = ('returnWon', np.std),    \n",
    "          returnPlayed = ('returnPlayed', np.sum), \n",
    "          bpConverted = ('bpConverted', np.sum),\n",
    "          bpConvertedStd = ('bpConverted', np.std),\n",
    "          bpTotal = ('bpTotal', np.sum),\n",
    "          bpSaved = ('bpSaved', np.sum),\n",
    "          bpSavedStd = ('bpSaved', np.std),\n",
    "          bpFaced = ('bpFaced', np.sum),\n",
    "          tbPlayed = ('tbPlayed', np.sum),\n",
    "          tbWon = ('tbWon', np.sum),\n",
    "          decidingSetPlayed = ('decidingSetPlayed', np.sum),\n",
    "          decidingSetWon = ('decidingSetWon', np.sum))\n",
    "     .assign(meanFirstIn = lambda x: x['firstIn']/x['svpt'])\n",
    "     .assign(stdFirstIn = lambda x: x['firstInStd']/x['firstIn'])\n",
    "     .assign(meanFirstWon = lambda x: x['firstWon']/x['firstIn'])\n",
    "     .assign(stdFirstWon = lambda x: x['firstWonStd']/x['firstWon'])\n",
    "     .assign(secondIn = lambda x: x['svpt'] - x['firstIn'])\n",
    "     .assign(meanSecondWon = lambda x: x['secondWon']/(x['svpt'] - x['firstIn']))\n",
    "     .assign(stdSecondWon = lambda x: x['secondWonStd']/x['secondWon'])\n",
    "     .assign(meanReturnWon = lambda x: x['returnWon']/x['returnPlayed'])\n",
    "     .assign(stdReturnWon = lambda x: x['returnWonStd']/x['returnWon'])\n",
    "     .assign(meanBpConverted = lambda x: x['bpConverted']/x['bpTotal'])\n",
    "     .assign(stdBpConverted = lambda x: x['bpConvertedStd']/x['bpConverted'])\n",
    "     .assign(meanBpSaved = lambda x: x['bpSaved']/x['bpFaced'])\n",
    "     .assign(stdBpSaved = lambda x: x['bpSavedStd']/x['bpSaved'])\n",
    "     .assign(tbLost = lambda x: x['tbPlayed'] - x['tbWon'])\n",
    "     .assign(percTbWon = lambda x: x['tbWon']/x['tbPlayed'])\n",
    "     .assign(DecidingSetLost = lambda x: x['decidingSetPlayed'] - x['decidingSetWon'])\n",
    "     .assign(percDecidingSetWon = lambda x: x['decidingSetWon']/x['decidingSetPlayed'])\n",
    "     .reset_index().fillna(0.001)\n",
    ")"
   ]
  },
  {
   "cell_type": "code",
   "execution_count": 13,
   "metadata": {},
   "outputs": [],
   "source": [
    "success_cols = ['firstIn', 'firstWon', 'secondWon', 'returnWon', 'bpConverted', 'bpSaved', 'tbWon', 'decidingSetWon']\n",
    "total_cols = ['svpt', 'firstIn', 'secondIn', 'returnPlayed', 'bpTotal', 'bpFaced', 'tbPlayed', 'decidingSetPlayed']\n",
    "lower_df, upper_df = proportion_confint(\n",
    "    m_by_year[success_cols], \n",
    "    m_by_year[total_cols]\n",
    "    )\n",
    "\n",
    "lower_df.columns = [f'lower_{c}' for c in success_cols]\n",
    "upper_df.columns = [f'upper_{c}' for c in success_cols]"
   ]
  },
  {
   "cell_type": "code",
   "execution_count": 14,
   "metadata": {},
   "outputs": [
    {
     "output_type": "execute_result",
     "data": {
      "text/plain": [
       "    lower_firstIn  lower_firstWon  lower_secondWon  lower_returnWon  \\\n",
       "0        0.571311        0.705812         0.502021         0.348499   \n",
       "1        0.582861        0.729512         0.505671         0.372459   \n",
       "2        0.586902        0.743521         0.515124         0.374249   \n",
       "3        0.582414        0.754729         0.541256         0.405758   \n",
       "4        0.603135        0.768403         0.555498         0.402053   \n",
       "5        0.617660        0.750097         0.566649         0.405083   \n",
       "6        0.616068        0.754997         0.570516         0.408936   \n",
       "7        0.605975        0.758920         0.569861         0.396587   \n",
       "8        0.629214        0.755946         0.558673         0.389686   \n",
       "9        0.612262        0.780571         0.549964         0.370678   \n",
       "10       0.606921        0.768681         0.542217         0.390346   \n",
       "11       0.624246        0.773415         0.549092         0.388700   \n",
       "12       0.616883        0.764223         0.578561         0.376142   \n",
       "13       0.612629        0.750212         0.531215         0.384852   \n",
       "14       0.626941        0.773519         0.557856         0.386761   \n",
       "15       0.626178        0.787266         0.550645         0.384833   \n",
       "16       0.604120        0.777563         0.529984         0.366020   \n",
       "17       0.607261        0.782754         0.571012         0.384007   \n",
       "18       0.605226        0.788041         0.561463         0.371402   \n",
       "19       0.633238        0.766783         0.569998         0.378540   \n",
       "20       0.624267        0.701808         0.465951         0.348716   \n",
       "\n",
       "    lower_bpConverted  lower_bpSaved  lower_tbWon  lower_decidingSetWon  \n",
       "0            0.279940       0.603436     0.293013              0.214891  \n",
       "1            0.328976       0.627930     0.434565              0.507606  \n",
       "2            0.339284       0.619881     0.388129              0.249173  \n",
       "3            0.372665       0.609669     0.448182              0.465047  \n",
       "4            0.370419       0.674554     0.643203              0.650024  \n",
       "5            0.408954       0.587091     0.576719              0.661168  \n",
       "6            0.394127       0.651639     0.603012              0.768522  \n",
       "7            0.375983       0.606153     0.608552              0.509545  \n",
       "8            0.346965       0.631130     0.494825              0.331968  \n",
       "9            0.375728       0.636715     0.555428              0.262583  \n",
       "10           0.364304       0.632643     0.512863              0.448893  \n",
       "11           0.351227       0.590651     0.505586              0.217104  \n",
       "12           0.371356       0.632995     0.437700              0.642312  \n",
       "13           0.319992       0.607762     0.387021              0.409242  \n",
       "14           0.326499       0.650401     0.478208              0.541171  \n",
       "15           0.364832       0.623875     0.389345              0.441417  \n",
       "16           0.320408       0.548301     0.391864              0.061972  \n",
       "17           0.369262       0.611950     0.536018              0.621250  \n",
       "18           0.359539       0.621378     0.441439              0.489286  \n",
       "19           0.367545       0.653617     0.629189              0.304394  \n",
       "20           0.262472       0.538445     0.325655              1.000000  "
      ],
      "text/html": "<div>\n<style scoped>\n    .dataframe tbody tr th:only-of-type {\n        vertical-align: middle;\n    }\n\n    .dataframe tbody tr th {\n        vertical-align: top;\n    }\n\n    .dataframe thead th {\n        text-align: right;\n    }\n</style>\n<table border=\"1\" class=\"dataframe\">\n  <thead>\n    <tr style=\"text-align: right;\">\n      <th></th>\n      <th>lower_firstIn</th>\n      <th>lower_firstWon</th>\n      <th>lower_secondWon</th>\n      <th>lower_returnWon</th>\n      <th>lower_bpConverted</th>\n      <th>lower_bpSaved</th>\n      <th>lower_tbWon</th>\n      <th>lower_decidingSetWon</th>\n    </tr>\n  </thead>\n  <tbody>\n    <tr>\n      <th>0</th>\n      <td>0.571311</td>\n      <td>0.705812</td>\n      <td>0.502021</td>\n      <td>0.348499</td>\n      <td>0.279940</td>\n      <td>0.603436</td>\n      <td>0.293013</td>\n      <td>0.214891</td>\n    </tr>\n    <tr>\n      <th>1</th>\n      <td>0.582861</td>\n      <td>0.729512</td>\n      <td>0.505671</td>\n      <td>0.372459</td>\n      <td>0.328976</td>\n      <td>0.627930</td>\n      <td>0.434565</td>\n      <td>0.507606</td>\n    </tr>\n    <tr>\n      <th>2</th>\n      <td>0.586902</td>\n      <td>0.743521</td>\n      <td>0.515124</td>\n      <td>0.374249</td>\n      <td>0.339284</td>\n      <td>0.619881</td>\n      <td>0.388129</td>\n      <td>0.249173</td>\n    </tr>\n    <tr>\n      <th>3</th>\n      <td>0.582414</td>\n      <td>0.754729</td>\n      <td>0.541256</td>\n      <td>0.405758</td>\n      <td>0.372665</td>\n      <td>0.609669</td>\n      <td>0.448182</td>\n      <td>0.465047</td>\n    </tr>\n    <tr>\n      <th>4</th>\n      <td>0.603135</td>\n      <td>0.768403</td>\n      <td>0.555498</td>\n      <td>0.402053</td>\n      <td>0.370419</td>\n      <td>0.674554</td>\n      <td>0.643203</td>\n      <td>0.650024</td>\n    </tr>\n    <tr>\n      <th>5</th>\n      <td>0.617660</td>\n      <td>0.750097</td>\n      <td>0.566649</td>\n      <td>0.405083</td>\n      <td>0.408954</td>\n      <td>0.587091</td>\n      <td>0.576719</td>\n      <td>0.661168</td>\n    </tr>\n    <tr>\n      <th>6</th>\n      <td>0.616068</td>\n      <td>0.754997</td>\n      <td>0.570516</td>\n      <td>0.408936</td>\n      <td>0.394127</td>\n      <td>0.651639</td>\n      <td>0.603012</td>\n      <td>0.768522</td>\n    </tr>\n    <tr>\n      <th>7</th>\n      <td>0.605975</td>\n      <td>0.758920</td>\n      <td>0.569861</td>\n      <td>0.396587</td>\n      <td>0.375983</td>\n      <td>0.606153</td>\n      <td>0.608552</td>\n      <td>0.509545</td>\n    </tr>\n    <tr>\n      <th>8</th>\n      <td>0.629214</td>\n      <td>0.755946</td>\n      <td>0.558673</td>\n      <td>0.389686</td>\n      <td>0.346965</td>\n      <td>0.631130</td>\n      <td>0.494825</td>\n      <td>0.331968</td>\n    </tr>\n    <tr>\n      <th>9</th>\n      <td>0.612262</td>\n      <td>0.780571</td>\n      <td>0.549964</td>\n      <td>0.370678</td>\n      <td>0.375728</td>\n      <td>0.636715</td>\n      <td>0.555428</td>\n      <td>0.262583</td>\n    </tr>\n    <tr>\n      <th>10</th>\n      <td>0.606921</td>\n      <td>0.768681</td>\n      <td>0.542217</td>\n      <td>0.390346</td>\n      <td>0.364304</td>\n      <td>0.632643</td>\n      <td>0.512863</td>\n      <td>0.448893</td>\n    </tr>\n    <tr>\n      <th>11</th>\n      <td>0.624246</td>\n      <td>0.773415</td>\n      <td>0.549092</td>\n      <td>0.388700</td>\n      <td>0.351227</td>\n      <td>0.590651</td>\n      <td>0.505586</td>\n      <td>0.217104</td>\n    </tr>\n    <tr>\n      <th>12</th>\n      <td>0.616883</td>\n      <td>0.764223</td>\n      <td>0.578561</td>\n      <td>0.376142</td>\n      <td>0.371356</td>\n      <td>0.632995</td>\n      <td>0.437700</td>\n      <td>0.642312</td>\n    </tr>\n    <tr>\n      <th>13</th>\n      <td>0.612629</td>\n      <td>0.750212</td>\n      <td>0.531215</td>\n      <td>0.384852</td>\n      <td>0.319992</td>\n      <td>0.607762</td>\n      <td>0.387021</td>\n      <td>0.409242</td>\n    </tr>\n    <tr>\n      <th>14</th>\n      <td>0.626941</td>\n      <td>0.773519</td>\n      <td>0.557856</td>\n      <td>0.386761</td>\n      <td>0.326499</td>\n      <td>0.650401</td>\n      <td>0.478208</td>\n      <td>0.541171</td>\n    </tr>\n    <tr>\n      <th>15</th>\n      <td>0.626178</td>\n      <td>0.787266</td>\n      <td>0.550645</td>\n      <td>0.384833</td>\n      <td>0.364832</td>\n      <td>0.623875</td>\n      <td>0.389345</td>\n      <td>0.441417</td>\n    </tr>\n    <tr>\n      <th>16</th>\n      <td>0.604120</td>\n      <td>0.777563</td>\n      <td>0.529984</td>\n      <td>0.366020</td>\n      <td>0.320408</td>\n      <td>0.548301</td>\n      <td>0.391864</td>\n      <td>0.061972</td>\n    </tr>\n    <tr>\n      <th>17</th>\n      <td>0.607261</td>\n      <td>0.782754</td>\n      <td>0.571012</td>\n      <td>0.384007</td>\n      <td>0.369262</td>\n      <td>0.611950</td>\n      <td>0.536018</td>\n      <td>0.621250</td>\n    </tr>\n    <tr>\n      <th>18</th>\n      <td>0.605226</td>\n      <td>0.788041</td>\n      <td>0.561463</td>\n      <td>0.371402</td>\n      <td>0.359539</td>\n      <td>0.621378</td>\n      <td>0.441439</td>\n      <td>0.489286</td>\n    </tr>\n    <tr>\n      <th>19</th>\n      <td>0.633238</td>\n      <td>0.766783</td>\n      <td>0.569998</td>\n      <td>0.378540</td>\n      <td>0.367545</td>\n      <td>0.653617</td>\n      <td>0.629189</td>\n      <td>0.304394</td>\n    </tr>\n    <tr>\n      <th>20</th>\n      <td>0.624267</td>\n      <td>0.701808</td>\n      <td>0.465951</td>\n      <td>0.348716</td>\n      <td>0.262472</td>\n      <td>0.538445</td>\n      <td>0.325655</td>\n      <td>1.000000</td>\n    </tr>\n  </tbody>\n</table>\n</div>"
     },
     "metadata": {},
     "execution_count": 14
    }
   ],
   "source": [
    "lower_df"
   ]
  },
  {
   "cell_type": "code",
   "execution_count": 23,
   "metadata": {},
   "outputs": [
    {
     "output_type": "execute_result",
     "data": {
      "text/plain": [
       "bpFaced               6144.0\n",
       "bpSaved               4150.0\n",
       "bpConverted           4788.0\n",
       "bpTotal              12043.0\n",
       "tbPlayed               652.0\n",
       "tbWon                  427.0\n",
       "decidingSetPlayed      347.0\n",
       "decidingSetWon         231.0\n",
       "dtype: float64"
      ]
     },
     "metadata": {},
     "execution_count": 23
    }
   ],
   "source": [
    "under_pressure_overall = m[['bpFaced', 'bpSaved', 'bpConverted', 'bpTotal', 'tbPlayed', 'tbWon', 'decidingSetPlayed', 'decidingSetWon']].sum()\n",
    "under_pressure_overall"
   ]
  },
  {
   "cell_type": "code",
   "execution_count": 92,
   "metadata": {},
   "outputs": [
    {
     "output_type": "display_data",
     "data": {
      "application/vnd.plotly.v1+json": {
       "config": {
        "plotlyServerURL": "https://plot.ly"
       },
       "data": [
        {
         "line": {
          "color": "darksalmon",
          "width": 1
         },
         "mode": "lines",
         "name": "Upper Band",
         "type": "scatter",
         "x": [
          2000,
          2001,
          2002,
          2003,
          2004,
          2005,
          2006,
          2007,
          2008,
          2009,
          2010,
          2011,
          2012,
          2013,
          2014,
          2015,
          2016,
          2017,
          2018,
          2019,
          2020
         ],
         "xaxis": "x",
         "y": [
          0.34634823634667233,
          0.3860972861663466,
          0.3939572967619309,
          0.4194281915709418,
          0.4218039296980167,
          0.4545476566317541,
          0.43616000203041394,
          0.42778748920976717,
          0.39607913095958286,
          0.4309423049252374,
          0.414077975602675,
          0.4042381773681099,
          0.42241838490106304,
          0.3741026734035447,
          0.3759758034722464,
          0.4188475618358381,
          0.4259623215880246,
          0.43012324495429954,
          0.4233087192372491,
          0.42825178130836855,
          0.5566647010413619
         ],
         "yaxis": "y"
        },
        {
         "fill": "tonexty",
         "line": {
          "color": "darksalmon",
          "width": 1
         },
         "mode": "lines",
         "name": "Lower Band",
         "type": "scatter",
         "x": [
          2000,
          2001,
          2002,
          2003,
          2004,
          2005,
          2006,
          2007,
          2008,
          2009,
          2010,
          2011,
          2012,
          2013,
          2014,
          2015,
          2016,
          2017,
          2018,
          2019,
          2020
         ],
         "xaxis": "x",
         "y": [
          0.3017999118014758,
          0.35149136631592287,
          0.3618182807958249,
          0.3978660901584864,
          0.3939060400905029,
          0.43556223347813594,
          0.41741548037594245,
          0.39990481848254056,
          0.36945759220425894,
          0.4009467765305685,
          0.39026985048428153,
          0.374242835290118,
          0.39618626626172765,
          0.34281524954452897,
          0.34891502622207676,
          0.38995108452626,
          0.3375231555903986,
          0.3965990932502934,
          0.38762522153723833,
          0.3936105668697691,
          0.19695848736443516
         ],
         "yaxis": "y"
        },
        {
         "connectgaps": true,
         "marker": {
          "color": "rgb(33,113,181)"
         },
         "mode": "lines+markers",
         "name": "Mean Perc BP Converted",
         "textposition": "top center",
         "type": "scatter",
         "x": [
          2000,
          2001,
          2002,
          2003,
          2004,
          2005,
          2006,
          2007,
          2008,
          2009,
          2010,
          2011,
          2012,
          2013,
          2014,
          2015,
          2016,
          2017,
          2018,
          2019,
          2020
         ],
         "xaxis": "x",
         "y": [
          0.32407407407407407,
          0.36879432624113473,
          0.3778877887788779,
          0.4086471408647141,
          0.4078549848942598,
          0.44505494505494503,
          0.4267877412031782,
          0.41384615384615386,
          0.3827683615819209,
          0.41594454072790293,
          0.40217391304347827,
          0.38924050632911394,
          0.40930232558139534,
          0.35845896147403683,
          0.3624454148471616,
          0.40439932318104904,
          0.3817427385892116,
          0.4133611691022965,
          0.4054669703872437,
          0.4109311740890688,
          0.37681159420289856
         ],
         "yaxis": "y"
        },
        {
         "domain": {
          "x": [
           0.6599999999999999,
           0.94
          ],
          "y": [
           0.825,
           1
          ]
         },
         "labels": [
          "BP Converted",
          "BP Not Converted"
         ],
         "marker": {
          "colors": [
           "seagreen",
           "indianred"
          ],
          "line": {
           "color": "white",
           "width": 1
          }
         },
         "type": "pie",
         "values": [
          4788,
          7255
         ]
        },
        {
         "line": {
          "color": "darksalmon",
          "width": 1
         },
         "mode": "lines",
         "name": "Upper Band",
         "type": "scatter",
         "x": [
          2000,
          2001,
          2002,
          2003,
          2004,
          2005,
          2006,
          2007,
          2008,
          2009,
          2010,
          2011,
          2012,
          2013,
          2014,
          2015,
          2016,
          2017,
          2018,
          2019,
          2020
         ],
         "xaxis": "x2",
         "y": [
          0.6801240299866232,
          0.6973876876880778,
          0.6900139562247998,
          0.6818920219253359,
          0.7547435618678064,
          0.6600192203246368,
          0.7160415345005289,
          0.6860369657001759,
          0.705925907953739,
          0.71322008662787,
          0.7068819785864305,
          0.6790984051677033,
          0.7095586912012961,
          0.683412669007322,
          0.7283169884595024,
          0.7148682029929789,
          0.708329707549799,
          0.7175331838089024,
          0.7207060438503803,
          0.7426946859617564,
          0.8952199803761178
         ],
         "yaxis": "y2"
        },
        {
         "fill": "tonexty",
         "line": {
          "color": "darksalmon",
          "width": 1
         },
         "mode": "lines",
         "name": "Lower Band",
         "type": "scatter",
         "x": [
          2000,
          2001,
          2002,
          2003,
          2004,
          2005,
          2006,
          2007,
          2008,
          2009,
          2010,
          2011,
          2012,
          2013,
          2014,
          2015,
          2016,
          2017,
          2018,
          2019,
          2020
         ],
         "xaxis": "x2",
         "y": [
          0.6230674593750788,
          0.6447175754698169,
          0.6433193771085335,
          0.6336159994650383,
          0.697888017079562,
          0.6182682414490636,
          0.677442174772654,
          0.6321448524816422,
          0.6540740920462611,
          0.66177991337213,
          0.6586769338002764,
          0.6167817446450309,
          0.6616787669926838,
          0.6354727799090866,
          0.6756565214742725,
          0.6535528496386,
          0.5694480702279787,
          0.6357006470368688,
          0.6472184844515065,
          0.6787929173440287,
          0.4526061065804039
         ],
         "yaxis": "y2"
        },
        {
         "connectgaps": true,
         "marker": {
          "color": "rgb(217,71,1)"
         },
         "mode": "lines+markers",
         "name": "Mean Perc BP Saved",
         "textposition": "top center",
         "type": "scatter",
         "x": [
          2000,
          2001,
          2002,
          2003,
          2004,
          2005,
          2006,
          2007,
          2008,
          2009,
          2010,
          2011,
          2012,
          2013,
          2014,
          2015,
          2016,
          2017,
          2018,
          2019,
          2020
         ],
         "xaxis": "x2",
         "y": [
          0.651595744680851,
          0.6710526315789473,
          0.6666666666666666,
          0.6577540106951871,
          0.7263157894736842,
          0.6391437308868502,
          0.6967418546365914,
          0.6590909090909091,
          0.68,
          0.6875,
          0.6827794561933535,
          0.6479400749063671,
          0.68561872909699,
          0.6594427244582043,
          0.7019867549668874,
          0.6842105263157895,
          0.6388888888888888,
          0.6766169154228856,
          0.6839622641509434,
          0.7107438016528925,
          0.6739130434782609
         ],
         "yaxis": "y2"
        },
        {
         "domain": {
          "x": [
           0,
           0.27999999999999997
          ],
          "y": [
           0.55,
           0.7250000000000001
          ]
         },
         "labels": [
          "BP Saved",
          "BP Lost"
         ],
         "marker": {
          "colors": [
           "seagreen",
           "indianred"
          ],
          "line": {
           "color": "white",
           "width": 1
          }
         },
         "type": "pie",
         "values": [
          4150,
          1994
         ]
        },
        {
         "marker": {
          "color": "seagreen"
         },
         "name": "TieBreak Won",
         "opacity": 0.8,
         "text": [
          13,
          24,
          16,
          24,
          20,
          28,
          37,
          27,
          24,
          26,
          21,
          19,
          21,
          15,
          24,
          17,
          9,
          21,
          19,
          19,
          3
         ],
         "textfont": {
          "size": 8
         },
         "textposition": "inside",
         "type": "bar",
         "x": [
          2000,
          2001,
          2002,
          2003,
          2004,
          2005,
          2006,
          2007,
          2008,
          2009,
          2010,
          2011,
          2012,
          2013,
          2014,
          2015,
          2016,
          2017,
          2018,
          2019,
          2020
         ],
         "xaxis": "x3",
         "y": [
          13,
          24,
          16,
          24,
          20,
          28,
          37,
          27,
          24,
          26,
          21,
          19,
          21,
          15,
          24,
          17,
          9,
          21,
          19,
          19,
          3
         ],
         "yaxis": "y3"
        },
        {
         "marker": {
          "color": "indianred"
         },
         "name": "TieBreak Lost",
         "opacity": 0.8,
         "text": [
          14,
          17,
          12,
          16,
          5,
          11,
          14,
          9,
          13,
          11,
          10,
          9,
          14,
          11,
          14,
          13,
          5,
          9,
          12,
          5,
          1
         ],
         "textfont": {
          "size": 8
         },
         "textposition": "inside",
         "type": "bar",
         "x": [
          2000,
          2001,
          2002,
          2003,
          2004,
          2005,
          2006,
          2007,
          2008,
          2009,
          2010,
          2011,
          2012,
          2013,
          2014,
          2015,
          2016,
          2017,
          2018,
          2019,
          2020
         ],
         "xaxis": "x3",
         "y": [
          14,
          17,
          12,
          16,
          5,
          11,
          14,
          9,
          13,
          11,
          10,
          9,
          14,
          11,
          14,
          13,
          5,
          9,
          12,
          5,
          1
         ],
         "yaxis": "y3"
        },
        {
         "line": {
          "color": "midnightblue",
          "width": 2
         },
         "mode": "lines+text",
         "name": "Win Rate",
         "text": [
          0.48,
          0.59,
          0.57,
          0.6,
          0.8,
          0.72,
          0.73,
          0.75,
          0.65,
          0.7,
          0.68,
          0.68,
          0.6,
          0.58,
          0.63,
          0.57,
          0.64,
          0.7,
          0.61,
          0.79,
          0.75
         ],
         "textfont": {
          "size": 8
         },
         "textposition": "top center",
         "type": "scatter",
         "x": [
          2000,
          2001,
          2002,
          2003,
          2004,
          2005,
          2006,
          2007,
          2008,
          2009,
          2010,
          2011,
          2012,
          2013,
          2014,
          2015,
          2016,
          2017,
          2018,
          2019,
          2020
         ],
         "xaxis": "x3",
         "y": [
          0.48148148148148145,
          0.5853658536585366,
          0.5714285714285714,
          0.6,
          0.8,
          0.717948717948718,
          0.7254901960784313,
          0.75,
          0.6486486486486487,
          0.7027027027027027,
          0.6774193548387096,
          0.6785714285714286,
          0.6,
          0.5769230769230769,
          0.631578947368421,
          0.5666666666666667,
          0.6428571428571429,
          0.7,
          0.6129032258064516,
          0.7916666666666666,
          0.75
         ],
         "yaxis": "y4"
        },
        {
         "domain": {
          "x": [
           0.6599999999999999,
           0.94
          ],
          "y": [
           0.275,
           0.45
          ]
         },
         "labels": [
          "TB Won",
          "TP Lost"
         ],
         "marker": {
          "colors": [
           "seagreen",
           "indianred"
          ],
          "line": {
           "color": "white",
           "width": 1
          }
         },
         "type": "pie",
         "values": [
          427,
          225
         ]
        },
        {
         "marker": {
          "color": "seagreen"
         },
         "name": "Deciding Sets Won",
         "opacity": 0.8,
         "text": [
          13,
          24,
          16,
          24,
          20,
          28,
          37,
          27,
          24,
          26,
          21,
          19,
          21,
          15,
          24,
          17,
          9,
          21,
          19,
          19,
          3
         ],
         "textfont": {
          "size": 8
         },
         "textposition": "inside",
         "type": "bar",
         "x": [
          2000,
          2001,
          2002,
          2003,
          2004,
          2005,
          2006,
          2007,
          2008,
          2009,
          2010,
          2011,
          2012,
          2013,
          2014,
          2015,
          2016,
          2017,
          2018,
          2019,
          2020
         ],
         "xaxis": "x4",
         "y": [
          8,
          16,
          9,
          14,
          11,
          15,
          18,
          11,
          11,
          10,
          12,
          6,
          14,
          14,
          16,
          9,
          3,
          13,
          12,
          7,
          2
         ],
         "yaxis": "y5"
        },
        {
         "marker": {
          "color": "indianred"
         },
         "name": "Deciding Sets Lost",
         "opacity": 0.8,
         "text": [
          14,
          17,
          12,
          16,
          5,
          11,
          14,
          9,
          13,
          11,
          10,
          9,
          14,
          11,
          14,
          13,
          5,
          9,
          12,
          5,
          1
         ],
         "textfont": {
          "size": 8
         },
         "textposition": "inside",
         "type": "bar",
         "x": [
          2000,
          2001,
          2002,
          2003,
          2004,
          2005,
          2006,
          2007,
          2008,
          2009,
          2010,
          2011,
          2012,
          2013,
          2014,
          2015,
          2016,
          2017,
          2018,
          2019,
          2020
         ],
         "xaxis": "x4",
         "y": [
          10,
          7,
          10,
          7,
          2,
          3,
          2,
          4,
          9,
          11,
          6,
          6,
          3,
          9,
          6,
          4,
          4,
          3,
          5,
          5,
          0
         ],
         "yaxis": "y5"
        },
        {
         "line": {
          "color": "midnightblue",
          "width": 2
         },
         "mode": "lines+text",
         "name": "Win Rate",
         "text": [
          0.48,
          0.59,
          0.57,
          0.6,
          0.8,
          0.72,
          0.73,
          0.75,
          0.65,
          0.7,
          0.68,
          0.68,
          0.6,
          0.58,
          0.63,
          0.57,
          0.64,
          0.7,
          0.61,
          0.79,
          0.75
         ],
         "textfont": {
          "size": 8
         },
         "textposition": "top center",
         "type": "scatter",
         "x": [
          2000,
          2001,
          2002,
          2003,
          2004,
          2005,
          2006,
          2007,
          2008,
          2009,
          2010,
          2011,
          2012,
          2013,
          2014,
          2015,
          2016,
          2017,
          2018,
          2019,
          2020
         ],
         "xaxis": "x4",
         "y": [
          0.4444444444444444,
          0.6956521739130435,
          0.47368421052631576,
          0.6666666666666666,
          0.8461538461538461,
          0.8333333333333334,
          0.9,
          0.7333333333333333,
          0.55,
          0.47619047619047616,
          0.6666666666666666,
          0.5,
          0.8235294117647058,
          0.6086956521739131,
          0.7272727272727273,
          0.6923076923076923,
          0.42857142857142855,
          0.8125,
          0.7058823529411765,
          0.5833333333333334,
          1
         ],
         "yaxis": "y6"
        },
        {
         "domain": {
          "x": [
           0,
           0.27999999999999997
          ],
          "y": [
           0,
           0.175
          ]
         },
         "labels": [
          "Deciding Set Won",
          "Deciding Set Lost"
         ],
         "marker": {
          "colors": [
           "seagreen",
           "indianred"
          ],
          "line": {
           "color": "white",
           "width": 1
          }
         },
         "type": "pie",
         "values": [
          231,
          116
         ]
        }
       ],
       "layout": {
        "annotations": [
         {
          "font": {
           "size": 16
          },
          "showarrow": false,
          "text": "Percentage BreakPoint Converted by Year",
          "x": 0.30499999999999994,
          "xanchor": "center",
          "xref": "paper",
          "y": 1,
          "yanchor": "bottom",
          "yref": "paper"
         },
         {
          "font": {
           "size": 16
          },
          "showarrow": false,
          "text": "Perc. BreakPoint Converted Overall",
          "x": 0.7999999999999999,
          "xanchor": "center",
          "xref": "paper",
          "y": 1,
          "yanchor": "bottom",
          "yref": "paper"
         },
         {
          "font": {
           "size": 16
          },
          "showarrow": false,
          "text": "Perc. BreakPoint Saved Overall",
          "x": 0.13999999999999999,
          "xanchor": "center",
          "xref": "paper",
          "y": 0.7250000000000001,
          "yanchor": "bottom",
          "yref": "paper"
         },
         {
          "font": {
           "size": 16
          },
          "showarrow": false,
          "text": "Percentage BreakPoint Saved by Year",
          "x": 0.635,
          "xanchor": "center",
          "xref": "paper",
          "y": 0.7250000000000001,
          "yanchor": "bottom",
          "yref": "paper"
         },
         {
          "font": {
           "size": 16
          },
          "showarrow": false,
          "text": "TieBreak Won by Year",
          "x": 0.30499999999999994,
          "xanchor": "center",
          "xref": "paper",
          "y": 0.45,
          "yanchor": "bottom",
          "yref": "paper"
         },
         {
          "font": {
           "size": 16
          },
          "showarrow": false,
          "text": "TieBreak Won Overall",
          "x": 0.7999999999999999,
          "xanchor": "center",
          "xref": "paper",
          "y": 0.45,
          "yanchor": "bottom",
          "yref": "paper"
         },
         {
          "font": {
           "size": 16
          },
          "showarrow": false,
          "text": "Deciding Sets Won Overall",
          "x": 0.13999999999999999,
          "xanchor": "center",
          "xref": "paper",
          "y": 0.175,
          "yanchor": "bottom",
          "yref": "paper"
         },
         {
          "font": {
           "size": 16
          },
          "showarrow": false,
          "text": "Deciding Sets Won by Year",
          "x": 0.635,
          "xanchor": "center",
          "xref": "paper",
          "y": 0.175,
          "yanchor": "bottom",
          "yref": "paper"
         }
        ],
        "barmode": "stack",
        "height": 1000,
        "showlegend": false,
        "template": {
         "data": {
          "bar": [
           {
            "error_x": {
             "color": "#2a3f5f"
            },
            "error_y": {
             "color": "#2a3f5f"
            },
            "marker": {
             "line": {
              "color": "#E5ECF6",
              "width": 0.5
             }
            },
            "type": "bar"
           }
          ],
          "barpolar": [
           {
            "marker": {
             "line": {
              "color": "#E5ECF6",
              "width": 0.5
             }
            },
            "type": "barpolar"
           }
          ],
          "carpet": [
           {
            "aaxis": {
             "endlinecolor": "#2a3f5f",
             "gridcolor": "white",
             "linecolor": "white",
             "minorgridcolor": "white",
             "startlinecolor": "#2a3f5f"
            },
            "baxis": {
             "endlinecolor": "#2a3f5f",
             "gridcolor": "white",
             "linecolor": "white",
             "minorgridcolor": "white",
             "startlinecolor": "#2a3f5f"
            },
            "type": "carpet"
           }
          ],
          "choropleth": [
           {
            "colorbar": {
             "outlinewidth": 0,
             "ticks": ""
            },
            "type": "choropleth"
           }
          ],
          "contour": [
           {
            "colorbar": {
             "outlinewidth": 0,
             "ticks": ""
            },
            "colorscale": [
             [
              0,
              "#0d0887"
             ],
             [
              0.1111111111111111,
              "#46039f"
             ],
             [
              0.2222222222222222,
              "#7201a8"
             ],
             [
              0.3333333333333333,
              "#9c179e"
             ],
             [
              0.4444444444444444,
              "#bd3786"
             ],
             [
              0.5555555555555556,
              "#d8576b"
             ],
             [
              0.6666666666666666,
              "#ed7953"
             ],
             [
              0.7777777777777778,
              "#fb9f3a"
             ],
             [
              0.8888888888888888,
              "#fdca26"
             ],
             [
              1,
              "#f0f921"
             ]
            ],
            "type": "contour"
           }
          ],
          "contourcarpet": [
           {
            "colorbar": {
             "outlinewidth": 0,
             "ticks": ""
            },
            "type": "contourcarpet"
           }
          ],
          "heatmap": [
           {
            "colorbar": {
             "outlinewidth": 0,
             "ticks": ""
            },
            "colorscale": [
             [
              0,
              "#0d0887"
             ],
             [
              0.1111111111111111,
              "#46039f"
             ],
             [
              0.2222222222222222,
              "#7201a8"
             ],
             [
              0.3333333333333333,
              "#9c179e"
             ],
             [
              0.4444444444444444,
              "#bd3786"
             ],
             [
              0.5555555555555556,
              "#d8576b"
             ],
             [
              0.6666666666666666,
              "#ed7953"
             ],
             [
              0.7777777777777778,
              "#fb9f3a"
             ],
             [
              0.8888888888888888,
              "#fdca26"
             ],
             [
              1,
              "#f0f921"
             ]
            ],
            "type": "heatmap"
           }
          ],
          "heatmapgl": [
           {
            "colorbar": {
             "outlinewidth": 0,
             "ticks": ""
            },
            "colorscale": [
             [
              0,
              "#0d0887"
             ],
             [
              0.1111111111111111,
              "#46039f"
             ],
             [
              0.2222222222222222,
              "#7201a8"
             ],
             [
              0.3333333333333333,
              "#9c179e"
             ],
             [
              0.4444444444444444,
              "#bd3786"
             ],
             [
              0.5555555555555556,
              "#d8576b"
             ],
             [
              0.6666666666666666,
              "#ed7953"
             ],
             [
              0.7777777777777778,
              "#fb9f3a"
             ],
             [
              0.8888888888888888,
              "#fdca26"
             ],
             [
              1,
              "#f0f921"
             ]
            ],
            "type": "heatmapgl"
           }
          ],
          "histogram": [
           {
            "marker": {
             "colorbar": {
              "outlinewidth": 0,
              "ticks": ""
             }
            },
            "type": "histogram"
           }
          ],
          "histogram2d": [
           {
            "colorbar": {
             "outlinewidth": 0,
             "ticks": ""
            },
            "colorscale": [
             [
              0,
              "#0d0887"
             ],
             [
              0.1111111111111111,
              "#46039f"
             ],
             [
              0.2222222222222222,
              "#7201a8"
             ],
             [
              0.3333333333333333,
              "#9c179e"
             ],
             [
              0.4444444444444444,
              "#bd3786"
             ],
             [
              0.5555555555555556,
              "#d8576b"
             ],
             [
              0.6666666666666666,
              "#ed7953"
             ],
             [
              0.7777777777777778,
              "#fb9f3a"
             ],
             [
              0.8888888888888888,
              "#fdca26"
             ],
             [
              1,
              "#f0f921"
             ]
            ],
            "type": "histogram2d"
           }
          ],
          "histogram2dcontour": [
           {
            "colorbar": {
             "outlinewidth": 0,
             "ticks": ""
            },
            "colorscale": [
             [
              0,
              "#0d0887"
             ],
             [
              0.1111111111111111,
              "#46039f"
             ],
             [
              0.2222222222222222,
              "#7201a8"
             ],
             [
              0.3333333333333333,
              "#9c179e"
             ],
             [
              0.4444444444444444,
              "#bd3786"
             ],
             [
              0.5555555555555556,
              "#d8576b"
             ],
             [
              0.6666666666666666,
              "#ed7953"
             ],
             [
              0.7777777777777778,
              "#fb9f3a"
             ],
             [
              0.8888888888888888,
              "#fdca26"
             ],
             [
              1,
              "#f0f921"
             ]
            ],
            "type": "histogram2dcontour"
           }
          ],
          "mesh3d": [
           {
            "colorbar": {
             "outlinewidth": 0,
             "ticks": ""
            },
            "type": "mesh3d"
           }
          ],
          "parcoords": [
           {
            "line": {
             "colorbar": {
              "outlinewidth": 0,
              "ticks": ""
             }
            },
            "type": "parcoords"
           }
          ],
          "pie": [
           {
            "automargin": true,
            "type": "pie"
           }
          ],
          "scatter": [
           {
            "marker": {
             "colorbar": {
              "outlinewidth": 0,
              "ticks": ""
             }
            },
            "type": "scatter"
           }
          ],
          "scatter3d": [
           {
            "line": {
             "colorbar": {
              "outlinewidth": 0,
              "ticks": ""
             }
            },
            "marker": {
             "colorbar": {
              "outlinewidth": 0,
              "ticks": ""
             }
            },
            "type": "scatter3d"
           }
          ],
          "scattercarpet": [
           {
            "marker": {
             "colorbar": {
              "outlinewidth": 0,
              "ticks": ""
             }
            },
            "type": "scattercarpet"
           }
          ],
          "scattergeo": [
           {
            "marker": {
             "colorbar": {
              "outlinewidth": 0,
              "ticks": ""
             }
            },
            "type": "scattergeo"
           }
          ],
          "scattergl": [
           {
            "marker": {
             "colorbar": {
              "outlinewidth": 0,
              "ticks": ""
             }
            },
            "type": "scattergl"
           }
          ],
          "scattermapbox": [
           {
            "marker": {
             "colorbar": {
              "outlinewidth": 0,
              "ticks": ""
             }
            },
            "type": "scattermapbox"
           }
          ],
          "scatterpolar": [
           {
            "marker": {
             "colorbar": {
              "outlinewidth": 0,
              "ticks": ""
             }
            },
            "type": "scatterpolar"
           }
          ],
          "scatterpolargl": [
           {
            "marker": {
             "colorbar": {
              "outlinewidth": 0,
              "ticks": ""
             }
            },
            "type": "scatterpolargl"
           }
          ],
          "scatterternary": [
           {
            "marker": {
             "colorbar": {
              "outlinewidth": 0,
              "ticks": ""
             }
            },
            "type": "scatterternary"
           }
          ],
          "surface": [
           {
            "colorbar": {
             "outlinewidth": 0,
             "ticks": ""
            },
            "colorscale": [
             [
              0,
              "#0d0887"
             ],
             [
              0.1111111111111111,
              "#46039f"
             ],
             [
              0.2222222222222222,
              "#7201a8"
             ],
             [
              0.3333333333333333,
              "#9c179e"
             ],
             [
              0.4444444444444444,
              "#bd3786"
             ],
             [
              0.5555555555555556,
              "#d8576b"
             ],
             [
              0.6666666666666666,
              "#ed7953"
             ],
             [
              0.7777777777777778,
              "#fb9f3a"
             ],
             [
              0.8888888888888888,
              "#fdca26"
             ],
             [
              1,
              "#f0f921"
             ]
            ],
            "type": "surface"
           }
          ],
          "table": [
           {
            "cells": {
             "fill": {
              "color": "#EBF0F8"
             },
             "line": {
              "color": "white"
             }
            },
            "header": {
             "fill": {
              "color": "#C8D4E3"
             },
             "line": {
              "color": "white"
             }
            },
            "type": "table"
           }
          ]
         },
         "layout": {
          "annotationdefaults": {
           "arrowcolor": "#2a3f5f",
           "arrowhead": 0,
           "arrowwidth": 1
          },
          "coloraxis": {
           "colorbar": {
            "outlinewidth": 0,
            "ticks": ""
           }
          },
          "colorscale": {
           "diverging": [
            [
             0,
             "#8e0152"
            ],
            [
             0.1,
             "#c51b7d"
            ],
            [
             0.2,
             "#de77ae"
            ],
            [
             0.3,
             "#f1b6da"
            ],
            [
             0.4,
             "#fde0ef"
            ],
            [
             0.5,
             "#f7f7f7"
            ],
            [
             0.6,
             "#e6f5d0"
            ],
            [
             0.7,
             "#b8e186"
            ],
            [
             0.8,
             "#7fbc41"
            ],
            [
             0.9,
             "#4d9221"
            ],
            [
             1,
             "#276419"
            ]
           ],
           "sequential": [
            [
             0,
             "#0d0887"
            ],
            [
             0.1111111111111111,
             "#46039f"
            ],
            [
             0.2222222222222222,
             "#7201a8"
            ],
            [
             0.3333333333333333,
             "#9c179e"
            ],
            [
             0.4444444444444444,
             "#bd3786"
            ],
            [
             0.5555555555555556,
             "#d8576b"
            ],
            [
             0.6666666666666666,
             "#ed7953"
            ],
            [
             0.7777777777777778,
             "#fb9f3a"
            ],
            [
             0.8888888888888888,
             "#fdca26"
            ],
            [
             1,
             "#f0f921"
            ]
           ],
           "sequentialminus": [
            [
             0,
             "#0d0887"
            ],
            [
             0.1111111111111111,
             "#46039f"
            ],
            [
             0.2222222222222222,
             "#7201a8"
            ],
            [
             0.3333333333333333,
             "#9c179e"
            ],
            [
             0.4444444444444444,
             "#bd3786"
            ],
            [
             0.5555555555555556,
             "#d8576b"
            ],
            [
             0.6666666666666666,
             "#ed7953"
            ],
            [
             0.7777777777777778,
             "#fb9f3a"
            ],
            [
             0.8888888888888888,
             "#fdca26"
            ],
            [
             1,
             "#f0f921"
            ]
           ]
          },
          "colorway": [
           "#636efa",
           "#EF553B",
           "#00cc96",
           "#ab63fa",
           "#FFA15A",
           "#19d3f3",
           "#FF6692",
           "#B6E880",
           "#FF97FF",
           "#FECB52"
          ],
          "font": {
           "color": "#2a3f5f"
          },
          "geo": {
           "bgcolor": "white",
           "lakecolor": "white",
           "landcolor": "#E5ECF6",
           "showlakes": true,
           "showland": true,
           "subunitcolor": "white"
          },
          "hoverlabel": {
           "align": "left"
          },
          "hovermode": "closest",
          "mapbox": {
           "style": "light"
          },
          "paper_bgcolor": "white",
          "plot_bgcolor": "#E5ECF6",
          "polar": {
           "angularaxis": {
            "gridcolor": "white",
            "linecolor": "white",
            "ticks": ""
           },
           "bgcolor": "#E5ECF6",
           "radialaxis": {
            "gridcolor": "white",
            "linecolor": "white",
            "ticks": ""
           }
          },
          "scene": {
           "xaxis": {
            "backgroundcolor": "#E5ECF6",
            "gridcolor": "white",
            "gridwidth": 2,
            "linecolor": "white",
            "showbackground": true,
            "ticks": "",
            "zerolinecolor": "white"
           },
           "yaxis": {
            "backgroundcolor": "#E5ECF6",
            "gridcolor": "white",
            "gridwidth": 2,
            "linecolor": "white",
            "showbackground": true,
            "ticks": "",
            "zerolinecolor": "white"
           },
           "zaxis": {
            "backgroundcolor": "#E5ECF6",
            "gridcolor": "white",
            "gridwidth": 2,
            "linecolor": "white",
            "showbackground": true,
            "ticks": "",
            "zerolinecolor": "white"
           }
          },
          "shapedefaults": {
           "line": {
            "color": "#2a3f5f"
           }
          },
          "ternary": {
           "aaxis": {
            "gridcolor": "white",
            "linecolor": "white",
            "ticks": ""
           },
           "baxis": {
            "gridcolor": "white",
            "linecolor": "white",
            "ticks": ""
           },
           "bgcolor": "#E5ECF6",
           "caxis": {
            "gridcolor": "white",
            "linecolor": "white",
            "ticks": ""
           }
          },
          "title": {
           "x": 0.05
          },
          "xaxis": {
           "automargin": true,
           "gridcolor": "white",
           "linecolor": "white",
           "ticks": "",
           "title": {
            "standoff": 15
           },
           "zerolinecolor": "white",
           "zerolinewidth": 2
          },
          "yaxis": {
           "automargin": true,
           "gridcolor": "white",
           "linecolor": "white",
           "ticks": "",
           "title": {
            "standoff": 15
           },
           "zerolinecolor": "white",
           "zerolinewidth": 2
          }
         }
        },
        "width": 1000,
        "xaxis": {
         "anchor": "y",
         "domain": [
          0,
          0.6099999999999999
         ],
         "title": {
          "text": "Year"
         }
        },
        "xaxis2": {
         "anchor": "y2",
         "domain": [
          0.32999999999999996,
          0.94
         ],
         "title": {
          "text": "Year"
         }
        },
        "xaxis3": {
         "anchor": "y3",
         "domain": [
          0,
          0.6099999999999999
         ],
         "title": {
          "text": "Year"
         }
        },
        "xaxis4": {
         "anchor": "y5",
         "domain": [
          0.32999999999999996,
          0.94
         ],
         "title": {
          "text": "Year"
         }
        },
        "yaxis": {
         "anchor": "x",
         "domain": [
          0.825,
          1
         ],
         "title": {
          "text": "Percentage"
         }
        },
        "yaxis2": {
         "anchor": "x2",
         "domain": [
          0.55,
          0.7250000000000001
         ],
         "side": "right",
         "title": {
          "text": "Percentage"
         }
        },
        "yaxis3": {
         "anchor": "x3",
         "domain": [
          0.275,
          0.45
         ],
         "title": {
          "text": "Num. Tb"
         }
        },
        "yaxis4": {
         "anchor": "x3",
         "overlaying": "y3",
         "side": "right",
         "title": {
          "text": "Percentage"
         }
        },
        "yaxis5": {
         "anchor": "x4",
         "domain": [
          0,
          0.175
         ],
         "title": {
          "text": "Num. Sets"
         }
        },
        "yaxis6": {
         "anchor": "x4",
         "overlaying": "y5",
         "side": "right",
         "title": {
          "text": "Percentage"
         }
        }
       }
      }
     },
     "metadata": {}
    }
   ],
   "source": [
    "def plot_under_pressure(tp):\n",
    "\n",
    "    m = tp.selected_matches\n",
    "    \n",
    "\n",
    "    m_by_year = (m.groupby('year')\n",
    "        .agg(ace = ('ace', np.sum),\n",
    "            df = ('df', np.sum),\n",
    "            svpt = ('svpt', np.sum),\n",
    "            firstIn = ('1stIn', np.sum),\n",
    "            firstInStd = ('1stIn', np.std),\n",
    "            firstWon = ('1stWon', np.sum),\n",
    "            firstWonStd = ('1stWon', np.std),\n",
    "            secondWon = ('2ndWon', np.sum),\n",
    "            secondWonStd = ('2ndWon', np.std), \n",
    "            returnWon = ('returnWon', np.sum),    \n",
    "            returnWonStd = ('returnWon', np.std),    \n",
    "            returnPlayed = ('returnPlayed', np.sum), \n",
    "            bpConverted = ('bpConverted', np.sum),\n",
    "            bpConvertedStd = ('bpConverted', np.std),\n",
    "            bpTotal = ('bpTotal', np.sum),\n",
    "            bpSaved = ('bpSaved', np.sum),\n",
    "            bpSavedStd = ('bpSaved', np.std),\n",
    "            bpFaced = ('bpFaced', np.sum),\n",
    "            tbPlayed = ('tbPlayed', np.sum),\n",
    "            tbWon = ('tbWon', np.sum),\n",
    "            decidingSetPlayed = ('decidingSetPlayed', np.sum),\n",
    "            decidingSetWon = ('decidingSetWon', np.sum))\n",
    "        .assign(meanFirstIn = lambda x: x['firstIn']/x['svpt'])\n",
    "        .assign(stdFirstIn = lambda x: x['firstInStd']/x['firstIn'])\n",
    "        .assign(meanFirstWon = lambda x: x['firstWon']/x['firstIn'])\n",
    "        .assign(stdFirstWon = lambda x: x['firstWonStd']/x['firstWon'])\n",
    "        .assign(meanSecondWon = lambda x: x['secondWon']/(x['svpt'] - x['firstIn']))\n",
    "        .assign(stdSecondWon = lambda x: x['secondWonStd']/x['secondWon'])\n",
    "        .assign(meanReturnWon = lambda x: x['returnWon']/x['returnPlayed'])\n",
    "        .assign(stdReturnWon = lambda x: x['returnWonStd']/x['returnWon'])\n",
    "        .assign(meanBpConverted = lambda x: x['bpConverted']/x['bpTotal'])\n",
    "        .assign(stdBpConverted = lambda x: x['bpConvertedStd']/x['bpConverted'])\n",
    "        .assign(meanBpSaved = lambda x: x['bpSaved']/x['bpFaced'])\n",
    "        .assign(stdBpSaved = lambda x: x['bpSavedStd']/x['bpSaved'])\n",
    "        .assign(tbLost = lambda x: x['tbPlayed'] - x['tbWon'])\n",
    "        .assign(percTbWon = lambda x: x['tbWon']/x['tbPlayed'])\n",
    "        .assign(DecidingSetLost = lambda x: x['decidingSetPlayed'] - x['decidingSetWon'])\n",
    "        .assign(percDecidingSetWon = lambda x: x['decidingSetWon']/x['decidingSetPlayed'])\n",
    "        .reset_index().fillna(0.001)\n",
    "    )\n",
    "       \n",
    "\n",
    "    up_overall = m[['bpFaced', 'bpSaved', 'bpConverted', 'bpTotal', 'tbPlayed', 'tbWon', 'decidingSetPlayed', 'decidingSetWon']].sum()\n",
    "\n",
    "    colors = [\n",
    "        'rgb(33,113,181)',\n",
    "        'rgb(217,71,1)',\n",
    "        'rgb(81, 178, 124)',\n",
    "        'rgb(235, 127, 134)'\n",
    "        ]\n",
    "\n",
    "\n",
    "    fig = make_subplots(\n",
    "        cols=3, rows=4,\n",
    "        specs=[[{'colspan': 2}, None, {'type': 'pie'}],\n",
    "                [{'type': 'pie'}, {'colspan': 2}, None],\n",
    "                [{'colspan': 2, 'secondary_y': True}, None, {'type': 'pie'}],\n",
    "                [{'type': 'pie'}, {'colspan': 2, 'secondary_y': True}, None]],\n",
    "        shared_xaxes=True,\n",
    "        subplot_titles=[\n",
    "                'Percentage BreakPoint Converted by Year',  'Perc. BreakPoint Converted Overall',\n",
    "                'Perc. BreakPoint Saved Overall',  'Percentage BreakPoint Saved by Year',\n",
    "                'TieBreak Won by Year',  'TieBreak Won Overall',\n",
    "                'Deciding Sets Won Overall',  'Deciding Sets Won by Year'\n",
    "                ],\n",
    "        vertical_spacing=0.1,\n",
    "        horizontal_spacing=0.05\n",
    "    )\n",
    "        \n",
    "\n",
    "    x = up_by_year['year']\n",
    "    \n",
    "    # Break Point Converted\n",
    "    fig.add_trace(\n",
    "        go.Scatter(\n",
    "            x=x, y=up_by_year['meanBpConverted'] + 2* up_by_year['stdBpConverted'],\n",
    "            name='Upper Band',\n",
    "            fill=None,\n",
    "            mode='lines',\n",
    "            line=dict(color='darksalmon', width=1)\n",
    "        ),\n",
    "        row=1, col=1\n",
    "    )\n",
    "\n",
    "    fig.add_trace(\n",
    "        go.Scatter(\n",
    "            x=x, y=up_by_year['meanBpConverted'] - 2* up_by_year['stdBpConverted'],\n",
    "            name='Lower Band',\n",
    "            fill='tonexty', # fill area between trace0 and trace1\n",
    "            mode='lines',\n",
    "            line=dict(color='darksalmon', width=1)\n",
    "        ),\n",
    "        row=1, col=1\n",
    "    )\n",
    "\n",
    "    fig.add_trace(\n",
    "        go.Scatter(\n",
    "            x=x, y=up_by_year['meanBpConverted'],\n",
    "            name='Mean Perc BP Converted',\n",
    "            textposition='top center',\n",
    "            mode='lines+markers',\n",
    "            connectgaps=True,\n",
    "            marker={'color': colors[0]},\n",
    "        ),\n",
    "        row=1, col=1\n",
    "    )\n",
    "\n",
    "    fig.add_trace(\n",
    "        go.Pie(\n",
    "            labels=['BP Converted', 'BP Not Converted'],\n",
    "            values=[up_overall['bpConverted'], up_overall['bpTotal'] - up_overall['bpConverted']],\n",
    "            marker={'colors': ['seagreen', 'indianred'],\n",
    "                        'line': {'color':'white', 'width':1}}\n",
    "        ),\n",
    "        row=1, col=3\n",
    "    )\n",
    "\n",
    "\n",
    "    # Break Point Saved\n",
    "    fig.add_trace(\n",
    "        go.Scatter(\n",
    "            x=x, y=up_by_year['meanBpSaved'] + 2* up_by_year['stdBpSaved'],\n",
    "            name='Upper Band',\n",
    "            fill=None,\n",
    "            mode='lines',\n",
    "            line=dict(color='darksalmon', width=1)\n",
    "        ),\n",
    "        row=2, col=2\n",
    "    )\n",
    "\n",
    "    fig.add_trace(\n",
    "        go.Scatter(\n",
    "            x=x, y=up_by_year['meanBpSaved'] - 2* up_by_year['stdBpSaved'],\n",
    "            name='Lower Band',\n",
    "            fill='tonexty', # fill area between trace0 and trace1\n",
    "            mode='lines',\n",
    "            line=dict(color='darksalmon', width=1)\n",
    "        ),\n",
    "        row=2, col=2\n",
    "    )\n",
    "\n",
    "    fig.add_trace(\n",
    "        go.Scatter(\n",
    "            x=x, y=up_by_year['meanBpSaved'],\n",
    "            name='Mean Perc BP Saved',\n",
    "            textposition='top center',\n",
    "            mode='lines+markers',\n",
    "            connectgaps=True,\n",
    "            marker={'color': colors[1]},\n",
    "        ),\n",
    "        row=2, col=2\n",
    "    )\n",
    "    \n",
    "    fig.add_trace(\n",
    "        go.Pie(\n",
    "            labels=['BP Saved', 'BP Lost'],\n",
    "            values=[up_overall['bpSaved'], up_overall['bpFaced'] - up_overall['bpSaved']],\n",
    "            marker={'colors': ['seagreen', 'indianred'],\n",
    "                        'line': {'color':'white', 'width':1}}\n",
    "        ),\n",
    "        row=2, col=1\n",
    "    )\n",
    "    \n",
    "    \n",
    "    \n",
    "    # Tie Break\n",
    "    fig.add_trace(\n",
    "        go.Bar(\n",
    "            x=x, y=up_by_year['tbWon'],\n",
    "            name='TieBreak Won',\n",
    "            marker={'color': 'seagreen'},\n",
    "            text=up_by_year['tbWon'],\n",
    "            textposition='inside',\n",
    "            textfont_size=8,\n",
    "            opacity=0.8\n",
    "        ),\n",
    "        row=3, col=1,\n",
    "        secondary_y=False\n",
    "    )\n",
    "\n",
    "    fig.add_trace(\n",
    "        go.Bar(\n",
    "            x=x, y=up_by_year['tbLost'],\n",
    "            name='TieBreak Lost',\n",
    "            marker={'color': 'indianred'},\n",
    "            text=up_by_year['tbLost'],\n",
    "            textposition='inside',\n",
    "            textfont_size=8,\n",
    "            opacity=0.8\n",
    "        ),\n",
    "        row=3, col=1,\n",
    "        secondary_y=False\n",
    "    )\n",
    "\n",
    "    fig.add_trace(\n",
    "        go.Scatter(\n",
    "            x=x, y=up_by_year['percTbWon'],\n",
    "            name='Win Rate',\n",
    "            line={'color':'midnightblue', 'width':2},\n",
    "            mode='lines+text',\n",
    "            text=up_by_year['percTbWon'].round(2),\n",
    "            textposition='top center',\n",
    "            textfont_size=8\n",
    "        ),\n",
    "        row=3, col=1,\n",
    "        secondary_y=True\n",
    "    )\n",
    "   \n",
    "    fig.add_trace(\n",
    "        go.Pie(\n",
    "            labels=['TB Won', 'TP Lost'],\n",
    "            values=[up_overall['tbWon'], up_overall['tbPlayed'] - up_overall['tbWon']],\n",
    "            marker={'colors': ['seagreen', 'indianred'],\n",
    "                        'line': {'color':'white', 'width':1}}\n",
    "        ),\n",
    "        row=3, col=3\n",
    "    )\n",
    "    \n",
    "    \n",
    "    \n",
    "    # Deciding Set\n",
    "    fig.add_trace(\n",
    "        go.Bar(\n",
    "            x=x, y=up_by_year['decidingSetWon'],\n",
    "            name='Deciding Sets Won',\n",
    "            marker={'color': 'seagreen'},\n",
    "            text=up_by_year['tbWon'],\n",
    "            textposition='inside',\n",
    "            textfont_size=8,\n",
    "            opacity=0.8\n",
    "        ),\n",
    "        row=4, col=2,\n",
    "        secondary_y=False\n",
    "    )\n",
    "\n",
    "    fig.add_trace(\n",
    "        go.Bar(\n",
    "            x=x, y=up_by_year['DecidingSetLost'],\n",
    "            name='Deciding Sets Lost',\n",
    "            marker={'color': 'indianred'},\n",
    "            text=up_by_year['tbLost'],\n",
    "            textposition='inside',\n",
    "            textfont_size=8,\n",
    "            opacity=0.8\n",
    "        ),\n",
    "        row=4, col=2,\n",
    "        secondary_y=False\n",
    "    )\n",
    "    \n",
    "    fig.add_trace(\n",
    "        go.Scatter(\n",
    "            x=x, y=up_by_year['percDecidingSetWon'],\n",
    "            name='Win Rate',\n",
    "            line={'color':'midnightblue', 'width':2},\n",
    "            mode='lines+text',\n",
    "            text=up_by_year['percTbWon'].round(2),\n",
    "            textposition='top center',\n",
    "            textfont_size=8\n",
    "        ),\n",
    "        row=4, col=2,\n",
    "        secondary_y=True\n",
    "    )\n",
    "   \n",
    "    fig.add_trace(\n",
    "        go.Pie(\n",
    "            labels=['Deciding Set Won', 'Deciding Set Lost'],\n",
    "            values=[up_overall['decidingSetWon'], up_overall['decidingSetPlayed'] - up_overall['decidingSetWon']],\n",
    "            marker={'colors': ['seagreen', 'indianred'],\n",
    "                        'line': {'color':'white', 'width':1}}\n",
    "        ),\n",
    "        row=4, col=1\n",
    "    )\n",
    "    \n",
    "\n",
    "    \n",
    "    \n",
    "    # Layout\n",
    "    fig.update_layout(\n",
    "        barmode='stack',\n",
    "            height = 1000, width=1000, \n",
    "            xaxis1={'title': 'Year'}, xaxis2={'title': 'Year'},\n",
    "            xaxis3={'title': 'Year'}, xaxis4={'title': 'Year'},\n",
    "            yaxis={'title': 'Percentage'}, \n",
    "            yaxis2={'title': 'Percentage', 'side':'right'},\n",
    "            yaxis3={'title': 'Num. Tb'}, yaxis4={'title': 'Percentage', 'side':'right'},\n",
    "            yaxis5={'title': 'Num. Sets'}, yaxis6={'title': 'Percentage', 'side':'right'},\n",
    "            showlegend=False\n",
    "        )\n",
    "    return fig\n",
    "\n",
    "plot_under_pressure(tp)"
   ]
  }
 ]
}