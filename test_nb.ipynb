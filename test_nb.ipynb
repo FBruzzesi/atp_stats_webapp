{
 "metadata": {
  "language_info": {
   "codemirror_mode": {
    "name": "ipython",
    "version": 3
   },
   "file_extension": ".py",
   "mimetype": "text/x-python",
   "name": "python",
   "nbconvert_exporter": "python",
   "pygments_lexer": "ipython3",
   "version": "3.8.3-final"
  },
  "orig_nbformat": 2,
  "kernelspec": {
   "name": "python3",
   "display_name": "Python 3"
  }
 },
 "nbformat": 4,
 "nbformat_minor": 2,
 "cells": [
  {
   "cell_type": "code",
   "execution_count": 23,
   "metadata": {},
   "outputs": [
    {
     "output_type": "stream",
     "name": "stdout",
     "text": [
      "The autoreload extension is already loaded. To reload it, use:\n  %reload_ext autoreload\n"
     ]
    }
   ],
   "source": [
    "%load_ext autoreload\n",
    "%autoreload 2\n",
    "\n",
    "import pandas as pd\n",
    "import numpy as np\n",
    "\n",
    "pd.set_option('plotting.backend', 'plotly')\n",
    "from datetime import date, datetime as dt\n",
    "import os, re\n",
    "import plotly.colors\n",
    "import plotly.graph_objects as go, plotly.express as px, plotly.figure_factory as ff\n",
    "from plotly.offline import init_notebook_mode\n",
    "from plotly.subplots import make_subplots\n",
    "\n",
    "from statsmodels.stats.proportion import proportion_confint\n",
    "\n",
    "from tennis_utils.player import TennisDataLoader, TennisPlayerDataLoader, TennisPlayer\n",
    "from tennis_utils.scrapers import SackmanScraper\n"
   ]
  },
  {
   "cell_type": "code",
   "execution_count": 24,
   "metadata": {},
   "outputs": [],
   "source": [
    "\n",
    "player_name = 'Roger Federer'\n",
    "data_path = os.getcwd()+'/data'\n",
    "\n",
    "tdl = TennisDataLoader(data_path+'/matches.parquet', data_path+'/players.parquet')\n",
    "matches_df, players_df = tdl.matches, tdl.players\n",
    "\n",
    "tpdl = TennisPlayerDataLoader(player_name, matches_df, players_df)\n",
    "\n",
    "# Subset selected player matches data\n",
    "player_matches = tpdl.player_matches #matches_df[matches_df['player_name'] == player_name]\n",
    "player_details = tpdl.player_details #players_df[players_df['player_name']==player_name]\n",
    "player_rank = tpdl.player_rank\n",
    "\n",
    "tp = TennisPlayer(player_name, player_matches, player_rank, player_details)#, rounds=['F'])\n",
    "m = tp.selected_matches     \n"
   ]
  },
  {
   "cell_type": "code",
   "execution_count": 25,
   "metadata": {},
   "outputs": [
    {
     "output_type": "execute_result",
     "data": {
      "text/plain": [
       "'\\nhttps://en.wikipedia.org/wiki/Binomial_proportion_confidence_interval\\nhttps://www.statsmodels.org/dev/generated/statsmodels.stats.proportion.proportion_confint.html\\nhttps://www.ucl.ac.uk/english-usage/staff/sean/resources/binomialpoisson.pdf\\n'"
      ]
     },
     "metadata": {},
     "execution_count": 25
    }
   ],
   "source": [
    "\"\"\"\n",
    "https://en.wikipedia.org/wiki/Binomial_proportion_confidence_interval\n",
    "https://www.statsmodels.org/dev/generated/statsmodels.stats.proportion.proportion_confint.html\n",
    "https://www.ucl.ac.uk/english-usage/staff/sean/resources/binomialpoisson.pdf\n",
    "\"\"\""
   ]
  },
  {
   "cell_type": "code",
   "execution_count": 31,
   "metadata": {},
   "outputs": [],
   "source": [
    "stats_by_year = (m.groupby('year')\n",
    "            .agg(\n",
    "                matches_played=('winner', np.size),\n",
    "                matches_won=('winner', np.sum),\n",
    "                ace = ('ace', np.sum),\n",
    "                df = ('df', np.sum),\n",
    "                svpt = ('svpt', np.sum),\n",
    "                firstIn = ('firstIn', np.sum),\n",
    "                firstWon = ('firstWon', np.sum),\n",
    "                secondIn = ('secondIn', np.sum),\n",
    "                secondWon = ('secondWon', np.sum),\n",
    "                returnWon = ('returnWon', np.sum),    \n",
    "                returnPlayed = ('returnPlayed', np.sum), \n",
    "                bpConverted = ('bpConverted', np.sum),\n",
    "                bpTotal = ('bpTotal', np.sum),\n",
    "                bpSaved = ('bpSaved', np.sum),\n",
    "                bpFaced = ('bpFaced', np.sum),\n",
    "                tbPlayed = ('tbPlayed', np.sum),\n",
    "                tbWon = ('tbWon', np.sum),\n",
    "                decidingSetPlayed = ('decidingSetPlayed', np.sum),\n",
    "                decidingSetWon = ('decidingSetWon', np.sum))\n",
    "            .assign(matches_lost = lambda x: x['matches_played'] - x['matches_won'])\n",
    "            .assign(win_rate = lambda x: x['matches_won']/x['matches_played'])\n",
    "            .assign(perc_ace = lambda x: x['ace']/x['svpt'])\n",
    "            .assign(perc_df = lambda x: x['df']/x['svpt'])\n",
    "            .assign(perc_firstIn = lambda x: x['firstIn']/x['svpt'])\n",
    "            .assign(perc_firstWon = lambda x: x['firstWon']/x['firstIn'])\n",
    "            .assign(perc_secondWon = lambda x: x['secondWon']/x['secondIn'])\n",
    "            .assign(perc_returnWon = lambda x: x['returnWon']/x['returnPlayed'])\n",
    "            .assign(perc_bpConverted = lambda x: x['bpConverted']/x['bpTotal'])\n",
    "            .assign(perc_bpSaved = lambda x: x['bpSaved']/x['bpFaced'])\n",
    "            .assign(tbLost = lambda x: x['tbPlayed'] - x['tbWon'])\n",
    "            .assign(perc_tbWon = lambda x: x['tbWon']/x['tbPlayed'])\n",
    "            .assign(decidingSetLost = lambda x: x['decidingSetPlayed'] - x['decidingSetWon'])\n",
    "            .assign(perc_decidingSetWon = lambda x: x['decidingSetWon']/x['decidingSetPlayed'])\n",
    "            .reset_index()\n",
    "        )"
   ]
  },
  {
   "cell_type": "code",
   "execution_count": 32,
   "metadata": {},
   "outputs": [],
   "source": [
    "success_cols = ['ace', 'df', 'firstIn', 'firstWon', 'secondWon', 'returnWon', 'bpConverted', 'bpSaved', 'tbWon', 'decidingSetWon']\n",
    "total_cols = ['svpt', 'svpt', 'svpt', 'firstIn', 'secondIn', 'returnPlayed', 'bpTotal', 'bpFaced', 'tbPlayed', 'decidingSetPlayed']\n",
    "\n",
    "lower_df, upper_df = proportion_confint(\n",
    "    stats_by_year[success_cols], \n",
    "    stats_by_year[total_cols],\n",
    "    method='wilson'\n",
    "    )\n",
    "\n",
    "lower_df.columns = [f'lower_{c}' for c in success_cols]\n",
    "upper_df.columns = [f'upper_{c}' for c in success_cols]"
   ]
  },
  {
   "cell_type": "code",
   "execution_count": 62,
   "metadata": {},
   "outputs": [
    {
     "output_type": "execute_result",
     "data": {
      "text/plain": [
       "1165      NaN\n",
       "1194      NaN\n",
       "6         NaN\n",
       "5191      NaN\n",
       "5267      NaN\n",
       "         ... \n",
       "261978    NaN\n",
       "262056    1.0\n",
       "262085    NaN\n",
       "262095    1.0\n",
       "262100    NaN\n",
       "Name: decidingSetWon, Length: 1415, dtype: float64"
      ]
     },
     "metadata": {},
     "execution_count": 62
    }
   ],
   "source": [
    "m['decidingSetWon']"
   ]
  },
  {
   "cell_type": "code",
   "execution_count": 63,
   "metadata": {},
   "outputs": [],
   "source": [
    "success_overall = pd.Series(m[success_cols].fillna(0).to_numpy().sum(axis=0), index=[f'success_{c}' for c in success_cols]) \n",
    "total_overall = pd.Series(m[total_cols].to_numpy().sum(axis=0), index=[f'total_{c}' for c in success_cols])"
   ]
  },
  {
   "cell_type": "code",
   "execution_count": 64,
   "metadata": {},
   "outputs": [
    {
     "output_type": "execute_result",
     "data": {
      "text/plain": [
       "(success_ace               11162.0\n",
       " success_df                 2622.0\n",
       " success_firstIn           68475.0\n",
       " success_firstWon          53054.0\n",
       " success_secondWon         23738.0\n",
       " success_returnWon         47099.0\n",
       " success_bpConverted        4788.0\n",
       " success_bpSaved            4150.0\n",
       " success_tbWon               427.0\n",
       " success_decidingSetWon      231.0\n",
       " dtype: float64,\n",
       " total_ace               110107\n",
       " total_df                110107\n",
       " total_firstIn           110107\n",
       " total_firstWon           68475\n",
       " total_secondWon          39010\n",
       " total_returnWon         118206\n",
       " total_bpConverted        12043\n",
       " total_bpSaved             6144\n",
       " total_tbWon                652\n",
       " total_decidingSetWon       347\n",
       " dtype: int64)"
      ]
     },
     "metadata": {},
     "execution_count": 64
    }
   ],
   "source": [
    "success_overall, total_overall"
   ]
  },
  {
   "cell_type": "code",
   "execution_count": null,
   "metadata": {},
   "outputs": [],
   "source": []
  },
  {
   "cell_type": "code",
   "execution_count": 65,
   "metadata": {},
   "outputs": [
    {
     "output_type": "execute_result",
     "data": {
      "text/plain": [
       "[[{'colspan': 2}, None, {'type': 'pie'}],\n",
       " [{'type': 'pie'}, {'colspan': 2}, None],\n",
       " [{'colspan': 2}, None, {'type': 'pie'}],\n",
       " [{'type': 'pie'}, {'colspan': 2}, None]]"
      ]
     },
     "metadata": {},
     "execution_count": 65
    }
   ],
   "source": [
    "n_rows = 4\n",
    "specs = [[{'colspan': 2}, None, {'type': 'pie'}] if i%2==0 else [{'type': 'pie'}, {'colspan': 2}, None] \n",
    "             for i in range(n_rows)]\n",
    "\n",
    "specs"
   ]
  },
  {
   "cell_type": "code",
   "execution_count": 66,
   "metadata": {},
   "outputs": [
    {
     "output_type": "display_data",
     "data": {
      "application/vnd.plotly.v1+json": {
       "config": {
        "plotlyServerURL": "https://plot.ly"
       },
       "data": [
        {
         "line": {
          "color": "darksalmon",
          "width": 1
         },
         "mode": "lines",
         "type": "scatter",
         "x": [
          2000,
          2001,
          2002,
          2003,
          2004,
          2005,
          2006,
          2007,
          2008,
          2009,
          2010,
          2011,
          2012,
          2013,
          2014,
          2015,
          2016,
          2017,
          2018,
          2019,
          2020
         ],
         "xaxis": "x",
         "y": [
          0.5989562020205637,
          0.6081251628740304,
          0.6119988570454857,
          0.606977167707813,
          0.6285996765357588,
          0.6409348406819215,
          0.6379025771981727,
          0.6309941182619914,
          0.6530535624387711,
          0.636695039108899,
          0.6316088379344273,
          0.6500237241173237,
          0.640868874138467,
          0.6390286533920274,
          0.6515447056996285,
          0.6521759645793465,
          0.6439796527415903,
          0.635809272931815,
          0.6336821758811226,
          0.6604292164315846,
          0.6943971660164183
         ],
         "yaxis": "y"
        },
        {
         "fill": "tonexty",
         "line": {
          "color": "darksalmon",
          "width": 1
         },
         "mode": "lines",
         "type": "scatter",
         "x": [
          2000,
          2001,
          2002,
          2003,
          2004,
          2005,
          2006,
          2007,
          2008,
          2009,
          2010,
          2011,
          2012,
          2013,
          2014,
          2015,
          2016,
          2017,
          2018,
          2019,
          2020
         ],
         "xaxis": "x",
         "y": [
          0.5712489810480612,
          0.5828017722925433,
          0.5868399702219986,
          0.5823584594389081,
          0.6030595245270322,
          0.6175872071268278,
          0.6160053954328367,
          0.605900212670033,
          0.6291294936781947,
          0.612186350780926,
          0.6068473822602525,
          0.6241506621518558,
          0.6168064329566355,
          0.6125391866746729,
          0.6268524273715678,
          0.6260800144811972,
          0.6039239088618858,
          0.6071604184172772,
          0.6051289565515956,
          0.6331235746061554,
          0.6234605505101554
         ],
         "yaxis": "y"
        },
        {
         "connectgaps": true,
         "marker": {
          "color": "rgb(33,113,181)"
         },
         "mode": "lines+markers",
         "textposition": "top center",
         "type": "scatter",
         "x": [
          2000,
          2001,
          2002,
          2003,
          2004,
          2005,
          2006,
          2007,
          2008,
          2009,
          2010,
          2011,
          2012,
          2013,
          2014,
          2015,
          2016,
          2017,
          2018,
          2019,
          2020
         ],
         "xaxis": "x",
         "y": [
          0.5851699279093718,
          0.5955270457697642,
          0.5994849785407725,
          0.5947273620435566,
          0.61590949901239,
          0.6293365794278758,
          0.6270190895741556,
          0.6185262426138338,
          0.6411793293374373,
          0.6245204336947456,
          0.6193056731583404,
          0.6371864982085612,
          0.6289176090468498,
          0.6258782201405152,
          0.6392906336088154,
          0.6392307692307693,
          0.6241640659830584,
          0.6215909090909091,
          0.6195088984005407,
          0.6468962585034014,
          0.6598240469208211
         ],
         "yaxis": "y"
        },
        {
         "domain": {
          "x": [
           0.7,
           1
          ],
          "y": [
           0.9166666666666666,
           1
          ]
         },
         "marker": {
          "colors": [
           "seagreen",
           "indianred"
          ],
          "line": {
           "color": "white",
           "width": 1
          }
         },
         "type": "pie",
         "values": [
          68475,
          41632
         ]
        },
        {
         "line": {
          "color": "darksalmon",
          "width": 1
         },
         "mode": "lines",
         "type": "scatter",
         "x": [
          2000,
          2001,
          2002,
          2003,
          2004,
          2005,
          2006,
          2007,
          2008,
          2009,
          2010,
          2011,
          2012,
          2013,
          2014,
          2015,
          2016,
          2017,
          2018,
          2019,
          2020
         ],
         "xaxis": "x2",
         "y": [
          0.7384413946045957,
          0.7584191206662805,
          0.7716545042647561,
          0.7818777116848503,
          0.7957085756135996,
          0.7757669051463826,
          0.7789522462710837,
          0.7861594795912893,
          0.7819395629836046,
          0.8061976867073535,
          0.7951425888405136,
          0.8006847626077576,
          0.7900853371756611,
          0.7792439232117312,
          0.7995717745490526,
          0.8140682446106898,
          0.8187503705523018,
          0.8124360270135865,
          0.8173500349018192,
          0.7957887207441158,
          0.7804667406770981
         ],
         "yaxis": "y2"
        },
        {
         "fill": "tonexty",
         "line": {
          "color": "darksalmon",
          "width": 1
         },
         "mode": "lines",
         "type": "scatter",
         "x": [
          2000,
          2001,
          2002,
          2003,
          2004,
          2005,
          2006,
          2007,
          2008,
          2009,
          2010,
          2011,
          2012,
          2013,
          2014,
          2015,
          2016,
          2017,
          2018,
          2019,
          2020
         ],
         "xaxis": "x2",
         "y": [
          0.7055200768102531,
          0.7292451174446284,
          0.7432429878564172,
          0.7544493042440823,
          0.7680914784124512,
          0.749857088343424,
          0.7547819844998972,
          0.7586304086016235,
          0.7556892195255343,
          0.7802732257232989,
          0.7683890535990298,
          0.7730932354532747,
          0.7639531123776293,
          0.7499008576159163,
          0.7732263992733802,
          0.7869219241663862,
          0.7767584703835451,
          0.7823410071786093,
          0.7876230635544181,
          0.7664328530239631,
          0.6998772115181738
         ],
         "yaxis": "y2"
        },
        {
         "connectgaps": true,
         "marker": {
          "color": "rgb(217,71,1)"
         },
         "mode": "lines+markers",
         "textposition": "top center",
         "type": "scatter",
         "x": [
          2000,
          2001,
          2002,
          2003,
          2004,
          2005,
          2006,
          2007,
          2008,
          2009,
          2010,
          2011,
          2012,
          2013,
          2014,
          2015,
          2016,
          2017,
          2018,
          2019,
          2020
         ],
         "xaxis": "x2",
         "y": [
          0.7222808870116156,
          0.7441048034934498,
          0.7577319587628866,
          0.7684471365638766,
          0.7822157434402333,
          0.7630560928433269,
          0.7670853736427506,
          0.7726889575723518,
          0.7690752905507833,
          0.7935363247863247,
          0.7820617992890347,
          0.7872151524119562,
          0.777292576419214,
          0.7648893046460867,
          0.7866953945596553,
          0.8008423586040915,
          0.7985714285714286,
          0.7978062157221206,
          0.8029090909090909,
          0.781465658889254,
          0.7422222222222222
         ],
         "yaxis": "y2"
        },
        {
         "domain": {
          "x": [
           0,
           0.3
          ],
          "y": [
           0.7333333333333334,
           0.8166666666666668
          ]
         },
         "marker": {
          "colors": [
           "seagreen",
           "indianred"
          ],
          "line": {
           "color": "white",
           "width": 1
          }
         },
         "type": "pie",
         "values": [
          53054,
          15421
         ]
        },
        {
         "line": {
          "color": "darksalmon",
          "width": 1
         },
         "mode": "lines",
         "type": "scatter",
         "x": [
          2000,
          2001,
          2002,
          2003,
          2004,
          2005,
          2006,
          2007,
          2008,
          2009,
          2010,
          2011,
          2012,
          2013,
          2014,
          2015,
          2016,
          2017,
          2018,
          2019,
          2020
         ],
         "xaxis": "x3",
         "y": [
          0.605065077634998,
          0.5968876982663536,
          0.6076813894065884,
          0.641196867906375,
          0.6428743832290605,
          0.6448451331410309,
          0.6329852680362946,
          0.6350553318216274,
          0.6206612187879124,
          0.6271177498466335,
          0.6123267784437848,
          0.6240780008619676,
          0.6516175613020438,
          0.6089986049037057,
          0.6332246460148998,
          0.6364651109765866,
          0.6325463060383746,
          0.6573389243509995,
          0.6492500573123902,
          0.6540098919890194,
          0.6257368123516316
         ],
         "yaxis": "y3"
        },
        {
         "fill": "tonexty",
         "line": {
          "color": "darksalmon",
          "width": 1
         },
         "mode": "lines",
         "type": "scatter",
         "x": [
          2000,
          2001,
          2002,
          2003,
          2004,
          2005,
          2006,
          2007,
          2008,
          2009,
          2010,
          2011,
          2012,
          2013,
          2014,
          2015,
          2016,
          2017,
          2018,
          2019,
          2020
         ],
         "xaxis": "x3",
         "y": [
          0.5596876056072584,
          0.5549511361796997,
          0.5658774831207707,
          0.601000807833186,
          0.6002250336145402,
          0.6051721911777822,
          0.5961327635468874,
          0.5935467708035227,
          0.5791668302198132,
          0.5855336947600657,
          0.5706933038249732,
          0.5792183001409338,
          0.6111250592962707,
          0.5636585232069982,
          0.5903581571478829,
          0.5909058563517895,
          0.564481594884798,
          0.609610195973618,
          0.6015647023008609,
          0.6062205016547941,
          0.49542556085705014
         ],
         "yaxis": "y3"
        },
        {
         "connectgaps": true,
         "marker": {
          "color": "rgb(81, 178, 124)"
         },
         "mode": "lines+markers",
         "textposition": "top center",
         "type": "scatter",
         "x": [
          2000,
          2001,
          2002,
          2003,
          2004,
          2005,
          2006,
          2007,
          2008,
          2009,
          2010,
          2011,
          2012,
          2013,
          2014,
          2015,
          2016,
          2017,
          2018,
          2019,
          2020
         ],
         "xaxis": "x3",
         "y": [
          0.5825510767531751,
          0.576056338028169,
          0.5869360902255639,
          0.621307072515667,
          0.6217851739788199,
          0.6252189141856392,
          0.6147234678624813,
          0.6145092460881935,
          0.6000935453695042,
          0.6065186584789797,
          0.5916744621141253,
          0.6018619934282585,
          0.6316031235645384,
          0.5865118850193477,
          0.612008072653885,
          0.613934894346088,
          0.5989911727616646,
          0.6338028169014085,
          0.6257124762507916,
          0.6304347826086957,
          0.5616438356164384
         ],
         "yaxis": "y3"
        },
        {
         "domain": {
          "x": [
           0.7,
           1
          ],
          "y": [
           0.55,
           0.6333333333333334
          ]
         },
         "marker": {
          "colors": [
           "seagreen",
           "indianred"
          ],
          "line": {
           "color": "white",
           "width": 1
          }
         },
         "type": "pie",
         "values": [
          23738,
          15272
         ]
        },
        {
         "line": {
          "color": "darksalmon",
          "width": 1
         },
         "mode": "lines",
         "type": "scatter",
         "x": [
          2000,
          2001,
          2002,
          2003,
          2004,
          2005,
          2006,
          2007,
          2008,
          2009,
          2010,
          2011,
          2012,
          2013,
          2014,
          2015,
          2016,
          2017,
          2018,
          2019,
          2020
         ],
         "xaxis": "x4",
         "y": [
          0.3761600617627906,
          0.39736494200686295,
          0.39897977644662486,
          0.4295877299369328,
          0.4272168362727099,
          0.4281045461809819,
          0.4306004787442236,
          0.4208977833203352,
          0.4132389382400882,
          0.394468168802308,
          0.4145839107435102,
          0.41415687390434386,
          0.39968291681203993,
          0.4109468164692569,
          0.4106956607426398,
          0.41021523765361445,
          0.40410161696479413,
          0.41125226206985094,
          0.3986298269267903,
          0.4052205464495967,
          0.42241958129821433
         ],
         "yaxis": "y4"
        },
        {
         "fill": "tonexty",
         "line": {
          "color": "darksalmon",
          "width": 1
         },
         "mode": "lines",
         "type": "scatter",
         "x": [
          2000,
          2001,
          2002,
          2003,
          2004,
          2005,
          2006,
          2007,
          2008,
          2009,
          2010,
          2011,
          2012,
          2013,
          2014,
          2015,
          2016,
          2017,
          2018,
          2019,
          2020
         ],
         "xaxis": "x4",
         "y": [
          0.34861693948105665,
          0.37253738263617225,
          0.37432532105509575,
          0.40580922976652783,
          0.40211282606649157,
          0.40513083552347684,
          0.408976553533826,
          0.39664594065287145,
          0.38974592947121006,
          0.3707515394970374,
          0.3904088274059019,
          0.38877012135022393,
          0.3762102377993224,
          0.3849280709459556,
          0.38682450918913974,
          0.3849053051086543,
          0.3662076113517731,
          0.38409100381109124,
          0.37149634780664775,
          0.37862448552576655,
          0.34945736768199687
         ],
         "yaxis": "y4"
        },
        {
         "connectgaps": true,
         "marker": {
          "color": "rgb(235, 127, 134)"
         },
         "mode": "lines+markers",
         "textposition": "top center",
         "type": "scatter",
         "x": [
          2000,
          2001,
          2002,
          2003,
          2004,
          2005,
          2006,
          2007,
          2008,
          2009,
          2010,
          2011,
          2012,
          2013,
          2014,
          2015,
          2016,
          2017,
          2018,
          2019,
          2020
         ],
         "xaxis": "x4",
         "y": [
          0.36227544910179643,
          0.38487622923024756,
          0.38657986980470704,
          0.4176506206478959,
          0.41460940142035846,
          0.41657239819004527,
          0.41975,
          0.408716323296355,
          0.4014358360753814,
          0.3825399286711118,
          0.4024370944769742,
          0.4013973799126638,
          0.3878815352070112,
          0.3978652926021347,
          0.39869989165763814,
          0.397491726180108,
          0.3849802371541502,
          0.397592778335005,
          0.38497367355204537,
          0.39184225787744054,
          0.38529411764705884
         ],
         "yaxis": "y4"
        },
        {
         "domain": {
          "x": [
           0,
           0.3
          ],
          "y": [
           0.3666666666666667,
           0.45
          ]
         },
         "marker": {
          "colors": [
           "seagreen",
           "indianred"
          ],
          "line": {
           "color": "white",
           "width": 1
          }
         },
         "type": "pie",
         "values": [
          47099,
          71107
         ]
        },
        {
         "line": {
          "color": "darksalmon",
          "width": 1
         },
         "mode": "lines",
         "type": "scatter",
         "x": [
          2000,
          2001,
          2002,
          2003,
          2004,
          2005,
          2006,
          2007,
          2008,
          2009,
          2010,
          2011,
          2012,
          2013,
          2014,
          2015,
          2016,
          2017,
          2018,
          2019,
          2020
         ],
         "xaxis": "x5",
         "y": [
          0.09153047511297938,
          0.09907633660657482,
          0.09811108870915664,
          0.11120909779871187,
          0.10928975437336533,
          0.09834359162187602,
          0.09418616447057804,
          0.11189922420767087,
          0.12071433688124449,
          0.11775019782452362,
          0.11971074415713331,
          0.10322952462444063,
          0.11539043209766824,
          0.09588374236482398,
          0.10712744967991271,
          0.12375815160134485,
          0.1228118447971433,
          0.13486558418449096,
          0.1304297314059486,
          0.10660835224677623,
          0.1212742372658462
         ],
         "yaxis": "y5"
        },
        {
         "fill": "tonexty",
         "line": {
          "color": "darksalmon",
          "width": 1
         },
         "mode": "lines",
         "type": "scatter",
         "x": [
          2000,
          2001,
          2002,
          2003,
          2004,
          2005,
          2006,
          2007,
          2008,
          2009,
          2010,
          2011,
          2012,
          2013,
          2014,
          2015,
          2016,
          2017,
          2018,
          2019,
          2020
         ],
         "xaxis": "x5",
         "y": [
          0.07596654361424296,
          0.08419991350664861,
          0.0833729105202064,
          0.09593773580036889,
          0.09345088828970216,
          0.08442259371681844,
          0.0813801188257921,
          0.09613732340960804,
          0.10494168296531504,
          0.10193246388058624,
          0.10365647055302618,
          0.08743783686963147,
          0.09995919667288429,
          0.08037784178886402,
          0.09174952709419752,
          0.10642592842867044,
          0.09698179345978028,
          0.11533448980176843,
          0.11127177173653222,
          0.0896262633199329,
          0.07679115681848607
         ],
         "yaxis": "y5"
        },
        {
         "connectgaps": true,
         "marker": {
          "color": "rgb(33,113,181)"
         },
         "mode": "lines+markers",
         "textposition": "top center",
         "type": "scatter",
         "x": [
          2000,
          2001,
          2002,
          2003,
          2004,
          2005,
          2006,
          2007,
          2008,
          2009,
          2010,
          2011,
          2012,
          2013,
          2014,
          2015,
          2016,
          2017,
          2018,
          2019,
          2020
         ],
         "xaxis": "x5",
         "y": [
          0.08341915550978372,
          0.09136615811373093,
          0.09047210300429184,
          0.10332405436384477,
          0.10109534925480337,
          0.0911442483262325,
          0.08757175276999066,
          0.10375391032325339,
          0.11258707273610886,
          0.10959132610508757,
          0.11143099068585945,
          0.09504054308881765,
          0.1074313408723748,
          0.08782201405152225,
          0.09917355371900827,
          0.1148076923076923,
          0.10922871154703521,
          0.12477272727272727,
          0.120522640234287,
          0.0977891156462585,
          0.0967741935483871
         ],
         "yaxis": "y5"
        },
        {
         "domain": {
          "x": [
           0.7,
           1
          ],
          "y": [
           0.18333333333333335,
           0.26666666666666666
          ]
         },
         "marker": {
          "colors": [
           "seagreen",
           "indianred"
          ],
          "line": {
           "color": "white",
           "width": 1
          }
         },
         "type": "pie",
         "values": [
          11162,
          98945
         ]
        },
        {
         "line": {
          "color": "darksalmon",
          "width": 1
         },
         "mode": "lines",
         "type": "scatter",
         "x": [
          2000,
          2001,
          2002,
          2003,
          2004,
          2005,
          2006,
          2007,
          2008,
          2009,
          2010,
          2011,
          2012,
          2013,
          2014,
          2015,
          2016,
          2017,
          2018,
          2019,
          2020
         ],
         "xaxis": "x6",
         "y": [
          0.047814540142081544,
          0.0402674402596451,
          0.04023985879990236,
          0.04464245048805182,
          0.03268201294312269,
          0.027050656077833787,
          0.018830309499464532,
          0.018420498653749375,
          0.01556124309141957,
          0.02641110520247655,
          0.02240287257588789,
          0.02246891833763841,
          0.023130800366549232,
          0.02538393548104709,
          0.0233387257283683,
          0.0285661765990411,
          0.029267030976059604,
          0.028309740144971618,
          0.0297808007190283,
          0.0250901376332376,
          0.03233775056870213
         ],
         "yaxis": "y6"
        },
        {
         "fill": "tonexty",
         "line": {
          "color": "darksalmon",
          "width": 1
         },
         "mode": "lines",
         "type": "scatter",
         "x": [
          2000,
          2001,
          2002,
          2003,
          2004,
          2005,
          2006,
          2007,
          2008,
          2009,
          2010,
          2011,
          2012,
          2013,
          2014,
          2015,
          2016,
          2017,
          2018,
          2019,
          2020
         ],
         "xaxis": "x6",
         "y": [
          0.03653508564714274,
          0.030739613857262874,
          0.030759062983162163,
          0.03486238728177876,
          0.023993107128843515,
          0.01976334647202424,
          0.013170562051784119,
          0.012118976960209174,
          0.009992506324520567,
          0.01890455461063263,
          0.015479588881348283,
          0.015188407657757665,
          0.016237572305217777,
          0.017488189288436994,
          0.016208371426503547,
          0.02021345299371368,
          0.016949607235342137,
          0.019339899557745475,
          0.020601699060765886,
          0.016933677431735523,
          0.011172974011883276
         ],
         "yaxis": "y6"
        },
        {
         "connectgaps": true,
         "marker": {
          "color": "rgb(217,71,1)"
         },
         "mode": "lines+markers",
         "textposition": "top center",
         "type": "scatter",
         "x": [
          2000,
          2001,
          2002,
          2003,
          2004,
          2005,
          2006,
          2007,
          2008,
          2009,
          2010,
          2011,
          2012,
          2013,
          2014,
          2015,
          2016,
          2017,
          2018,
          2019,
          2020
         ],
         "xaxis": "x6",
         "y": [
          0.04181256436663234,
          0.03519417475728155,
          0.0351931330472103,
          0.03946291141313247,
          0.028012210450709285,
          0.023128423615337797,
          0.015752236016553196,
          0.014946124435175531,
          0.012473675684432205,
          0.022351959966638867,
          0.018628281117696866,
          0.01848010560060343,
          0.01938610662358643,
          0.02107728337236534,
          0.019455922865013773,
          0.02403846153846154,
          0.02229157378510923,
          0.02340909090909091,
          0.024780355936021625,
          0.020620748299319726,
          0.01906158357771261
         ],
         "yaxis": "y6"
        },
        {
         "domain": {
          "x": [
           0,
           0.3
          ],
          "y": [
           0,
           0.08333333333333333
          ]
         },
         "marker": {
          "colors": [
           "seagreen",
           "indianred"
          ],
          "line": {
           "color": "white",
           "width": 1
          }
         },
         "type": "pie",
         "values": [
          2622,
          107485
         ]
        }
       ],
       "layout": {
        "annotations": [
         {
          "font": {
           "size": 16
          },
          "showarrow": false,
          "text": "Percentage firstIn and 95% CI by year",
          "x": 0.32499999999999996,
          "xanchor": "center",
          "xref": "paper",
          "y": 1,
          "yanchor": "bottom",
          "yref": "paper"
         },
         {
          "font": {
           "size": 16
          },
          "showarrow": false,
          "text": "Percentage firstIn overall",
          "x": 0.85,
          "xanchor": "center",
          "xref": "paper",
          "y": 1,
          "yanchor": "bottom",
          "yref": "paper"
         },
         {
          "font": {
           "size": 16
          },
          "showarrow": false,
          "text": "Percentage firstWon overall",
          "x": 0.15,
          "xanchor": "center",
          "xref": "paper",
          "y": 0.8166666666666668,
          "yanchor": "bottom",
          "yref": "paper"
         },
         {
          "font": {
           "size": 16
          },
          "showarrow": false,
          "text": "Percentage firstWon and 95% CI by year",
          "x": 0.675,
          "xanchor": "center",
          "xref": "paper",
          "y": 0.8166666666666668,
          "yanchor": "bottom",
          "yref": "paper"
         },
         {
          "font": {
           "size": 16
          },
          "showarrow": false,
          "text": "Percentage secondWon and 95% CI by year",
          "x": 0.32499999999999996,
          "xanchor": "center",
          "xref": "paper",
          "y": 0.6333333333333334,
          "yanchor": "bottom",
          "yref": "paper"
         },
         {
          "font": {
           "size": 16
          },
          "showarrow": false,
          "text": "Percentage secondWon overall",
          "x": 0.85,
          "xanchor": "center",
          "xref": "paper",
          "y": 0.6333333333333334,
          "yanchor": "bottom",
          "yref": "paper"
         },
         {
          "font": {
           "size": 16
          },
          "showarrow": false,
          "text": "Percentage returnWon overall",
          "x": 0.15,
          "xanchor": "center",
          "xref": "paper",
          "y": 0.45,
          "yanchor": "bottom",
          "yref": "paper"
         },
         {
          "font": {
           "size": 16
          },
          "showarrow": false,
          "text": "Percentage returnWon and 95% CI by year",
          "x": 0.675,
          "xanchor": "center",
          "xref": "paper",
          "y": 0.45,
          "yanchor": "bottom",
          "yref": "paper"
         },
         {
          "font": {
           "size": 16
          },
          "showarrow": false,
          "text": "Percentage ace and 95% CI by year",
          "x": 0.32499999999999996,
          "xanchor": "center",
          "xref": "paper",
          "y": 0.26666666666666666,
          "yanchor": "bottom",
          "yref": "paper"
         },
         {
          "font": {
           "size": 16
          },
          "showarrow": false,
          "text": "Percentage ace overall",
          "x": 0.85,
          "xanchor": "center",
          "xref": "paper",
          "y": 0.26666666666666666,
          "yanchor": "bottom",
          "yref": "paper"
         },
         {
          "font": {
           "size": 16
          },
          "showarrow": false,
          "text": "Percentage df overall",
          "x": 0.15,
          "xanchor": "center",
          "xref": "paper",
          "y": 0.08333333333333333,
          "yanchor": "bottom",
          "yref": "paper"
         },
         {
          "font": {
           "size": 16
          },
          "showarrow": false,
          "text": "Percentage df and 95% CI by year",
          "x": 0.675,
          "xanchor": "center",
          "xref": "paper",
          "y": 0.08333333333333333,
          "yanchor": "bottom",
          "yref": "paper"
         }
        ],
        "barmode": "stack",
        "height": 2700,
        "showlegend": false,
        "template": {
         "data": {
          "bar": [
           {
            "error_x": {
             "color": "#2a3f5f"
            },
            "error_y": {
             "color": "#2a3f5f"
            },
            "marker": {
             "line": {
              "color": "#E5ECF6",
              "width": 0.5
             }
            },
            "type": "bar"
           }
          ],
          "barpolar": [
           {
            "marker": {
             "line": {
              "color": "#E5ECF6",
              "width": 0.5
             }
            },
            "type": "barpolar"
           }
          ],
          "carpet": [
           {
            "aaxis": {
             "endlinecolor": "#2a3f5f",
             "gridcolor": "white",
             "linecolor": "white",
             "minorgridcolor": "white",
             "startlinecolor": "#2a3f5f"
            },
            "baxis": {
             "endlinecolor": "#2a3f5f",
             "gridcolor": "white",
             "linecolor": "white",
             "minorgridcolor": "white",
             "startlinecolor": "#2a3f5f"
            },
            "type": "carpet"
           }
          ],
          "choropleth": [
           {
            "colorbar": {
             "outlinewidth": 0,
             "ticks": ""
            },
            "type": "choropleth"
           }
          ],
          "contour": [
           {
            "colorbar": {
             "outlinewidth": 0,
             "ticks": ""
            },
            "colorscale": [
             [
              0,
              "#0d0887"
             ],
             [
              0.1111111111111111,
              "#46039f"
             ],
             [
              0.2222222222222222,
              "#7201a8"
             ],
             [
              0.3333333333333333,
              "#9c179e"
             ],
             [
              0.4444444444444444,
              "#bd3786"
             ],
             [
              0.5555555555555556,
              "#d8576b"
             ],
             [
              0.6666666666666666,
              "#ed7953"
             ],
             [
              0.7777777777777778,
              "#fb9f3a"
             ],
             [
              0.8888888888888888,
              "#fdca26"
             ],
             [
              1,
              "#f0f921"
             ]
            ],
            "type": "contour"
           }
          ],
          "contourcarpet": [
           {
            "colorbar": {
             "outlinewidth": 0,
             "ticks": ""
            },
            "type": "contourcarpet"
           }
          ],
          "heatmap": [
           {
            "colorbar": {
             "outlinewidth": 0,
             "ticks": ""
            },
            "colorscale": [
             [
              0,
              "#0d0887"
             ],
             [
              0.1111111111111111,
              "#46039f"
             ],
             [
              0.2222222222222222,
              "#7201a8"
             ],
             [
              0.3333333333333333,
              "#9c179e"
             ],
             [
              0.4444444444444444,
              "#bd3786"
             ],
             [
              0.5555555555555556,
              "#d8576b"
             ],
             [
              0.6666666666666666,
              "#ed7953"
             ],
             [
              0.7777777777777778,
              "#fb9f3a"
             ],
             [
              0.8888888888888888,
              "#fdca26"
             ],
             [
              1,
              "#f0f921"
             ]
            ],
            "type": "heatmap"
           }
          ],
          "heatmapgl": [
           {
            "colorbar": {
             "outlinewidth": 0,
             "ticks": ""
            },
            "colorscale": [
             [
              0,
              "#0d0887"
             ],
             [
              0.1111111111111111,
              "#46039f"
             ],
             [
              0.2222222222222222,
              "#7201a8"
             ],
             [
              0.3333333333333333,
              "#9c179e"
             ],
             [
              0.4444444444444444,
              "#bd3786"
             ],
             [
              0.5555555555555556,
              "#d8576b"
             ],
             [
              0.6666666666666666,
              "#ed7953"
             ],
             [
              0.7777777777777778,
              "#fb9f3a"
             ],
             [
              0.8888888888888888,
              "#fdca26"
             ],
             [
              1,
              "#f0f921"
             ]
            ],
            "type": "heatmapgl"
           }
          ],
          "histogram": [
           {
            "marker": {
             "colorbar": {
              "outlinewidth": 0,
              "ticks": ""
             }
            },
            "type": "histogram"
           }
          ],
          "histogram2d": [
           {
            "colorbar": {
             "outlinewidth": 0,
             "ticks": ""
            },
            "colorscale": [
             [
              0,
              "#0d0887"
             ],
             [
              0.1111111111111111,
              "#46039f"
             ],
             [
              0.2222222222222222,
              "#7201a8"
             ],
             [
              0.3333333333333333,
              "#9c179e"
             ],
             [
              0.4444444444444444,
              "#bd3786"
             ],
             [
              0.5555555555555556,
              "#d8576b"
             ],
             [
              0.6666666666666666,
              "#ed7953"
             ],
             [
              0.7777777777777778,
              "#fb9f3a"
             ],
             [
              0.8888888888888888,
              "#fdca26"
             ],
             [
              1,
              "#f0f921"
             ]
            ],
            "type": "histogram2d"
           }
          ],
          "histogram2dcontour": [
           {
            "colorbar": {
             "outlinewidth": 0,
             "ticks": ""
            },
            "colorscale": [
             [
              0,
              "#0d0887"
             ],
             [
              0.1111111111111111,
              "#46039f"
             ],
             [
              0.2222222222222222,
              "#7201a8"
             ],
             [
              0.3333333333333333,
              "#9c179e"
             ],
             [
              0.4444444444444444,
              "#bd3786"
             ],
             [
              0.5555555555555556,
              "#d8576b"
             ],
             [
              0.6666666666666666,
              "#ed7953"
             ],
             [
              0.7777777777777778,
              "#fb9f3a"
             ],
             [
              0.8888888888888888,
              "#fdca26"
             ],
             [
              1,
              "#f0f921"
             ]
            ],
            "type": "histogram2dcontour"
           }
          ],
          "mesh3d": [
           {
            "colorbar": {
             "outlinewidth": 0,
             "ticks": ""
            },
            "type": "mesh3d"
           }
          ],
          "parcoords": [
           {
            "line": {
             "colorbar": {
              "outlinewidth": 0,
              "ticks": ""
             }
            },
            "type": "parcoords"
           }
          ],
          "pie": [
           {
            "automargin": true,
            "type": "pie"
           }
          ],
          "scatter": [
           {
            "marker": {
             "colorbar": {
              "outlinewidth": 0,
              "ticks": ""
             }
            },
            "type": "scatter"
           }
          ],
          "scatter3d": [
           {
            "line": {
             "colorbar": {
              "outlinewidth": 0,
              "ticks": ""
             }
            },
            "marker": {
             "colorbar": {
              "outlinewidth": 0,
              "ticks": ""
             }
            },
            "type": "scatter3d"
           }
          ],
          "scattercarpet": [
           {
            "marker": {
             "colorbar": {
              "outlinewidth": 0,
              "ticks": ""
             }
            },
            "type": "scattercarpet"
           }
          ],
          "scattergeo": [
           {
            "marker": {
             "colorbar": {
              "outlinewidth": 0,
              "ticks": ""
             }
            },
            "type": "scattergeo"
           }
          ],
          "scattergl": [
           {
            "marker": {
             "colorbar": {
              "outlinewidth": 0,
              "ticks": ""
             }
            },
            "type": "scattergl"
           }
          ],
          "scattermapbox": [
           {
            "marker": {
             "colorbar": {
              "outlinewidth": 0,
              "ticks": ""
             }
            },
            "type": "scattermapbox"
           }
          ],
          "scatterpolar": [
           {
            "marker": {
             "colorbar": {
              "outlinewidth": 0,
              "ticks": ""
             }
            },
            "type": "scatterpolar"
           }
          ],
          "scatterpolargl": [
           {
            "marker": {
             "colorbar": {
              "outlinewidth": 0,
              "ticks": ""
             }
            },
            "type": "scatterpolargl"
           }
          ],
          "scatterternary": [
           {
            "marker": {
             "colorbar": {
              "outlinewidth": 0,
              "ticks": ""
             }
            },
            "type": "scatterternary"
           }
          ],
          "surface": [
           {
            "colorbar": {
             "outlinewidth": 0,
             "ticks": ""
            },
            "colorscale": [
             [
              0,
              "#0d0887"
             ],
             [
              0.1111111111111111,
              "#46039f"
             ],
             [
              0.2222222222222222,
              "#7201a8"
             ],
             [
              0.3333333333333333,
              "#9c179e"
             ],
             [
              0.4444444444444444,
              "#bd3786"
             ],
             [
              0.5555555555555556,
              "#d8576b"
             ],
             [
              0.6666666666666666,
              "#ed7953"
             ],
             [
              0.7777777777777778,
              "#fb9f3a"
             ],
             [
              0.8888888888888888,
              "#fdca26"
             ],
             [
              1,
              "#f0f921"
             ]
            ],
            "type": "surface"
           }
          ],
          "table": [
           {
            "cells": {
             "fill": {
              "color": "#EBF0F8"
             },
             "line": {
              "color": "white"
             }
            },
            "header": {
             "fill": {
              "color": "#C8D4E3"
             },
             "line": {
              "color": "white"
             }
            },
            "type": "table"
           }
          ]
         },
         "layout": {
          "annotationdefaults": {
           "arrowcolor": "#2a3f5f",
           "arrowhead": 0,
           "arrowwidth": 1
          },
          "coloraxis": {
           "colorbar": {
            "outlinewidth": 0,
            "ticks": ""
           }
          },
          "colorscale": {
           "diverging": [
            [
             0,
             "#8e0152"
            ],
            [
             0.1,
             "#c51b7d"
            ],
            [
             0.2,
             "#de77ae"
            ],
            [
             0.3,
             "#f1b6da"
            ],
            [
             0.4,
             "#fde0ef"
            ],
            [
             0.5,
             "#f7f7f7"
            ],
            [
             0.6,
             "#e6f5d0"
            ],
            [
             0.7,
             "#b8e186"
            ],
            [
             0.8,
             "#7fbc41"
            ],
            [
             0.9,
             "#4d9221"
            ],
            [
             1,
             "#276419"
            ]
           ],
           "sequential": [
            [
             0,
             "#0d0887"
            ],
            [
             0.1111111111111111,
             "#46039f"
            ],
            [
             0.2222222222222222,
             "#7201a8"
            ],
            [
             0.3333333333333333,
             "#9c179e"
            ],
            [
             0.4444444444444444,
             "#bd3786"
            ],
            [
             0.5555555555555556,
             "#d8576b"
            ],
            [
             0.6666666666666666,
             "#ed7953"
            ],
            [
             0.7777777777777778,
             "#fb9f3a"
            ],
            [
             0.8888888888888888,
             "#fdca26"
            ],
            [
             1,
             "#f0f921"
            ]
           ],
           "sequentialminus": [
            [
             0,
             "#0d0887"
            ],
            [
             0.1111111111111111,
             "#46039f"
            ],
            [
             0.2222222222222222,
             "#7201a8"
            ],
            [
             0.3333333333333333,
             "#9c179e"
            ],
            [
             0.4444444444444444,
             "#bd3786"
            ],
            [
             0.5555555555555556,
             "#d8576b"
            ],
            [
             0.6666666666666666,
             "#ed7953"
            ],
            [
             0.7777777777777778,
             "#fb9f3a"
            ],
            [
             0.8888888888888888,
             "#fdca26"
            ],
            [
             1,
             "#f0f921"
            ]
           ]
          },
          "colorway": [
           "#636efa",
           "#EF553B",
           "#00cc96",
           "#ab63fa",
           "#FFA15A",
           "#19d3f3",
           "#FF6692",
           "#B6E880",
           "#FF97FF",
           "#FECB52"
          ],
          "font": {
           "color": "#2a3f5f"
          },
          "geo": {
           "bgcolor": "white",
           "lakecolor": "white",
           "landcolor": "#E5ECF6",
           "showlakes": true,
           "showland": true,
           "subunitcolor": "white"
          },
          "hoverlabel": {
           "align": "left"
          },
          "hovermode": "closest",
          "mapbox": {
           "style": "light"
          },
          "paper_bgcolor": "white",
          "plot_bgcolor": "#E5ECF6",
          "polar": {
           "angularaxis": {
            "gridcolor": "white",
            "linecolor": "white",
            "ticks": ""
           },
           "bgcolor": "#E5ECF6",
           "radialaxis": {
            "gridcolor": "white",
            "linecolor": "white",
            "ticks": ""
           }
          },
          "scene": {
           "xaxis": {
            "backgroundcolor": "#E5ECF6",
            "gridcolor": "white",
            "gridwidth": 2,
            "linecolor": "white",
            "showbackground": true,
            "ticks": "",
            "zerolinecolor": "white"
           },
           "yaxis": {
            "backgroundcolor": "#E5ECF6",
            "gridcolor": "white",
            "gridwidth": 2,
            "linecolor": "white",
            "showbackground": true,
            "ticks": "",
            "zerolinecolor": "white"
           },
           "zaxis": {
            "backgroundcolor": "#E5ECF6",
            "gridcolor": "white",
            "gridwidth": 2,
            "linecolor": "white",
            "showbackground": true,
            "ticks": "",
            "zerolinecolor": "white"
           }
          },
          "shapedefaults": {
           "line": {
            "color": "#2a3f5f"
           }
          },
          "ternary": {
           "aaxis": {
            "gridcolor": "white",
            "linecolor": "white",
            "ticks": ""
           },
           "baxis": {
            "gridcolor": "white",
            "linecolor": "white",
            "ticks": ""
           },
           "bgcolor": "#E5ECF6",
           "caxis": {
            "gridcolor": "white",
            "linecolor": "white",
            "ticks": ""
           }
          },
          "title": {
           "x": 0.05
          },
          "xaxis": {
           "automargin": true,
           "gridcolor": "white",
           "linecolor": "white",
           "ticks": "",
           "title": {
            "standoff": 15
           },
           "zerolinecolor": "white",
           "zerolinewidth": 2
          },
          "yaxis": {
           "automargin": true,
           "gridcolor": "white",
           "linecolor": "white",
           "ticks": "",
           "title": {
            "standoff": 15
           },
           "zerolinecolor": "white",
           "zerolinewidth": 2
          }
         }
        },
        "width": 1000,
        "xaxis": {
         "anchor": "y",
         "domain": [
          0,
          0.6499999999999999
         ],
         "title": {
          "text": "Year"
         }
        },
        "xaxis2": {
         "anchor": "y2",
         "domain": [
          0.35,
          1
         ],
         "title": {
          "text": "Year"
         }
        },
        "xaxis3": {
         "anchor": "y3",
         "domain": [
          0,
          0.6499999999999999
         ],
         "title": {
          "text": "Year"
         }
        },
        "xaxis4": {
         "anchor": "y4",
         "domain": [
          0.35,
          1
         ],
         "title": {
          "text": "Year"
         }
        },
        "xaxis5": {
         "anchor": "y5",
         "domain": [
          0,
          0.6499999999999999
         ]
        },
        "xaxis6": {
         "anchor": "y6",
         "domain": [
          0.35,
          1
         ]
        },
        "yaxis": {
         "anchor": "x",
         "domain": [
          0.9166666666666666,
          1
         ],
         "title": {
          "text": "Percentage"
         }
        },
        "yaxis2": {
         "anchor": "x2",
         "domain": [
          0.7333333333333334,
          0.8166666666666668
         ],
         "side": "right",
         "title": {
          "text": "Percentage"
         }
        },
        "yaxis3": {
         "anchor": "x3",
         "domain": [
          0.55,
          0.6333333333333334
         ],
         "title": {
          "text": "Num. Tb"
         }
        },
        "yaxis4": {
         "anchor": "x4",
         "domain": [
          0.3666666666666667,
          0.45
         ],
         "side": "right",
         "title": {
          "text": "Percentage"
         }
        },
        "yaxis5": {
         "anchor": "x5",
         "domain": [
          0.18333333333333335,
          0.26666666666666666
         ],
         "title": {
          "text": "Num. Sets"
         }
        },
        "yaxis6": {
         "anchor": "x6",
         "domain": [
          0,
          0.08333333333333333
         ],
         "side": "right",
         "title": {
          "text": "Percentage"
         }
        }
       }
      }
     },
     "metadata": {}
    }
   ],
   "source": [
    "def plot_ts_and_pie(success_overall, \n",
    "                    total_overall,\n",
    "                    stats_by_year, \n",
    "                    upper_df, \n",
    "                    lower_df, \n",
    "                    columns, \n",
    "                    colors = ['rgb(33,113,181)', 'rgb(217,71,1)', 'rgb(81, 178, 124)', 'rgb(235, 127, 134)']\n",
    "                    ):\n",
    "\n",
    "    n_cols, n_rows = 3, len(columns)\n",
    "\n",
    "    specs = [[{'colspan': 2}, None, {'type': 'pie'}] if i%2==0 else [{'type': 'pie'}, {'colspan': 2}, None] \n",
    "             for i in range(n_rows)]\n",
    "\n",
    "    subplot_titles=[[f'Percentage {c} and 95% CI by year', f'Percentage {c} overall'] if i%2==0 else \n",
    "                    [f'Percentage {c} overall', f'Percentage {c} and 95% CI by year'] for i, c in enumerate(columns)]\n",
    "\n",
    "\n",
    "    fig = make_subplots(\n",
    "            cols=n_cols,\n",
    "            rows=n_rows,\n",
    "            specs=specs,\n",
    "            shared_xaxes=True,\n",
    "            vertical_spacing=0.1,\n",
    "            horizontal_spacing=0.05,\n",
    "            subplot_titles=sum(subplot_titles, [])\n",
    "    )\n",
    "\n",
    "\n",
    "    x = stats_by_year['year']\n",
    "    \n",
    "    for i, col in enumerate(columns):\n",
    "\n",
    "        fig.add_trace(\n",
    "            go.Scatter(\n",
    "                x=x, y=upper_df[f'upper_{col}'],\n",
    "                fill=None,\n",
    "                mode='lines',\n",
    "                line=dict(color='darksalmon', width=1)\n",
    "            ),\n",
    "            row=i+1, col=1 if i%2==0 else 2\n",
    "        )\n",
    "\n",
    "        fig.add_trace(\n",
    "            go.Scatter(\n",
    "                x=x, y=lower_df[f'lower_{col}'],\n",
    "                fill='tonexty', # fill area between trace0 and trace1\n",
    "                mode='lines',\n",
    "                line=dict(color='darksalmon', width=1)\n",
    "            ),\n",
    "            row=i+1, col=1 if i%2==0 else 2\n",
    "        )\n",
    "\n",
    "        fig.add_trace(\n",
    "            go.Scatter(\n",
    "                x=x, y=stats_by_year[f'perc_{col}'],\n",
    "                textposition='top center',\n",
    "                mode='lines+markers',\n",
    "                connectgaps=True,\n",
    "                marker={'color': colors[i]},\n",
    "            ),\n",
    "            row=i+1, col=1 if i%2==0 else 2\n",
    "        )\n",
    "\n",
    "        fig.add_trace(\n",
    "            go.Pie(\n",
    "                values=[success_overall[f'success_{col}'], total_overall[f'total_{col}'] - success_overall[f'success_{col}']],\n",
    "                marker={'colors': ['seagreen', 'indianred'],\n",
    "                            'line': {'color':'white', 'width':1}}\n",
    "            ),\n",
    "            row=i+1, col=3 if i%2==0 else 1\n",
    "        )\n",
    "\n",
    "    # Layout\n",
    "    fig.update_layout(\n",
    "        barmode='stack',\n",
    "            height = 450*n_rows, width=1000, \n",
    "            xaxis1={'title': 'Year'}, xaxis2={'title': 'Year'},\n",
    "            xaxis3={'title': 'Year'}, xaxis4={'title': 'Year'},\n",
    "            yaxis={'title': 'Percentage'}, \n",
    "            yaxis2={'title': 'Percentage', 'side':'right'},\n",
    "            yaxis3={'title': 'Num. Tb'}, yaxis4={'title': 'Percentage', 'side':'right'},\n",
    "            yaxis5={'title': 'Num. Sets'}, yaxis6={'title': 'Percentage', 'side':'right'},\n",
    "            showlegend=False\n",
    "        )\n",
    "    return fig\n",
    "\n",
    "plot_ts_and_pie(success_overall, \n",
    "                total_overall, \n",
    "                stats_by_year, \n",
    "                upper_df, \n",
    "                lower_df, \n",
    "                columns=['firstIn', 'firstWon', 'secondWon', 'returnWon', 'ace', 'df'], \n",
    "                colors=['rgb(33,113,181)', 'rgb(217,71,1)', 'rgb(81, 178, 124)', 'rgb(235, 127, 134)', 'rgb(33,113,181)', 'rgb(217,71,1)',]\n",
    "                )"
   ]
  },
  {
   "cell_type": "code",
   "execution_count": 67,
   "metadata": {},
   "outputs": [
    {
     "output_type": "display_data",
     "data": {
      "application/vnd.plotly.v1+json": {
       "config": {
        "plotlyServerURL": "https://plot.ly"
       },
       "data": [
        {
         "line": {
          "color": "darksalmon",
          "width": 1
         },
         "mode": "lines",
         "type": "scatter",
         "x": [
          2000,
          2001,
          2002,
          2003,
          2004,
          2005,
          2006,
          2007,
          2008,
          2009,
          2010,
          2011,
          2012,
          2013,
          2014,
          2015,
          2016,
          2017,
          2018,
          2019,
          2020
         ],
         "xaxis": "x",
         "y": [
          0.6980028201972572,
          0.7125897698771022,
          0.7116259880310442,
          0.7040173623303296,
          0.7748108222984462,
          0.689302627228182,
          0.7397922030822098,
          0.7097781996207978,
          0.7266892393863223,
          0.7358075931693386,
          0.7305747953148539,
          0.7027613382564145,
          0.7356061627101224,
          0.70897925302018,
          0.7507729045320763,
          0.741069833092234,
          0.7232645521711508,
          0.7374477222501805,
          0.742799450163884,
          0.7642248601418955,
          0.7913405669074435
         ],
         "yaxis": "y"
        },
        {
         "fill": "tonexty",
         "line": {
          "color": "darksalmon",
          "width": 1
         },
         "mode": "lines",
         "type": "scatter",
         "x": [
          2000,
          2001,
          2002,
          2003,
          2004,
          2005,
          2006,
          2007,
          2008,
          2009,
          2010,
          2011,
          2012,
          2013,
          2014,
          2015,
          2016,
          2017,
          2018,
          2019,
          2020
         ],
         "xaxis": "x",
         "y": [
          0.6021223961336284,
          0.6266575881146639,
          0.6184560718650055,
          0.6082829351761894,
          0.6718009644121317,
          0.5857535894998406,
          0.6499392820027975,
          0.6044840552141152,
          0.629402441955771,
          0.6347440972689202,
          0.6307902531655819,
          0.5889222184043129,
          0.6309222526272263,
          0.6061582462788486,
          0.6481265791102804,
          0.6212467276613175,
          0.5449722923436943,
          0.6091617991267841,
          0.6185769064738688,
          0.6506766804253294,
          0.5296773241932241
         ],
         "yaxis": "y"
        },
        {
         "connectgaps": true,
         "marker": {
          "color": "rgb(33,113,181)"
         },
         "mode": "lines+markers",
         "textposition": "top center",
         "type": "scatter",
         "x": [
          2000,
          2001,
          2002,
          2003,
          2004,
          2005,
          2006,
          2007,
          2008,
          2009,
          2010,
          2011,
          2012,
          2013,
          2014,
          2015,
          2016,
          2017,
          2018,
          2019,
          2020
         ],
         "xaxis": "x",
         "y": [
          0.651595744680851,
          0.6710526315789473,
          0.6666666666666666,
          0.6577540106951871,
          0.7263157894736842,
          0.6391437308868502,
          0.6967418546365914,
          0.6590909090909091,
          0.68,
          0.6875,
          0.6827794561933535,
          0.6479400749063671,
          0.68561872909699,
          0.6594427244582043,
          0.7019867549668874,
          0.6842105263157895,
          0.6388888888888888,
          0.6766169154228856,
          0.6839622641509434,
          0.7107438016528925,
          0.6739130434782609
         ],
         "yaxis": "y"
        },
        {
         "domain": {
          "x": [
           0.7,
           1
          ],
          "y": [
           0.825,
           1
          ]
         },
         "marker": {
          "colors": [
           "seagreen",
           "indianred"
          ],
          "line": {
           "color": "white",
           "width": 1
          }
         },
         "type": "pie",
         "values": [
          4150,
          1994
         ]
        },
        {
         "line": {
          "color": "darksalmon",
          "width": 1
         },
         "mode": "lines",
         "type": "scatter",
         "x": [
          2000,
          2001,
          2002,
          2003,
          2004,
          2005,
          2006,
          2007,
          2008,
          2009,
          2010,
          2011,
          2012,
          2013,
          2014,
          2015,
          2016,
          2017,
          2018,
          2019,
          2020
         ],
         "xaxis": "x2",
         "y": [
          0.3695915581744994,
          0.4093755557655285,
          0.4171464767996943,
          0.445023335642895,
          0.4457179451247455,
          0.4813502197536415,
          0.4596967379387673,
          0.4521074734126438,
          0.41911321213251207,
          0.4565876586599539,
          0.44051636434502933,
          0.4278137023051513,
          0.4476772214142763,
          0.3977188119643289,
          0.399064303914004,
          0.4444609379438139,
          0.4444785309979799,
          0.45797928156440615,
          0.4520231435481595,
          0.45484245721682437,
          0.49478113566044235
         ],
         "yaxis": "y2"
        },
        {
         "fill": "tonexty",
         "line": {
          "color": "darksalmon",
          "width": 1
         },
         "mode": "lines",
         "type": "scatter",
         "x": [
          2000,
          2001,
          2002,
          2003,
          2004,
          2005,
          2006,
          2007,
          2008,
          2009,
          2010,
          2011,
          2012,
          2013,
          2014,
          2015,
          2016,
          2017,
          2018,
          2019,
          2020
         ],
         "xaxis": "x2",
         "y": [
          0.28165777360939337,
          0.3299883147285884,
          0.3401674974155041,
          0.37324460885863564,
          0.37105525458546706,
          0.40933648699714315,
          0.39451443321054835,
          0.3765971789322693,
          0.3476887942088833,
          0.376413242830544,
          0.3649916063406295,
          0.3520056252051052,
          0.3720013789441932,
          0.3210089863275766,
          0.3273562842153857,
          0.36557247797842396,
          0.3227177589010151,
          0.37012164373160794,
          0.3605508638154857,
          0.36839444191878057,
          0.2718352902701936
         ],
         "yaxis": "y2"
        },
        {
         "connectgaps": true,
         "marker": {
          "color": "rgb(217,71,1)"
         },
         "mode": "lines+markers",
         "textposition": "top center",
         "type": "scatter",
         "x": [
          2000,
          2001,
          2002,
          2003,
          2004,
          2005,
          2006,
          2007,
          2008,
          2009,
          2010,
          2011,
          2012,
          2013,
          2014,
          2015,
          2016,
          2017,
          2018,
          2019,
          2020
         ],
         "xaxis": "x2",
         "y": [
          0.32407407407407407,
          0.36879432624113473,
          0.3778877887788779,
          0.4086471408647141,
          0.4078549848942598,
          0.44505494505494503,
          0.4267877412031782,
          0.41384615384615386,
          0.3827683615819209,
          0.41594454072790293,
          0.40217391304347827,
          0.38924050632911394,
          0.40930232558139534,
          0.35845896147403683,
          0.3624454148471616,
          0.40439932318104904,
          0.3817427385892116,
          0.4133611691022965,
          0.4054669703872437,
          0.4109311740890688,
          0.37681159420289856
         ],
         "yaxis": "y2"
        },
        {
         "domain": {
          "x": [
           0,
           0.3
          ],
          "y": [
           0.55,
           0.7250000000000001
          ]
         },
         "marker": {
          "colors": [
           "seagreen",
           "indianred"
          ],
          "line": {
           "color": "white",
           "width": 1
          }
         },
         "type": "pie",
         "values": [
          4788,
          7255
         ]
        },
        {
         "line": {
          "color": "darksalmon",
          "width": 1
         },
         "mode": "lines",
         "type": "scatter",
         "x": [
          2000,
          2001,
          2002,
          2003,
          2004,
          2005,
          2006,
          2007,
          2008,
          2009,
          2010,
          2011,
          2012,
          2013,
          2014,
          2015,
          2016,
          2017,
          2018,
          2019,
          2020
         ],
         "xaxis": "x3",
         "y": [
          0.6601438424504772,
          0.7224345054574787,
          0.734914528758763,
          0.7365167431570808,
          0.9113941531319744,
          0.8345650791115233,
          0.8288572476535513,
          0.8624952233700518,
          0.7817439286607287,
          0.8251052135016799,
          0.8143057343364083,
          0.8206675307750504,
          0.7444927114061941,
          0.7445555668634344,
          0.7661578075284404,
          0.7262251442353348,
          0.8365526824644587,
          0.833352517317562,
          0.7626689857961975,
          0.9075517464714814,
          0.9544127391902995
         ],
         "yaxis": "y3"
        },
        {
         "fill": "tonexty",
         "line": {
          "color": "darksalmon",
          "width": 1
         },
         "mode": "lines",
         "type": "scatter",
         "x": [
          2000,
          2001,
          2002,
          2003,
          2004,
          2005,
          2006,
          2007,
          2008,
          2009,
          2010,
          2011,
          2012,
          2013,
          2014,
          2015,
          2016,
          2017,
          2018,
          2019,
          2020
         ],
         "xaxis": "x3",
         "y": [
          0.30743226976218463,
          0.43367103134030127,
          0.3907078562746876,
          0.44595893660346186,
          0.6086904963045966,
          0.5622468051697918,
          0.5905334923922091,
          0.5892954623327165,
          0.4875902312255084,
          0.5421686408886435,
          0.5014100930808564,
          0.4933884318085761,
          0.43572709012892497,
          0.389486137465917,
          0.47283959557009003,
          0.39197307000813597,
          0.38764423103907397,
          0.5212421254128503,
          0.4382410861966073,
          0.5952954674681133,
          0.30064184258240184
         ],
         "yaxis": "y3"
        },
        {
         "connectgaps": true,
         "marker": {
          "color": "rgb(81, 178, 124)"
         },
         "mode": "lines+markers",
         "textposition": "top center",
         "type": "scatter",
         "x": [
          2000,
          2001,
          2002,
          2003,
          2004,
          2005,
          2006,
          2007,
          2008,
          2009,
          2010,
          2011,
          2012,
          2013,
          2014,
          2015,
          2016,
          2017,
          2018,
          2019,
          2020
         ],
         "xaxis": "x3",
         "y": [
          0.48148148148148145,
          0.5853658536585366,
          0.5714285714285714,
          0.6,
          0.8,
          0.717948717948718,
          0.7254901960784313,
          0.75,
          0.6486486486486487,
          0.7027027027027027,
          0.6774193548387096,
          0.6785714285714286,
          0.6,
          0.5769230769230769,
          0.631578947368421,
          0.5666666666666667,
          0.6428571428571429,
          0.7,
          0.6129032258064516,
          0.7916666666666666,
          0.75
         ],
         "yaxis": "y3"
        },
        {
         "domain": {
          "x": [
           0.7,
           1
          ],
          "y": [
           0.275,
           0.45
          ]
         },
         "marker": {
          "colors": [
           "seagreen",
           "indianred"
          ],
          "line": {
           "color": "white",
           "width": 1
          }
         },
         "type": "pie",
         "values": [
          427,
          225
         ]
        },
        {
         "line": {
          "color": "darksalmon",
          "width": 1
         },
         "mode": "lines",
         "type": "scatter",
         "x": [
          2000,
          2001,
          2002,
          2003,
          2004,
          2005,
          2006,
          2007,
          2008,
          2009,
          2010,
          2011,
          2012,
          2013,
          2014,
          2015,
          2016,
          2017,
          2018,
          2019,
          2020
         ],
         "xaxis": "x4",
         "y": [
          0.6628358435795723,
          0.8439597554678598,
          0.6829219075488684,
          0.8280524739491653,
          0.9567418216419188,
          0.9416342319413856,
          0.9721335187862318,
          0.8910254667430763,
          0.7418021417443759,
          0.6763046541715557,
          0.8372122524916632,
          0.746218402366294,
          0.93808873362379,
          0.7784237720752205,
          0.8684923971201054,
          0.8731929634428949,
          0.7495416354723428,
          0.9340840092857186,
          0.8672001038970478,
          0.8067396863412435,
          1
         ],
         "yaxis": "y4"
        },
        {
         "fill": "tonexty",
         "line": {
          "color": "darksalmon",
          "width": 1
         },
         "mode": "lines",
         "type": "scatter",
         "x": [
          2000,
          2001,
          2002,
          2003,
          2004,
          2005,
          2006,
          2007,
          2008,
          2009,
          2010,
          2011,
          2012,
          2013,
          2014,
          2015,
          2016,
          2017,
          2018,
          2019,
          2020
         ],
         "xaxis": "x4",
         "y": [
          0.2455951812700563,
          0.4913424373124079,
          0.27329805161179566,
          0.4537345197425524,
          0.5776536898051745,
          0.6077796189608428,
          0.6989663547715127,
          0.48049565944019423,
          0.34208534245034233,
          0.2834400610153417,
          0.4374946729594511,
          0.253781597633706,
          0.5897054143116587,
          0.40785522391381707,
          0.5184826598759761,
          0.42369343180549024,
          0.15821985525146964,
          0.5699111903802585,
          0.4686688993346016,
          0.31951131254954973,
          0.342380227506653
         ],
         "yaxis": "y4"
        },
        {
         "connectgaps": true,
         "marker": {
          "color": "rgb(235, 127, 134)"
         },
         "mode": "lines+markers",
         "textposition": "top center",
         "type": "scatter",
         "x": [
          2000,
          2001,
          2002,
          2003,
          2004,
          2005,
          2006,
          2007,
          2008,
          2009,
          2010,
          2011,
          2012,
          2013,
          2014,
          2015,
          2016,
          2017,
          2018,
          2019,
          2020
         ],
         "xaxis": "x4",
         "y": [
          0.4444444444444444,
          0.6956521739130435,
          0.47368421052631576,
          0.6666666666666666,
          0.8461538461538461,
          0.8333333333333334,
          0.9,
          0.7333333333333333,
          0.55,
          0.47619047619047616,
          0.6666666666666666,
          0.5,
          0.8235294117647058,
          0.6086956521739131,
          0.7272727272727273,
          0.6923076923076923,
          0.42857142857142855,
          0.8125,
          0.7058823529411765,
          0.5833333333333334,
          1
         ],
         "yaxis": "y4"
        },
        {
         "domain": {
          "x": [
           0,
           0.3
          ],
          "y": [
           0,
           0.175
          ]
         },
         "marker": {
          "colors": [
           "seagreen",
           "indianred"
          ],
          "line": {
           "color": "white",
           "width": 1
          }
         },
         "type": "pie",
         "values": [
          231,
          116
         ]
        }
       ],
       "layout": {
        "annotations": [
         {
          "font": {
           "size": 16
          },
          "showarrow": false,
          "text": "Percentage bpSaved and 95% CI by year",
          "x": 0.32499999999999996,
          "xanchor": "center",
          "xref": "paper",
          "y": 1,
          "yanchor": "bottom",
          "yref": "paper"
         },
         {
          "font": {
           "size": 16
          },
          "showarrow": false,
          "text": "Percentage bpSaved overall",
          "x": 0.85,
          "xanchor": "center",
          "xref": "paper",
          "y": 1,
          "yanchor": "bottom",
          "yref": "paper"
         },
         {
          "font": {
           "size": 16
          },
          "showarrow": false,
          "text": "Percentage bpConverted overall",
          "x": 0.15,
          "xanchor": "center",
          "xref": "paper",
          "y": 0.7250000000000001,
          "yanchor": "bottom",
          "yref": "paper"
         },
         {
          "font": {
           "size": 16
          },
          "showarrow": false,
          "text": "Percentage bpConverted and 95% CI by year",
          "x": 0.675,
          "xanchor": "center",
          "xref": "paper",
          "y": 0.7250000000000001,
          "yanchor": "bottom",
          "yref": "paper"
         },
         {
          "font": {
           "size": 16
          },
          "showarrow": false,
          "text": "Percentage tbWon and 95% CI by year",
          "x": 0.32499999999999996,
          "xanchor": "center",
          "xref": "paper",
          "y": 0.45,
          "yanchor": "bottom",
          "yref": "paper"
         },
         {
          "font": {
           "size": 16
          },
          "showarrow": false,
          "text": "Percentage tbWon overall",
          "x": 0.85,
          "xanchor": "center",
          "xref": "paper",
          "y": 0.45,
          "yanchor": "bottom",
          "yref": "paper"
         },
         {
          "font": {
           "size": 16
          },
          "showarrow": false,
          "text": "Percentage decidingSetWon overall",
          "x": 0.15,
          "xanchor": "center",
          "xref": "paper",
          "y": 0.175,
          "yanchor": "bottom",
          "yref": "paper"
         },
         {
          "font": {
           "size": 16
          },
          "showarrow": false,
          "text": "Percentage decidingSetWon and 95% CI by year",
          "x": 0.675,
          "xanchor": "center",
          "xref": "paper",
          "y": 0.175,
          "yanchor": "bottom",
          "yref": "paper"
         }
        ],
        "barmode": "stack",
        "height": 1800,
        "showlegend": false,
        "template": {
         "data": {
          "bar": [
           {
            "error_x": {
             "color": "#2a3f5f"
            },
            "error_y": {
             "color": "#2a3f5f"
            },
            "marker": {
             "line": {
              "color": "#E5ECF6",
              "width": 0.5
             }
            },
            "type": "bar"
           }
          ],
          "barpolar": [
           {
            "marker": {
             "line": {
              "color": "#E5ECF6",
              "width": 0.5
             }
            },
            "type": "barpolar"
           }
          ],
          "carpet": [
           {
            "aaxis": {
             "endlinecolor": "#2a3f5f",
             "gridcolor": "white",
             "linecolor": "white",
             "minorgridcolor": "white",
             "startlinecolor": "#2a3f5f"
            },
            "baxis": {
             "endlinecolor": "#2a3f5f",
             "gridcolor": "white",
             "linecolor": "white",
             "minorgridcolor": "white",
             "startlinecolor": "#2a3f5f"
            },
            "type": "carpet"
           }
          ],
          "choropleth": [
           {
            "colorbar": {
             "outlinewidth": 0,
             "ticks": ""
            },
            "type": "choropleth"
           }
          ],
          "contour": [
           {
            "colorbar": {
             "outlinewidth": 0,
             "ticks": ""
            },
            "colorscale": [
             [
              0,
              "#0d0887"
             ],
             [
              0.1111111111111111,
              "#46039f"
             ],
             [
              0.2222222222222222,
              "#7201a8"
             ],
             [
              0.3333333333333333,
              "#9c179e"
             ],
             [
              0.4444444444444444,
              "#bd3786"
             ],
             [
              0.5555555555555556,
              "#d8576b"
             ],
             [
              0.6666666666666666,
              "#ed7953"
             ],
             [
              0.7777777777777778,
              "#fb9f3a"
             ],
             [
              0.8888888888888888,
              "#fdca26"
             ],
             [
              1,
              "#f0f921"
             ]
            ],
            "type": "contour"
           }
          ],
          "contourcarpet": [
           {
            "colorbar": {
             "outlinewidth": 0,
             "ticks": ""
            },
            "type": "contourcarpet"
           }
          ],
          "heatmap": [
           {
            "colorbar": {
             "outlinewidth": 0,
             "ticks": ""
            },
            "colorscale": [
             [
              0,
              "#0d0887"
             ],
             [
              0.1111111111111111,
              "#46039f"
             ],
             [
              0.2222222222222222,
              "#7201a8"
             ],
             [
              0.3333333333333333,
              "#9c179e"
             ],
             [
              0.4444444444444444,
              "#bd3786"
             ],
             [
              0.5555555555555556,
              "#d8576b"
             ],
             [
              0.6666666666666666,
              "#ed7953"
             ],
             [
              0.7777777777777778,
              "#fb9f3a"
             ],
             [
              0.8888888888888888,
              "#fdca26"
             ],
             [
              1,
              "#f0f921"
             ]
            ],
            "type": "heatmap"
           }
          ],
          "heatmapgl": [
           {
            "colorbar": {
             "outlinewidth": 0,
             "ticks": ""
            },
            "colorscale": [
             [
              0,
              "#0d0887"
             ],
             [
              0.1111111111111111,
              "#46039f"
             ],
             [
              0.2222222222222222,
              "#7201a8"
             ],
             [
              0.3333333333333333,
              "#9c179e"
             ],
             [
              0.4444444444444444,
              "#bd3786"
             ],
             [
              0.5555555555555556,
              "#d8576b"
             ],
             [
              0.6666666666666666,
              "#ed7953"
             ],
             [
              0.7777777777777778,
              "#fb9f3a"
             ],
             [
              0.8888888888888888,
              "#fdca26"
             ],
             [
              1,
              "#f0f921"
             ]
            ],
            "type": "heatmapgl"
           }
          ],
          "histogram": [
           {
            "marker": {
             "colorbar": {
              "outlinewidth": 0,
              "ticks": ""
             }
            },
            "type": "histogram"
           }
          ],
          "histogram2d": [
           {
            "colorbar": {
             "outlinewidth": 0,
             "ticks": ""
            },
            "colorscale": [
             [
              0,
              "#0d0887"
             ],
             [
              0.1111111111111111,
              "#46039f"
             ],
             [
              0.2222222222222222,
              "#7201a8"
             ],
             [
              0.3333333333333333,
              "#9c179e"
             ],
             [
              0.4444444444444444,
              "#bd3786"
             ],
             [
              0.5555555555555556,
              "#d8576b"
             ],
             [
              0.6666666666666666,
              "#ed7953"
             ],
             [
              0.7777777777777778,
              "#fb9f3a"
             ],
             [
              0.8888888888888888,
              "#fdca26"
             ],
             [
              1,
              "#f0f921"
             ]
            ],
            "type": "histogram2d"
           }
          ],
          "histogram2dcontour": [
           {
            "colorbar": {
             "outlinewidth": 0,
             "ticks": ""
            },
            "colorscale": [
             [
              0,
              "#0d0887"
             ],
             [
              0.1111111111111111,
              "#46039f"
             ],
             [
              0.2222222222222222,
              "#7201a8"
             ],
             [
              0.3333333333333333,
              "#9c179e"
             ],
             [
              0.4444444444444444,
              "#bd3786"
             ],
             [
              0.5555555555555556,
              "#d8576b"
             ],
             [
              0.6666666666666666,
              "#ed7953"
             ],
             [
              0.7777777777777778,
              "#fb9f3a"
             ],
             [
              0.8888888888888888,
              "#fdca26"
             ],
             [
              1,
              "#f0f921"
             ]
            ],
            "type": "histogram2dcontour"
           }
          ],
          "mesh3d": [
           {
            "colorbar": {
             "outlinewidth": 0,
             "ticks": ""
            },
            "type": "mesh3d"
           }
          ],
          "parcoords": [
           {
            "line": {
             "colorbar": {
              "outlinewidth": 0,
              "ticks": ""
             }
            },
            "type": "parcoords"
           }
          ],
          "pie": [
           {
            "automargin": true,
            "type": "pie"
           }
          ],
          "scatter": [
           {
            "marker": {
             "colorbar": {
              "outlinewidth": 0,
              "ticks": ""
             }
            },
            "type": "scatter"
           }
          ],
          "scatter3d": [
           {
            "line": {
             "colorbar": {
              "outlinewidth": 0,
              "ticks": ""
             }
            },
            "marker": {
             "colorbar": {
              "outlinewidth": 0,
              "ticks": ""
             }
            },
            "type": "scatter3d"
           }
          ],
          "scattercarpet": [
           {
            "marker": {
             "colorbar": {
              "outlinewidth": 0,
              "ticks": ""
             }
            },
            "type": "scattercarpet"
           }
          ],
          "scattergeo": [
           {
            "marker": {
             "colorbar": {
              "outlinewidth": 0,
              "ticks": ""
             }
            },
            "type": "scattergeo"
           }
          ],
          "scattergl": [
           {
            "marker": {
             "colorbar": {
              "outlinewidth": 0,
              "ticks": ""
             }
            },
            "type": "scattergl"
           }
          ],
          "scattermapbox": [
           {
            "marker": {
             "colorbar": {
              "outlinewidth": 0,
              "ticks": ""
             }
            },
            "type": "scattermapbox"
           }
          ],
          "scatterpolar": [
           {
            "marker": {
             "colorbar": {
              "outlinewidth": 0,
              "ticks": ""
             }
            },
            "type": "scatterpolar"
           }
          ],
          "scatterpolargl": [
           {
            "marker": {
             "colorbar": {
              "outlinewidth": 0,
              "ticks": ""
             }
            },
            "type": "scatterpolargl"
           }
          ],
          "scatterternary": [
           {
            "marker": {
             "colorbar": {
              "outlinewidth": 0,
              "ticks": ""
             }
            },
            "type": "scatterternary"
           }
          ],
          "surface": [
           {
            "colorbar": {
             "outlinewidth": 0,
             "ticks": ""
            },
            "colorscale": [
             [
              0,
              "#0d0887"
             ],
             [
              0.1111111111111111,
              "#46039f"
             ],
             [
              0.2222222222222222,
              "#7201a8"
             ],
             [
              0.3333333333333333,
              "#9c179e"
             ],
             [
              0.4444444444444444,
              "#bd3786"
             ],
             [
              0.5555555555555556,
              "#d8576b"
             ],
             [
              0.6666666666666666,
              "#ed7953"
             ],
             [
              0.7777777777777778,
              "#fb9f3a"
             ],
             [
              0.8888888888888888,
              "#fdca26"
             ],
             [
              1,
              "#f0f921"
             ]
            ],
            "type": "surface"
           }
          ],
          "table": [
           {
            "cells": {
             "fill": {
              "color": "#EBF0F8"
             },
             "line": {
              "color": "white"
             }
            },
            "header": {
             "fill": {
              "color": "#C8D4E3"
             },
             "line": {
              "color": "white"
             }
            },
            "type": "table"
           }
          ]
         },
         "layout": {
          "annotationdefaults": {
           "arrowcolor": "#2a3f5f",
           "arrowhead": 0,
           "arrowwidth": 1
          },
          "coloraxis": {
           "colorbar": {
            "outlinewidth": 0,
            "ticks": ""
           }
          },
          "colorscale": {
           "diverging": [
            [
             0,
             "#8e0152"
            ],
            [
             0.1,
             "#c51b7d"
            ],
            [
             0.2,
             "#de77ae"
            ],
            [
             0.3,
             "#f1b6da"
            ],
            [
             0.4,
             "#fde0ef"
            ],
            [
             0.5,
             "#f7f7f7"
            ],
            [
             0.6,
             "#e6f5d0"
            ],
            [
             0.7,
             "#b8e186"
            ],
            [
             0.8,
             "#7fbc41"
            ],
            [
             0.9,
             "#4d9221"
            ],
            [
             1,
             "#276419"
            ]
           ],
           "sequential": [
            [
             0,
             "#0d0887"
            ],
            [
             0.1111111111111111,
             "#46039f"
            ],
            [
             0.2222222222222222,
             "#7201a8"
            ],
            [
             0.3333333333333333,
             "#9c179e"
            ],
            [
             0.4444444444444444,
             "#bd3786"
            ],
            [
             0.5555555555555556,
             "#d8576b"
            ],
            [
             0.6666666666666666,
             "#ed7953"
            ],
            [
             0.7777777777777778,
             "#fb9f3a"
            ],
            [
             0.8888888888888888,
             "#fdca26"
            ],
            [
             1,
             "#f0f921"
            ]
           ],
           "sequentialminus": [
            [
             0,
             "#0d0887"
            ],
            [
             0.1111111111111111,
             "#46039f"
            ],
            [
             0.2222222222222222,
             "#7201a8"
            ],
            [
             0.3333333333333333,
             "#9c179e"
            ],
            [
             0.4444444444444444,
             "#bd3786"
            ],
            [
             0.5555555555555556,
             "#d8576b"
            ],
            [
             0.6666666666666666,
             "#ed7953"
            ],
            [
             0.7777777777777778,
             "#fb9f3a"
            ],
            [
             0.8888888888888888,
             "#fdca26"
            ],
            [
             1,
             "#f0f921"
            ]
           ]
          },
          "colorway": [
           "#636efa",
           "#EF553B",
           "#00cc96",
           "#ab63fa",
           "#FFA15A",
           "#19d3f3",
           "#FF6692",
           "#B6E880",
           "#FF97FF",
           "#FECB52"
          ],
          "font": {
           "color": "#2a3f5f"
          },
          "geo": {
           "bgcolor": "white",
           "lakecolor": "white",
           "landcolor": "#E5ECF6",
           "showlakes": true,
           "showland": true,
           "subunitcolor": "white"
          },
          "hoverlabel": {
           "align": "left"
          },
          "hovermode": "closest",
          "mapbox": {
           "style": "light"
          },
          "paper_bgcolor": "white",
          "plot_bgcolor": "#E5ECF6",
          "polar": {
           "angularaxis": {
            "gridcolor": "white",
            "linecolor": "white",
            "ticks": ""
           },
           "bgcolor": "#E5ECF6",
           "radialaxis": {
            "gridcolor": "white",
            "linecolor": "white",
            "ticks": ""
           }
          },
          "scene": {
           "xaxis": {
            "backgroundcolor": "#E5ECF6",
            "gridcolor": "white",
            "gridwidth": 2,
            "linecolor": "white",
            "showbackground": true,
            "ticks": "",
            "zerolinecolor": "white"
           },
           "yaxis": {
            "backgroundcolor": "#E5ECF6",
            "gridcolor": "white",
            "gridwidth": 2,
            "linecolor": "white",
            "showbackground": true,
            "ticks": "",
            "zerolinecolor": "white"
           },
           "zaxis": {
            "backgroundcolor": "#E5ECF6",
            "gridcolor": "white",
            "gridwidth": 2,
            "linecolor": "white",
            "showbackground": true,
            "ticks": "",
            "zerolinecolor": "white"
           }
          },
          "shapedefaults": {
           "line": {
            "color": "#2a3f5f"
           }
          },
          "ternary": {
           "aaxis": {
            "gridcolor": "white",
            "linecolor": "white",
            "ticks": ""
           },
           "baxis": {
            "gridcolor": "white",
            "linecolor": "white",
            "ticks": ""
           },
           "bgcolor": "#E5ECF6",
           "caxis": {
            "gridcolor": "white",
            "linecolor": "white",
            "ticks": ""
           }
          },
          "title": {
           "x": 0.05
          },
          "xaxis": {
           "automargin": true,
           "gridcolor": "white",
           "linecolor": "white",
           "ticks": "",
           "title": {
            "standoff": 15
           },
           "zerolinecolor": "white",
           "zerolinewidth": 2
          },
          "yaxis": {
           "automargin": true,
           "gridcolor": "white",
           "linecolor": "white",
           "ticks": "",
           "title": {
            "standoff": 15
           },
           "zerolinecolor": "white",
           "zerolinewidth": 2
          }
         }
        },
        "width": 1000,
        "xaxis": {
         "anchor": "y",
         "domain": [
          0,
          0.6499999999999999
         ],
         "title": {
          "text": "Year"
         }
        },
        "xaxis2": {
         "anchor": "y2",
         "domain": [
          0.35,
          1
         ],
         "title": {
          "text": "Year"
         }
        },
        "xaxis3": {
         "anchor": "y3",
         "domain": [
          0,
          0.6499999999999999
         ],
         "title": {
          "text": "Year"
         }
        },
        "xaxis4": {
         "anchor": "y4",
         "domain": [
          0.35,
          1
         ],
         "title": {
          "text": "Year"
         }
        },
        "yaxis": {
         "anchor": "x",
         "domain": [
          0.825,
          1
         ],
         "title": {
          "text": "Percentage"
         }
        },
        "yaxis2": {
         "anchor": "x2",
         "domain": [
          0.55,
          0.7250000000000001
         ],
         "side": "right",
         "title": {
          "text": "Percentage"
         }
        },
        "yaxis3": {
         "anchor": "x3",
         "domain": [
          0.275,
          0.45
         ],
         "title": {
          "text": "Num. Tb"
         }
        },
        "yaxis4": {
         "anchor": "x4",
         "domain": [
          0,
          0.175
         ],
         "side": "right",
         "title": {
          "text": "Percentage"
         }
        },
        "yaxis5": {
         "title": {
          "text": "Num. Sets"
         }
        },
        "yaxis6": {
         "side": "right",
         "title": {
          "text": "Percentage"
         }
        }
       }
      }
     },
     "metadata": {}
    }
   ],
   "source": [
    "plot_ts_and_pie(success_overall, \n",
    "                total_overall, \n",
    "                stats_by_year, \n",
    "                upper_df, \n",
    "                lower_df, \n",
    "                columns=['bpSaved', 'bpConverted', 'tbWon', 'decidingSetWon'], \n",
    "                colors=['rgb(33,113,181)', 'rgb(217,71,1)', 'rgb(81, 178, 124)', 'rgb(235, 127, 134)', 'rgb(33,113,181)', 'rgb(217,71,1)',]\n",
    "                )"
   ]
  },
  {
   "cell_type": "code",
   "execution_count": 68,
   "metadata": {},
   "outputs": [
    {
     "output_type": "error",
     "ename": "KeyError",
     "evalue": "'meanBpConverted'",
     "traceback": [
      "\u001b[1;31m---------------------------------------------------------------------------\u001b[0m",
      "\u001b[1;31mKeyError\u001b[0m                                  Traceback (most recent call last)",
      "\u001b[1;32m~\\Anaconda3\\lib\\site-packages\\pandas\\core\\indexes\\base.py\u001b[0m in \u001b[0;36mget_loc\u001b[1;34m(self, key, method, tolerance)\u001b[0m\n\u001b[0;32m   2645\u001b[0m             \u001b[1;32mtry\u001b[0m\u001b[1;33m:\u001b[0m\u001b[1;33m\u001b[0m\u001b[1;33m\u001b[0m\u001b[0m\n\u001b[1;32m-> 2646\u001b[1;33m                 \u001b[1;32mreturn\u001b[0m \u001b[0mself\u001b[0m\u001b[1;33m.\u001b[0m\u001b[0m_engine\u001b[0m\u001b[1;33m.\u001b[0m\u001b[0mget_loc\u001b[0m\u001b[1;33m(\u001b[0m\u001b[0mkey\u001b[0m\u001b[1;33m)\u001b[0m\u001b[1;33m\u001b[0m\u001b[1;33m\u001b[0m\u001b[0m\n\u001b[0m\u001b[0;32m   2647\u001b[0m             \u001b[1;32mexcept\u001b[0m \u001b[0mKeyError\u001b[0m\u001b[1;33m:\u001b[0m\u001b[1;33m\u001b[0m\u001b[1;33m\u001b[0m\u001b[0m\n",
      "\u001b[1;32mpandas\\_libs\\index.pyx\u001b[0m in \u001b[0;36mpandas._libs.index.IndexEngine.get_loc\u001b[1;34m()\u001b[0m\n",
      "\u001b[1;32mpandas\\_libs\\index.pyx\u001b[0m in \u001b[0;36mpandas._libs.index.IndexEngine.get_loc\u001b[1;34m()\u001b[0m\n",
      "\u001b[1;32mpandas\\_libs\\hashtable_class_helper.pxi\u001b[0m in \u001b[0;36mpandas._libs.hashtable.PyObjectHashTable.get_item\u001b[1;34m()\u001b[0m\n",
      "\u001b[1;32mpandas\\_libs\\hashtable_class_helper.pxi\u001b[0m in \u001b[0;36mpandas._libs.hashtable.PyObjectHashTable.get_item\u001b[1;34m()\u001b[0m\n",
      "\u001b[1;31mKeyError\u001b[0m: 'meanBpConverted'",
      "\nDuring handling of the above exception, another exception occurred:\n",
      "\u001b[1;31mKeyError\u001b[0m                                  Traceback (most recent call last)",
      "\u001b[1;32m<ipython-input-68-a76966d64dd0>\u001b[0m in \u001b[0;36m<module>\u001b[1;34m\u001b[0m\n\u001b[0;32m    246\u001b[0m     \u001b[1;32mreturn\u001b[0m \u001b[0mfig\u001b[0m\u001b[1;33m\u001b[0m\u001b[1;33m\u001b[0m\u001b[0m\n\u001b[0;32m    247\u001b[0m \u001b[1;33m\u001b[0m\u001b[0m\n\u001b[1;32m--> 248\u001b[1;33m \u001b[0mplot_under_pressure\u001b[0m\u001b[1;33m(\u001b[0m\u001b[0mstats_by_year\u001b[0m\u001b[1;33m,\u001b[0m \u001b[0mupper_df\u001b[0m\u001b[1;33m,\u001b[0m \u001b[0mlower_df\u001b[0m\u001b[1;33m,\u001b[0m \u001b[0mstats_overall\u001b[0m\u001b[1;33m)\u001b[0m\u001b[1;33m\u001b[0m\u001b[1;33m\u001b[0m\u001b[0m\n\u001b[0m",
      "\u001b[1;32m<ipython-input-68-a76966d64dd0>\u001b[0m in \u001b[0;36mplot_under_pressure\u001b[1;34m(stats_by_year, upper_df, lower_df, stats_overall)\u001b[0m\n\u001b[0;32m     53\u001b[0m     fig.add_trace(\n\u001b[0;32m     54\u001b[0m         go.Scatter(\n\u001b[1;32m---> 55\u001b[1;33m             \u001b[0mx\u001b[0m\u001b[1;33m=\u001b[0m\u001b[0mx\u001b[0m\u001b[1;33m,\u001b[0m \u001b[0my\u001b[0m\u001b[1;33m=\u001b[0m\u001b[0mstats_by_year\u001b[0m\u001b[1;33m[\u001b[0m\u001b[1;34m'meanBpConverted'\u001b[0m\u001b[1;33m]\u001b[0m\u001b[1;33m,\u001b[0m\u001b[1;33m\u001b[0m\u001b[1;33m\u001b[0m\u001b[0m\n\u001b[0m\u001b[0;32m     56\u001b[0m             \u001b[0mname\u001b[0m\u001b[1;33m=\u001b[0m\u001b[1;34m'Mean Perc BP Converted'\u001b[0m\u001b[1;33m,\u001b[0m\u001b[1;33m\u001b[0m\u001b[1;33m\u001b[0m\u001b[0m\n\u001b[0;32m     57\u001b[0m             \u001b[0mtextposition\u001b[0m\u001b[1;33m=\u001b[0m\u001b[1;34m'top center'\u001b[0m\u001b[1;33m,\u001b[0m\u001b[1;33m\u001b[0m\u001b[1;33m\u001b[0m\u001b[0m\n",
      "\u001b[1;32m~\\Anaconda3\\lib\\site-packages\\pandas\\core\\frame.py\u001b[0m in \u001b[0;36m__getitem__\u001b[1;34m(self, key)\u001b[0m\n\u001b[0;32m   2798\u001b[0m             \u001b[1;32mif\u001b[0m \u001b[0mself\u001b[0m\u001b[1;33m.\u001b[0m\u001b[0mcolumns\u001b[0m\u001b[1;33m.\u001b[0m\u001b[0mnlevels\u001b[0m \u001b[1;33m>\u001b[0m \u001b[1;36m1\u001b[0m\u001b[1;33m:\u001b[0m\u001b[1;33m\u001b[0m\u001b[1;33m\u001b[0m\u001b[0m\n\u001b[0;32m   2799\u001b[0m                 \u001b[1;32mreturn\u001b[0m \u001b[0mself\u001b[0m\u001b[1;33m.\u001b[0m\u001b[0m_getitem_multilevel\u001b[0m\u001b[1;33m(\u001b[0m\u001b[0mkey\u001b[0m\u001b[1;33m)\u001b[0m\u001b[1;33m\u001b[0m\u001b[1;33m\u001b[0m\u001b[0m\n\u001b[1;32m-> 2800\u001b[1;33m             \u001b[0mindexer\u001b[0m \u001b[1;33m=\u001b[0m \u001b[0mself\u001b[0m\u001b[1;33m.\u001b[0m\u001b[0mcolumns\u001b[0m\u001b[1;33m.\u001b[0m\u001b[0mget_loc\u001b[0m\u001b[1;33m(\u001b[0m\u001b[0mkey\u001b[0m\u001b[1;33m)\u001b[0m\u001b[1;33m\u001b[0m\u001b[1;33m\u001b[0m\u001b[0m\n\u001b[0m\u001b[0;32m   2801\u001b[0m             \u001b[1;32mif\u001b[0m \u001b[0mis_integer\u001b[0m\u001b[1;33m(\u001b[0m\u001b[0mindexer\u001b[0m\u001b[1;33m)\u001b[0m\u001b[1;33m:\u001b[0m\u001b[1;33m\u001b[0m\u001b[1;33m\u001b[0m\u001b[0m\n\u001b[0;32m   2802\u001b[0m                 \u001b[0mindexer\u001b[0m \u001b[1;33m=\u001b[0m \u001b[1;33m[\u001b[0m\u001b[0mindexer\u001b[0m\u001b[1;33m]\u001b[0m\u001b[1;33m\u001b[0m\u001b[1;33m\u001b[0m\u001b[0m\n",
      "\u001b[1;32m~\\Anaconda3\\lib\\site-packages\\pandas\\core\\indexes\\base.py\u001b[0m in \u001b[0;36mget_loc\u001b[1;34m(self, key, method, tolerance)\u001b[0m\n\u001b[0;32m   2646\u001b[0m                 \u001b[1;32mreturn\u001b[0m \u001b[0mself\u001b[0m\u001b[1;33m.\u001b[0m\u001b[0m_engine\u001b[0m\u001b[1;33m.\u001b[0m\u001b[0mget_loc\u001b[0m\u001b[1;33m(\u001b[0m\u001b[0mkey\u001b[0m\u001b[1;33m)\u001b[0m\u001b[1;33m\u001b[0m\u001b[1;33m\u001b[0m\u001b[0m\n\u001b[0;32m   2647\u001b[0m             \u001b[1;32mexcept\u001b[0m \u001b[0mKeyError\u001b[0m\u001b[1;33m:\u001b[0m\u001b[1;33m\u001b[0m\u001b[1;33m\u001b[0m\u001b[0m\n\u001b[1;32m-> 2648\u001b[1;33m                 \u001b[1;32mreturn\u001b[0m \u001b[0mself\u001b[0m\u001b[1;33m.\u001b[0m\u001b[0m_engine\u001b[0m\u001b[1;33m.\u001b[0m\u001b[0mget_loc\u001b[0m\u001b[1;33m(\u001b[0m\u001b[0mself\u001b[0m\u001b[1;33m.\u001b[0m\u001b[0m_maybe_cast_indexer\u001b[0m\u001b[1;33m(\u001b[0m\u001b[0mkey\u001b[0m\u001b[1;33m)\u001b[0m\u001b[1;33m)\u001b[0m\u001b[1;33m\u001b[0m\u001b[1;33m\u001b[0m\u001b[0m\n\u001b[0m\u001b[0;32m   2649\u001b[0m         \u001b[0mindexer\u001b[0m \u001b[1;33m=\u001b[0m \u001b[0mself\u001b[0m\u001b[1;33m.\u001b[0m\u001b[0mget_indexer\u001b[0m\u001b[1;33m(\u001b[0m\u001b[1;33m[\u001b[0m\u001b[0mkey\u001b[0m\u001b[1;33m]\u001b[0m\u001b[1;33m,\u001b[0m \u001b[0mmethod\u001b[0m\u001b[1;33m=\u001b[0m\u001b[0mmethod\u001b[0m\u001b[1;33m,\u001b[0m \u001b[0mtolerance\u001b[0m\u001b[1;33m=\u001b[0m\u001b[0mtolerance\u001b[0m\u001b[1;33m)\u001b[0m\u001b[1;33m\u001b[0m\u001b[1;33m\u001b[0m\u001b[0m\n\u001b[0;32m   2650\u001b[0m         \u001b[1;32mif\u001b[0m \u001b[0mindexer\u001b[0m\u001b[1;33m.\u001b[0m\u001b[0mndim\u001b[0m \u001b[1;33m>\u001b[0m \u001b[1;36m1\u001b[0m \u001b[1;32mor\u001b[0m \u001b[0mindexer\u001b[0m\u001b[1;33m.\u001b[0m\u001b[0msize\u001b[0m \u001b[1;33m>\u001b[0m \u001b[1;36m1\u001b[0m\u001b[1;33m:\u001b[0m\u001b[1;33m\u001b[0m\u001b[1;33m\u001b[0m\u001b[0m\n",
      "\u001b[1;32mpandas\\_libs\\index.pyx\u001b[0m in \u001b[0;36mpandas._libs.index.IndexEngine.get_loc\u001b[1;34m()\u001b[0m\n",
      "\u001b[1;32mpandas\\_libs\\index.pyx\u001b[0m in \u001b[0;36mpandas._libs.index.IndexEngine.get_loc\u001b[1;34m()\u001b[0m\n",
      "\u001b[1;32mpandas\\_libs\\hashtable_class_helper.pxi\u001b[0m in \u001b[0;36mpandas._libs.hashtable.PyObjectHashTable.get_item\u001b[1;34m()\u001b[0m\n",
      "\u001b[1;32mpandas\\_libs\\hashtable_class_helper.pxi\u001b[0m in \u001b[0;36mpandas._libs.hashtable.PyObjectHashTable.get_item\u001b[1;34m()\u001b[0m\n",
      "\u001b[1;31mKeyError\u001b[0m: 'meanBpConverted'"
     ]
    }
   ],
   "source": [
    "def plot_under_pressure(stats_by_year, upper_df, lower_df, stats_overall):\n",
    "\n",
    "    colors = [\n",
    "        'rgb(33,113,181)',\n",
    "        'rgb(217,71,1)',\n",
    "        'rgb(81, 178, 124)',\n",
    "        'rgb(235, 127, 134)'\n",
    "        ]\n",
    "\n",
    "\n",
    "    fig = make_subplots(\n",
    "        cols=3, rows=4,\n",
    "        specs=[[{'colspan': 2}, None, {'type': 'pie'}],\n",
    "                [{'type': 'pie'}, {'colspan': 2}, None],\n",
    "                [{'colspan': 2, 'secondary_y': True}, None, {'type': 'pie'}],\n",
    "                [{'type': 'pie'}, {'colspan': 2, 'secondary_y': True}, None]],\n",
    "        \n",
    "        subplot_titles=[\n",
    "                'Percentage BreakPoint Converted by Year',  'Perc. BreakPoint Converted Overall',\n",
    "                'Perc. BreakPoint Saved Overall',  'Percentage BreakPoint Saved by Year',\n",
    "                'TieBreak Won by Year',  'TieBreak Won Overall',\n",
    "                'Deciding Sets Won Overall',  'Deciding Sets Won by Year'\n",
    "                ],\n",
    "        \n",
    "    )\n",
    "        \n",
    "\n",
    "    x = stats_by_year['year']\n",
    "    \n",
    "    # Break Point Converted\n",
    "    fig.add_trace(\n",
    "        go.Scatter(\n",
    "            x=x, y=upper_df['upper_bpConverted'],\n",
    "            name='Upper Band',\n",
    "            fill=None,\n",
    "            mode='lines',\n",
    "            line=dict(color='darksalmon', width=1)\n",
    "        ),\n",
    "        row=1, col=1\n",
    "    )\n",
    "\n",
    "    fig.add_trace(\n",
    "        go.Scatter(\n",
    "            x=x, y=lower_df['lower_bpConverted'],\n",
    "            name='Lower Band',\n",
    "            fill='tonexty', # fill area between trace0 and trace1\n",
    "            mode='lines',\n",
    "            line=dict(color='darksalmon', width=1)\n",
    "        ),\n",
    "        row=1, col=1\n",
    "    )\n",
    "\n",
    "    fig.add_trace(\n",
    "        go.Scatter(\n",
    "            x=x, y=stats_by_year['meanBpConverted'],\n",
    "            name='Mean Perc BP Converted',\n",
    "            textposition='top center',\n",
    "            mode='lines+markers',\n",
    "            connectgaps=True,\n",
    "            marker={'color': colors[0]},\n",
    "        ),\n",
    "        row=1, col=1\n",
    "    )\n",
    "\n",
    "    fig.add_trace(\n",
    "        go.Pie(\n",
    "            labels=['BP Converted', 'BP Not Converted'],\n",
    "            values=[stats_overall['bpConverted'], stats_overall['bpTotal'] - stats_overall['bpConverted']],\n",
    "            marker={'colors': ['seagreen', 'indianred'],\n",
    "                        'line': {'color':'white', 'width':1}}\n",
    "        ),\n",
    "        row=1, col=3\n",
    "    )\n",
    "\n",
    "\n",
    "    # Break Point Saved\n",
    "    fig.add_trace(\n",
    "        go.Scatter(\n",
    "            x=x, y=upper_df['upper_bpSaved'], \n",
    "            name='Upper Band',\n",
    "            fill=None,\n",
    "            mode='lines',\n",
    "            line=dict(color='darksalmon', width=1)\n",
    "        ),\n",
    "        row=2, col=2\n",
    "    )\n",
    "\n",
    "    fig.add_trace(\n",
    "        go.Scatter(\n",
    "            x=x, y=lower_df['lower_bpSaved'],\n",
    "            name='Lower Band',\n",
    "            fill='tonexty', # fill area between trace0 and trace1\n",
    "            mode='lines',\n",
    "            line=dict(color='darksalmon', width=1)\n",
    "        ),\n",
    "        row=2, col=2\n",
    "    )\n",
    "\n",
    "    fig.add_trace(\n",
    "        go.Scatter(\n",
    "            x=x, y=stats_by_year['meanBpSaved'],\n",
    "            name='Mean Perc BP Saved',\n",
    "            textposition='top center',\n",
    "            mode='lines+markers',\n",
    "            connectgaps=True,\n",
    "            marker={'color': colors[1]},\n",
    "        ),\n",
    "        row=2, col=2\n",
    "    )\n",
    "    \n",
    "    fig.add_trace(\n",
    "        go.Pie(\n",
    "            labels=['BP Saved', 'BP Lost'],\n",
    "            values=[stats_overall['bpSaved'], stats_overall['bpFaced'] - stats_overall['bpSaved']],\n",
    "            marker={'colors': ['seagreen', 'indianred'],\n",
    "                        'line': {'color':'white', 'width':1}}\n",
    "        ),\n",
    "        row=2, col=1\n",
    "    )\n",
    "    \n",
    "    \n",
    "    \n",
    "    # Tie Break\n",
    "    fig.add_trace(\n",
    "        go.Bar(\n",
    "            x=x, y=stats_by_year['tbWon'],\n",
    "            name='TieBreak Won',\n",
    "            marker={'color': 'seagreen'},\n",
    "            text=stats_by_year['tbWon'],\n",
    "            textposition='inside',\n",
    "            textfont_size=8,\n",
    "            opacity=0.8\n",
    "        ),\n",
    "        row=3, col=1,\n",
    "        secondary_y=False\n",
    "    )\n",
    "\n",
    "    fig.add_trace(\n",
    "        go.Bar(\n",
    "            x=x, y=stats_by_year['tbLost'],\n",
    "            name='TieBreak Lost',\n",
    "            marker={'color': 'indianred'},\n",
    "            text=stats_by_year['tbLost'],\n",
    "            textposition='inside',\n",
    "            textfont_size=8,\n",
    "            opacity=0.8\n",
    "        ),\n",
    "        row=3, col=1,\n",
    "        secondary_y=False\n",
    "    )\n",
    "\n",
    "    fig.add_trace(\n",
    "        go.Scatter(\n",
    "            x=x, y=stats_by_year['percTbWon'],\n",
    "            name='Win Rate',\n",
    "            line={'color':'midnightblue', 'width':2},\n",
    "            mode='lines+text',\n",
    "            text=stats_by_year['percTbWon'].round(2),\n",
    "            textposition='top center',\n",
    "            textfont_size=8\n",
    "        ),\n",
    "        row=3, col=1,\n",
    "        secondary_y=True\n",
    "    )\n",
    "   \n",
    "    fig.add_trace(\n",
    "        go.Pie(\n",
    "            labels=['TB Won', 'TP Lost'],\n",
    "            values=[stats_overall['tbWon'], stats_overall['tbPlayed'] - stats_overall['tbWon']],\n",
    "            marker={'colors': ['seagreen', 'indianred'],\n",
    "                        'line': {'color':'white', 'width':1}}\n",
    "        ),\n",
    "        row=3, col=3\n",
    "    )\n",
    "    \n",
    "    \n",
    "    \n",
    "    # Deciding Set\n",
    "    fig.add_trace(\n",
    "        go.Bar(\n",
    "            x=x, y=stats_by_year['decidingSetWon'],\n",
    "            name='Deciding Sets Won',\n",
    "            marker={'color': 'seagreen'},\n",
    "            text=stats_by_year['tbWon'],\n",
    "            textposition='inside',\n",
    "            textfont_size=8,\n",
    "            opacity=0.8\n",
    "        ),\n",
    "        row=4, col=2,\n",
    "        secondary_y=False\n",
    "    )\n",
    "\n",
    "    fig.add_trace(\n",
    "        go.Bar(\n",
    "            x=x, y=stats_by_year['DecidingSetLost'],\n",
    "            name='Deciding Sets Lost',\n",
    "            marker={'color': 'indianred'},\n",
    "            text=stats_by_year['tbLost'],\n",
    "            textposition='inside',\n",
    "            textfont_size=8,\n",
    "            opacity=0.8\n",
    "        ),\n",
    "        row=4, col=2,\n",
    "        secondary_y=False\n",
    "    )\n",
    "    \n",
    "    fig.add_trace(\n",
    "        go.Scatter(\n",
    "            x=x, y=stats_by_year['percDecidingSetWon'],\n",
    "            name='Win Rate',\n",
    "            line={'color':'midnightblue', 'width':2},\n",
    "            mode='lines+text',\n",
    "            text=stats_by_year['percDecidingSetWon'].round(2),\n",
    "            textposition='top center',\n",
    "            textfont_size=8\n",
    "        ),\n",
    "        row=4, col=2,\n",
    "        secondary_y=True\n",
    "    )\n",
    "   \n",
    "    fig.add_trace(\n",
    "        go.Pie(\n",
    "            labels=['Deciding Set Won', 'Deciding Set Lost'],\n",
    "            values=[stats_overall['decidingSetWon'], stats_overall['decidingSetPlayed'] - stats_overall['decidingSetWon']],\n",
    "            marker={'colors': ['seagreen', 'indianred'],\n",
    "                        'line': {'color':'white', 'width':1}}\n",
    "        ),\n",
    "        row=4, col=1\n",
    "    )\n",
    "    \n",
    "\n",
    "    \n",
    "    \n",
    "    # Layout\n",
    "    fig.update_layout(\n",
    "        barmode='stack',\n",
    "            height = 1000, width=1000, \n",
    "            xaxis1={'title': 'Year'}, xaxis2={'title': 'Year'},\n",
    "            xaxis3={'title': 'Year'}, xaxis4={'title': 'Year'},\n",
    "            yaxis={'title': 'Percentage'}, \n",
    "            yaxis2={'title': 'Percentage', 'side':'right'},\n",
    "            yaxis3={'title': 'Num. Tb'}, yaxis4={'title': 'Percentage', 'side':'right'},\n",
    "            yaxis5={'title': 'Num. Sets'}, yaxis6={'title': 'Percentage', 'side':'right'},\n",
    "            showlegend=False\n",
    "        )\n",
    "    return fig\n",
    "\n",
    "plot_under_pressure(stats_by_year, upper_df, lower_df, stats_overall)"
   ]
  },
  {
   "cell_type": "code",
   "execution_count": 69,
   "metadata": {},
   "outputs": [
    {
     "output_type": "display_data",
     "data": {
      "application/vnd.plotly.v1+json": {
       "config": {
        "plotlyServerURL": "https://plot.ly"
       },
       "data": [
        {
         "type": "pie",
         "values": [
          0.7,
          0.30000000000000004
         ]
        }
       ],
       "layout": {
        "template": {
         "data": {
          "bar": [
           {
            "error_x": {
             "color": "#2a3f5f"
            },
            "error_y": {
             "color": "#2a3f5f"
            },
            "marker": {
             "line": {
              "color": "#E5ECF6",
              "width": 0.5
             }
            },
            "type": "bar"
           }
          ],
          "barpolar": [
           {
            "marker": {
             "line": {
              "color": "#E5ECF6",
              "width": 0.5
             }
            },
            "type": "barpolar"
           }
          ],
          "carpet": [
           {
            "aaxis": {
             "endlinecolor": "#2a3f5f",
             "gridcolor": "white",
             "linecolor": "white",
             "minorgridcolor": "white",
             "startlinecolor": "#2a3f5f"
            },
            "baxis": {
             "endlinecolor": "#2a3f5f",
             "gridcolor": "white",
             "linecolor": "white",
             "minorgridcolor": "white",
             "startlinecolor": "#2a3f5f"
            },
            "type": "carpet"
           }
          ],
          "choropleth": [
           {
            "colorbar": {
             "outlinewidth": 0,
             "ticks": ""
            },
            "type": "choropleth"
           }
          ],
          "contour": [
           {
            "colorbar": {
             "outlinewidth": 0,
             "ticks": ""
            },
            "colorscale": [
             [
              0,
              "#0d0887"
             ],
             [
              0.1111111111111111,
              "#46039f"
             ],
             [
              0.2222222222222222,
              "#7201a8"
             ],
             [
              0.3333333333333333,
              "#9c179e"
             ],
             [
              0.4444444444444444,
              "#bd3786"
             ],
             [
              0.5555555555555556,
              "#d8576b"
             ],
             [
              0.6666666666666666,
              "#ed7953"
             ],
             [
              0.7777777777777778,
              "#fb9f3a"
             ],
             [
              0.8888888888888888,
              "#fdca26"
             ],
             [
              1,
              "#f0f921"
             ]
            ],
            "type": "contour"
           }
          ],
          "contourcarpet": [
           {
            "colorbar": {
             "outlinewidth": 0,
             "ticks": ""
            },
            "type": "contourcarpet"
           }
          ],
          "heatmap": [
           {
            "colorbar": {
             "outlinewidth": 0,
             "ticks": ""
            },
            "colorscale": [
             [
              0,
              "#0d0887"
             ],
             [
              0.1111111111111111,
              "#46039f"
             ],
             [
              0.2222222222222222,
              "#7201a8"
             ],
             [
              0.3333333333333333,
              "#9c179e"
             ],
             [
              0.4444444444444444,
              "#bd3786"
             ],
             [
              0.5555555555555556,
              "#d8576b"
             ],
             [
              0.6666666666666666,
              "#ed7953"
             ],
             [
              0.7777777777777778,
              "#fb9f3a"
             ],
             [
              0.8888888888888888,
              "#fdca26"
             ],
             [
              1,
              "#f0f921"
             ]
            ],
            "type": "heatmap"
           }
          ],
          "heatmapgl": [
           {
            "colorbar": {
             "outlinewidth": 0,
             "ticks": ""
            },
            "colorscale": [
             [
              0,
              "#0d0887"
             ],
             [
              0.1111111111111111,
              "#46039f"
             ],
             [
              0.2222222222222222,
              "#7201a8"
             ],
             [
              0.3333333333333333,
              "#9c179e"
             ],
             [
              0.4444444444444444,
              "#bd3786"
             ],
             [
              0.5555555555555556,
              "#d8576b"
             ],
             [
              0.6666666666666666,
              "#ed7953"
             ],
             [
              0.7777777777777778,
              "#fb9f3a"
             ],
             [
              0.8888888888888888,
              "#fdca26"
             ],
             [
              1,
              "#f0f921"
             ]
            ],
            "type": "heatmapgl"
           }
          ],
          "histogram": [
           {
            "marker": {
             "colorbar": {
              "outlinewidth": 0,
              "ticks": ""
             }
            },
            "type": "histogram"
           }
          ],
          "histogram2d": [
           {
            "colorbar": {
             "outlinewidth": 0,
             "ticks": ""
            },
            "colorscale": [
             [
              0,
              "#0d0887"
             ],
             [
              0.1111111111111111,
              "#46039f"
             ],
             [
              0.2222222222222222,
              "#7201a8"
             ],
             [
              0.3333333333333333,
              "#9c179e"
             ],
             [
              0.4444444444444444,
              "#bd3786"
             ],
             [
              0.5555555555555556,
              "#d8576b"
             ],
             [
              0.6666666666666666,
              "#ed7953"
             ],
             [
              0.7777777777777778,
              "#fb9f3a"
             ],
             [
              0.8888888888888888,
              "#fdca26"
             ],
             [
              1,
              "#f0f921"
             ]
            ],
            "type": "histogram2d"
           }
          ],
          "histogram2dcontour": [
           {
            "colorbar": {
             "outlinewidth": 0,
             "ticks": ""
            },
            "colorscale": [
             [
              0,
              "#0d0887"
             ],
             [
              0.1111111111111111,
              "#46039f"
             ],
             [
              0.2222222222222222,
              "#7201a8"
             ],
             [
              0.3333333333333333,
              "#9c179e"
             ],
             [
              0.4444444444444444,
              "#bd3786"
             ],
             [
              0.5555555555555556,
              "#d8576b"
             ],
             [
              0.6666666666666666,
              "#ed7953"
             ],
             [
              0.7777777777777778,
              "#fb9f3a"
             ],
             [
              0.8888888888888888,
              "#fdca26"
             ],
             [
              1,
              "#f0f921"
             ]
            ],
            "type": "histogram2dcontour"
           }
          ],
          "mesh3d": [
           {
            "colorbar": {
             "outlinewidth": 0,
             "ticks": ""
            },
            "type": "mesh3d"
           }
          ],
          "parcoords": [
           {
            "line": {
             "colorbar": {
              "outlinewidth": 0,
              "ticks": ""
             }
            },
            "type": "parcoords"
           }
          ],
          "pie": [
           {
            "automargin": true,
            "type": "pie"
           }
          ],
          "scatter": [
           {
            "marker": {
             "colorbar": {
              "outlinewidth": 0,
              "ticks": ""
             }
            },
            "type": "scatter"
           }
          ],
          "scatter3d": [
           {
            "line": {
             "colorbar": {
              "outlinewidth": 0,
              "ticks": ""
             }
            },
            "marker": {
             "colorbar": {
              "outlinewidth": 0,
              "ticks": ""
             }
            },
            "type": "scatter3d"
           }
          ],
          "scattercarpet": [
           {
            "marker": {
             "colorbar": {
              "outlinewidth": 0,
              "ticks": ""
             }
            },
            "type": "scattercarpet"
           }
          ],
          "scattergeo": [
           {
            "marker": {
             "colorbar": {
              "outlinewidth": 0,
              "ticks": ""
             }
            },
            "type": "scattergeo"
           }
          ],
          "scattergl": [
           {
            "marker": {
             "colorbar": {
              "outlinewidth": 0,
              "ticks": ""
             }
            },
            "type": "scattergl"
           }
          ],
          "scattermapbox": [
           {
            "marker": {
             "colorbar": {
              "outlinewidth": 0,
              "ticks": ""
             }
            },
            "type": "scattermapbox"
           }
          ],
          "scatterpolar": [
           {
            "marker": {
             "colorbar": {
              "outlinewidth": 0,
              "ticks": ""
             }
            },
            "type": "scatterpolar"
           }
          ],
          "scatterpolargl": [
           {
            "marker": {
             "colorbar": {
              "outlinewidth": 0,
              "ticks": ""
             }
            },
            "type": "scatterpolargl"
           }
          ],
          "scatterternary": [
           {
            "marker": {
             "colorbar": {
              "outlinewidth": 0,
              "ticks": ""
             }
            },
            "type": "scatterternary"
           }
          ],
          "surface": [
           {
            "colorbar": {
             "outlinewidth": 0,
             "ticks": ""
            },
            "colorscale": [
             [
              0,
              "#0d0887"
             ],
             [
              0.1111111111111111,
              "#46039f"
             ],
             [
              0.2222222222222222,
              "#7201a8"
             ],
             [
              0.3333333333333333,
              "#9c179e"
             ],
             [
              0.4444444444444444,
              "#bd3786"
             ],
             [
              0.5555555555555556,
              "#d8576b"
             ],
             [
              0.6666666666666666,
              "#ed7953"
             ],
             [
              0.7777777777777778,
              "#fb9f3a"
             ],
             [
              0.8888888888888888,
              "#fdca26"
             ],
             [
              1,
              "#f0f921"
             ]
            ],
            "type": "surface"
           }
          ],
          "table": [
           {
            "cells": {
             "fill": {
              "color": "#EBF0F8"
             },
             "line": {
              "color": "white"
             }
            },
            "header": {
             "fill": {
              "color": "#C8D4E3"
             },
             "line": {
              "color": "white"
             }
            },
            "type": "table"
           }
          ]
         },
         "layout": {
          "annotationdefaults": {
           "arrowcolor": "#2a3f5f",
           "arrowhead": 0,
           "arrowwidth": 1
          },
          "coloraxis": {
           "colorbar": {
            "outlinewidth": 0,
            "ticks": ""
           }
          },
          "colorscale": {
           "diverging": [
            [
             0,
             "#8e0152"
            ],
            [
             0.1,
             "#c51b7d"
            ],
            [
             0.2,
             "#de77ae"
            ],
            [
             0.3,
             "#f1b6da"
            ],
            [
             0.4,
             "#fde0ef"
            ],
            [
             0.5,
             "#f7f7f7"
            ],
            [
             0.6,
             "#e6f5d0"
            ],
            [
             0.7,
             "#b8e186"
            ],
            [
             0.8,
             "#7fbc41"
            ],
            [
             0.9,
             "#4d9221"
            ],
            [
             1,
             "#276419"
            ]
           ],
           "sequential": [
            [
             0,
             "#0d0887"
            ],
            [
             0.1111111111111111,
             "#46039f"
            ],
            [
             0.2222222222222222,
             "#7201a8"
            ],
            [
             0.3333333333333333,
             "#9c179e"
            ],
            [
             0.4444444444444444,
             "#bd3786"
            ],
            [
             0.5555555555555556,
             "#d8576b"
            ],
            [
             0.6666666666666666,
             "#ed7953"
            ],
            [
             0.7777777777777778,
             "#fb9f3a"
            ],
            [
             0.8888888888888888,
             "#fdca26"
            ],
            [
             1,
             "#f0f921"
            ]
           ],
           "sequentialminus": [
            [
             0,
             "#0d0887"
            ],
            [
             0.1111111111111111,
             "#46039f"
            ],
            [
             0.2222222222222222,
             "#7201a8"
            ],
            [
             0.3333333333333333,
             "#9c179e"
            ],
            [
             0.4444444444444444,
             "#bd3786"
            ],
            [
             0.5555555555555556,
             "#d8576b"
            ],
            [
             0.6666666666666666,
             "#ed7953"
            ],
            [
             0.7777777777777778,
             "#fb9f3a"
            ],
            [
             0.8888888888888888,
             "#fdca26"
            ],
            [
             1,
             "#f0f921"
            ]
           ]
          },
          "colorway": [
           "#636efa",
           "#EF553B",
           "#00cc96",
           "#ab63fa",
           "#FFA15A",
           "#19d3f3",
           "#FF6692",
           "#B6E880",
           "#FF97FF",
           "#FECB52"
          ],
          "font": {
           "color": "#2a3f5f"
          },
          "geo": {
           "bgcolor": "white",
           "lakecolor": "white",
           "landcolor": "#E5ECF6",
           "showlakes": true,
           "showland": true,
           "subunitcolor": "white"
          },
          "hoverlabel": {
           "align": "left"
          },
          "hovermode": "closest",
          "mapbox": {
           "style": "light"
          },
          "paper_bgcolor": "white",
          "plot_bgcolor": "#E5ECF6",
          "polar": {
           "angularaxis": {
            "gridcolor": "white",
            "linecolor": "white",
            "ticks": ""
           },
           "bgcolor": "#E5ECF6",
           "radialaxis": {
            "gridcolor": "white",
            "linecolor": "white",
            "ticks": ""
           }
          },
          "scene": {
           "xaxis": {
            "backgroundcolor": "#E5ECF6",
            "gridcolor": "white",
            "gridwidth": 2,
            "linecolor": "white",
            "showbackground": true,
            "ticks": "",
            "zerolinecolor": "white"
           },
           "yaxis": {
            "backgroundcolor": "#E5ECF6",
            "gridcolor": "white",
            "gridwidth": 2,
            "linecolor": "white",
            "showbackground": true,
            "ticks": "",
            "zerolinecolor": "white"
           },
           "zaxis": {
            "backgroundcolor": "#E5ECF6",
            "gridcolor": "white",
            "gridwidth": 2,
            "linecolor": "white",
            "showbackground": true,
            "ticks": "",
            "zerolinecolor": "white"
           }
          },
          "shapedefaults": {
           "line": {
            "color": "#2a3f5f"
           }
          },
          "ternary": {
           "aaxis": {
            "gridcolor": "white",
            "linecolor": "white",
            "ticks": ""
           },
           "baxis": {
            "gridcolor": "white",
            "linecolor": "white",
            "ticks": ""
           },
           "bgcolor": "#E5ECF6",
           "caxis": {
            "gridcolor": "white",
            "linecolor": "white",
            "ticks": ""
           }
          },
          "title": {
           "x": 0.05
          },
          "xaxis": {
           "automargin": true,
           "gridcolor": "white",
           "linecolor": "white",
           "ticks": "",
           "title": {
            "standoff": 15
           },
           "zerolinecolor": "white",
           "zerolinewidth": 2
          },
          "yaxis": {
           "automargin": true,
           "gridcolor": "white",
           "linecolor": "white",
           "ticks": "",
           "title": {
            "standoff": 15
           },
           "zerolinecolor": "white",
           "zerolinewidth": 2
          }
         }
        }
       }
      }
     },
     "metadata": {}
    }
   ],
   "source": [
    "go.Figure(\n",
    "    go.Pie(\n",
    "        values=[0.7, 1-0.7]\n",
    "))\n"
   ]
  },
  {
   "cell_type": "code",
   "execution_count": null,
   "metadata": {},
   "outputs": [],
   "source": []
  }
 ]
}