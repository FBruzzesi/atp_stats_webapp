{
 "metadata": {
  "language_info": {
   "codemirror_mode": {
    "name": "ipython",
    "version": 3
   },
   "file_extension": ".py",
   "mimetype": "text/x-python",
   "name": "python",
   "nbconvert_exporter": "python",
   "pygments_lexer": "ipython3",
   "version": "3.8.3-final"
  },
  "orig_nbformat": 2,
  "kernelspec": {
   "name": "python3",
   "display_name": "Python 3"
  }
 },
 "nbformat": 4,
 "nbformat_minor": 2,
 "cells": [
  {
   "cell_type": "code",
   "execution_count": 17,
   "metadata": {},
   "outputs": [
    {
     "output_type": "stream",
     "name": "stdout",
     "text": [
      "The autoreload extension is already loaded. To reload it, use:\n  %reload_ext autoreload\n"
     ]
    }
   ],
   "source": [
    "%load_ext autoreload\n",
    "%autoreload 2\n",
    "\n",
    "import pandas as pd\n",
    "import numpy as np\n",
    "\n",
    "pd.set_option('plotting.backend', 'plotly')\n",
    "from datetime import date, datetime as dt\n",
    "import os, re\n",
    "import plotly.colors\n",
    "import plotly.graph_objects as go, plotly.express as px, plotly.figure_factory as ff\n",
    "from plotly.offline import init_notebook_mode\n",
    "from plotly.subplots import make_subplots\n",
    "\n",
    "\n",
    "from tennis_utils.player import TennisDataLoader, TennisPlayerDataLoader, TennisPlayer\n",
    "from tennis_utils.scrapers import SackmanScraper\n"
   ]
  },
  {
   "cell_type": "code",
   "execution_count": 18,
   "metadata": {},
   "outputs": [],
   "source": [
    "# data_path = os.getcwd() + '/data'\n",
    "\n",
    "# tdl = TennisDataLoader(data_path + '/matches.parquet', data_path + '/players.parquet')\n",
    "# print(tdl.matches['round'].unique())\n",
    "\n",
    "\n",
    "# s = SackmanScraper()\n",
    "# print(s)\n",
    "\n",
    "# s.save_players(data_path + '/players.parquet')\n",
    "# s.save_matches(data_path + '/raw_matches.parquet')\n",
    "# s.save_tournaments(data_path + '/tournaments.parquet')\n",
    "# s.save_wl_matches(data_path + '/matches.parquet')\n"
   ]
  },
  {
   "cell_type": "code",
   "execution_count": 19,
   "metadata": {},
   "outputs": [],
   "source": [
    "\n",
    "player_name = 'Roger Federer'\n",
    "data_path = os.getcwd()+'/data'\n",
    "\n",
    "tdl = TennisDataLoader(data_path+'/matches.parquet', data_path+'/players.parquet')\n",
    "matches_df, players_df = tdl.matches, tdl.players\n",
    "\n",
    "tpdl = TennisPlayerDataLoader(player_name, matches_df, players_df)\n",
    "\n",
    "# Subset selected player matches data\n",
    "player_matches = tpdl.player_matches #matches_df[matches_df['player_name'] == player_name]\n",
    "player_details = tpdl.player_details #players_df[players_df['player_name']==player_name]\n",
    "player_rank = tpdl.player_rank\n",
    "\n",
    "tp = TennisPlayer(player_name, player_matches, player_rank, player_details)#, rounds=['F'])"
   ]
  },
  {
   "cell_type": "code",
   "execution_count": 20,
   "metadata": {},
   "outputs": [
    {
     "output_type": "execute_result",
     "data": {
      "text/plain": [
       "Index(['tourney_id', 'tourney_name', 'surface', 'draw_size', 'tourney_level',\n",
       "       'tourney_date', 'match_num', 'id', 'seed', 'entry', 'player_name',\n",
       "       'hand', 'ht', 'ioc', 'age', 'rank', 'rank_points', 'opponent_id',\n",
       "       'opponent_name', 'opponent_rank', 'score', 'best_of', 'round',\n",
       "       'minutes', 'ace', 'df', 'svpt', '1stIn', '1stWon', '2ndWon', 'SvGms',\n",
       "       'bpSaved', 'bpFaced', 'percAce', 'percDf', 'perc1stIn', 'perc1stWon',\n",
       "       'perc2ndWon', 'percBpSaved', 'SvLost', 'bpTotal', 'bpConverted',\n",
       "       'percBpConverted', 'percSvLost', 'returnWon', 'percReturnWon',\n",
       "       'percServePointsWon', 'tbPlayed', 'tbWon', 'decidingSetPlayed',\n",
       "       'winner', 'result', 'year', 'decidingSetWon'],\n",
       "      dtype='object')"
      ]
     },
     "metadata": {},
     "execution_count": 20
    }
   ],
   "source": [
    "m = tp.selected_matches\n",
    "m.columns"
   ]
  },
  {
   "cell_type": "code",
   "execution_count": null,
   "metadata": {},
   "outputs": [],
   "source": [
    "m_by_year = (m.groupby('year')\n",
    "     .agg(ace = ('ace', np.sum),\n",
    "          df = ('df', np.sum),\n",
    "          svpt = ('svpt', np.sum),\n",
    "          firstIn = ('1stIn', np.sum),\n",
    "          firstInStd = ('1stIn', np.std),\n",
    "          firstWon = ('1stWon', np.sum),\n",
    "          firstWonStd = ('1stWon', np.std),\n",
    "          secondWon = ('2ndWon', np.sum),\n",
    "          secondWonStd = ('2ndWon', np.std), \n",
    "          returnWon = ('returnWon', np.sum),    \n",
    "          returnWonStd = ('returnWon', np.std),    \n",
    "          returnPlayed = ('returnPlayed', np.sum), \n",
    "          bpConverted = ('bpConverted', np.sum),\n",
    "          bpConvertedStd = ('bpConverted', np.std),\n",
    "          bpTotal = ('bpTotal', np.sum),\n",
    "          bpSaved = ('bpSaved', np.sum),\n",
    "          bpSavedStd = ('bpSaved', np.std),\n",
    "          bpFaced = ('bpFaced', np.sum),\n",
    "          tbPlayed = ('tbPlayed', np.sum),\n",
    "          tbWon = ('tbWon', np.sum),\n",
    "          decidingSetPlayed = ('decidingSetPlayed', np.sum),\n",
    "          decidingSetWon = ('decidingSetWon', np.sum))\n",
    "     .assign(meanFirstIn = lambda x: x['firstIn']/x['svpt'])\n",
    "     .assign(stdFirstIn = lambda x: x['firstInStd']/x['firstIn'])\n",
    "     .assign(meanFirstWon = lambda x: x['firstWon']/x['firstIn'])\n",
    "     .assign(stdFirstWon = lambda x: x['firstWonStd']/x['firstWon'])\n",
    "     .assign(meanSecondWon = lambda x: x['secondWon']/(x['svpt'] - x['firstIn']))\n",
    "     .assign(stdSecondWon = lambda x: x['secondWonStd']/x['secondWon'])\n",
    "     .assign(meanReturnWon = lambda x: x['returnWon']/x['returnPlayed'])\n",
    "     .assign(stdReturnWon = lambda x: x['returnWonStd']/x['returnWon'])\n",
    "     .assign(meanBpConverted = lambda x: x['bpConverted']/x['bpTotal'])\n",
    "     .assign(stdBpConverted = lambda x: x['bpConvertedStd']/x['bpConverted'])\n",
    "     .assign(meanBpSaved = lambda x: x['bpSaved']/x['bpFaced'])\n",
    "     .assign(stdBpSaved = lambda x: x['bpSavedStd']/x['bpSaved'])\n",
    "     .assign(tbLost = lambda x: x['tbPlayed'] - x['tbWon'])\n",
    "     .assign(percTbWon = lambda x: x['tbWon']/x['tbPlayed'])\n",
    "     .assign(DecidingSetLost = lambda x: x['decidingSetPlayed'] - x['decidingSetWon'])\n",
    "     .assign(percDecidingSetWon = lambda x: x['decidingSetWon']/x['decidingSetPlayed'])\n",
    "     .reset_index()\n",
    "     )"
   ]
  },
  {
   "cell_type": "code",
   "execution_count": 77,
   "metadata": {},
   "outputs": [
    {
     "output_type": "execute_result",
     "data": {
      "text/plain": [
       "    year  bpConverted  bpConvertedStd  bpTotal  bpSaved  bpSavedStd  bpFaced  \\\n",
       "0   2000          140        1.559191      432      245    3.494715      376   \n",
       "1   2001          208        1.799508      564      306    4.029264      456   \n",
       "2   2002          229        1.839959      606      260    3.035148      390   \n",
       "3   2003          293        1.579424      717      246    2.968975      374   \n",
       "4   2004          270        1.883108      662      207    2.942274      285   \n",
       "5   2005          324        1.537819      728      209    2.181489      327   \n",
       "6   2006          376        1.761985      881      278    2.682656      399   \n",
       "7   2007          269        1.875110      650      203    2.735025      308   \n",
       "8   2008          271        1.803609      708      238    3.085183      350   \n",
       "9   2009          240        1.799732      577      220    2.829210      320   \n",
       "10  2010          259        1.541576      644      226    2.723585      331   \n",
       "11  2011          246        1.844714      632      173    2.695196      267   \n",
       "12  2012          264        1.731320      645      205    2.453846      299   \n",
       "13  2013          214        1.673877      597      213    2.552799      323   \n",
       "14  2014          249        1.684533      687      212    2.791005      302   \n",
       "15  2015          239        1.726565      591      156    2.391299      228   \n",
       "16  2016           92        2.034101      241       69    2.395708      108   \n",
       "17  2017          198        1.659446      479      136    2.782306      201   \n",
       "18  2018          178        1.587916      439      145    2.663924      212   \n",
       "19  2019          203        1.758042      494      172    2.747776      242   \n",
       "20  2020           26        2.338090       69       31    3.430258       46   \n",
       "\n",
       "    tbPlayed  tbWon  decidingSetPlayed  decidingSetWon  meanBpConverted  \\\n",
       "0         27     13                 18             8.0         0.324074   \n",
       "1         41     24                 23            16.0         0.368794   \n",
       "2         28     16                 19             9.0         0.377888   \n",
       "3         40     24                 21            14.0         0.408647   \n",
       "4         25     20                 13            11.0         0.407855   \n",
       "5         39     28                 18            15.0         0.445055   \n",
       "6         51     37                 20            18.0         0.426788   \n",
       "7         36     27                 15            11.0         0.413846   \n",
       "8         37     24                 20            11.0         0.382768   \n",
       "9         37     26                 21            10.0         0.415945   \n",
       "10        31     21                 18            12.0         0.402174   \n",
       "11        28     19                 12             6.0         0.389241   \n",
       "12        35     21                 17            14.0         0.409302   \n",
       "13        26     15                 23            14.0         0.358459   \n",
       "14        38     24                 22            16.0         0.362445   \n",
       "15        30     17                 13             9.0         0.404399   \n",
       "16        14      9                  7             3.0         0.381743   \n",
       "17        30     21                 16            13.0         0.413361   \n",
       "18        31     19                 17            12.0         0.405467   \n",
       "19        24     19                 12             7.0         0.410931   \n",
       "20         4      3                  2             2.0         0.376812   \n",
       "\n",
       "    stdBpConverted  meanBpSaved  stdBpSaved  tbLost  percTbWon  \\\n",
       "0         0.011137     0.651596    0.014264      14   0.481481   \n",
       "1         0.008651     0.671053    0.013168      17   0.585366   \n",
       "2         0.008035     0.666667    0.011674      12   0.571429   \n",
       "3         0.005391     0.657754    0.012069      16   0.600000   \n",
       "4         0.006974     0.726316    0.014214       5   0.800000   \n",
       "5         0.004746     0.639144    0.010438      11   0.717949   \n",
       "6         0.004686     0.696742    0.009650      14   0.725490   \n",
       "7         0.006971     0.659091    0.013473       9   0.750000   \n",
       "8         0.006655     0.680000    0.012963      13   0.648649   \n",
       "9         0.007499     0.687500    0.012860      11   0.702703   \n",
       "10        0.005952     0.682779    0.012051      10   0.677419   \n",
       "11        0.007499     0.647940    0.015579       9   0.678571   \n",
       "12        0.006558     0.685619    0.011970      14   0.600000   \n",
       "13        0.007822     0.659443    0.011985      11   0.576923   \n",
       "14        0.006765     0.701987    0.013165      14   0.631579   \n",
       "15        0.007224     0.684211    0.015329      13   0.566667   \n",
       "16        0.022110     0.638889    0.034720       5   0.642857   \n",
       "17        0.008381     0.676617    0.020458       9   0.700000   \n",
       "18        0.008921     0.683962    0.018372      12   0.612903   \n",
       "19        0.008660     0.710744    0.015975       5   0.791667   \n",
       "20        0.089927     0.673913    0.110653       1   0.750000   \n",
       "\n",
       "    DecidingSetLost  percDecidingSetWon  \n",
       "0              10.0            0.444444  \n",
       "1               7.0            0.695652  \n",
       "2              10.0            0.473684  \n",
       "3               7.0            0.666667  \n",
       "4               2.0            0.846154  \n",
       "5               3.0            0.833333  \n",
       "6               2.0            0.900000  \n",
       "7               4.0            0.733333  \n",
       "8               9.0            0.550000  \n",
       "9              11.0            0.476190  \n",
       "10              6.0            0.666667  \n",
       "11              6.0            0.500000  \n",
       "12              3.0            0.823529  \n",
       "13              9.0            0.608696  \n",
       "14              6.0            0.727273  \n",
       "15              4.0            0.692308  \n",
       "16              4.0            0.428571  \n",
       "17              3.0            0.812500  \n",
       "18              5.0            0.705882  \n",
       "19              5.0            0.583333  \n",
       "20              0.0            1.000000  "
      ],
      "text/html": "<div>\n<style scoped>\n    .dataframe tbody tr th:only-of-type {\n        vertical-align: middle;\n    }\n\n    .dataframe tbody tr th {\n        vertical-align: top;\n    }\n\n    .dataframe thead th {\n        text-align: right;\n    }\n</style>\n<table border=\"1\" class=\"dataframe\">\n  <thead>\n    <tr style=\"text-align: right;\">\n      <th></th>\n      <th>year</th>\n      <th>bpConverted</th>\n      <th>bpConvertedStd</th>\n      <th>bpTotal</th>\n      <th>bpSaved</th>\n      <th>bpSavedStd</th>\n      <th>bpFaced</th>\n      <th>tbPlayed</th>\n      <th>tbWon</th>\n      <th>decidingSetPlayed</th>\n      <th>decidingSetWon</th>\n      <th>meanBpConverted</th>\n      <th>stdBpConverted</th>\n      <th>meanBpSaved</th>\n      <th>stdBpSaved</th>\n      <th>tbLost</th>\n      <th>percTbWon</th>\n      <th>DecidingSetLost</th>\n      <th>percDecidingSetWon</th>\n    </tr>\n  </thead>\n  <tbody>\n    <tr>\n      <th>0</th>\n      <td>2000</td>\n      <td>140</td>\n      <td>1.559191</td>\n      <td>432</td>\n      <td>245</td>\n      <td>3.494715</td>\n      <td>376</td>\n      <td>27</td>\n      <td>13</td>\n      <td>18</td>\n      <td>8.0</td>\n      <td>0.324074</td>\n      <td>0.011137</td>\n      <td>0.651596</td>\n      <td>0.014264</td>\n      <td>14</td>\n      <td>0.481481</td>\n      <td>10.0</td>\n      <td>0.444444</td>\n    </tr>\n    <tr>\n      <th>1</th>\n      <td>2001</td>\n      <td>208</td>\n      <td>1.799508</td>\n      <td>564</td>\n      <td>306</td>\n      <td>4.029264</td>\n      <td>456</td>\n      <td>41</td>\n      <td>24</td>\n      <td>23</td>\n      <td>16.0</td>\n      <td>0.368794</td>\n      <td>0.008651</td>\n      <td>0.671053</td>\n      <td>0.013168</td>\n      <td>17</td>\n      <td>0.585366</td>\n      <td>7.0</td>\n      <td>0.695652</td>\n    </tr>\n    <tr>\n      <th>2</th>\n      <td>2002</td>\n      <td>229</td>\n      <td>1.839959</td>\n      <td>606</td>\n      <td>260</td>\n      <td>3.035148</td>\n      <td>390</td>\n      <td>28</td>\n      <td>16</td>\n      <td>19</td>\n      <td>9.0</td>\n      <td>0.377888</td>\n      <td>0.008035</td>\n      <td>0.666667</td>\n      <td>0.011674</td>\n      <td>12</td>\n      <td>0.571429</td>\n      <td>10.0</td>\n      <td>0.473684</td>\n    </tr>\n    <tr>\n      <th>3</th>\n      <td>2003</td>\n      <td>293</td>\n      <td>1.579424</td>\n      <td>717</td>\n      <td>246</td>\n      <td>2.968975</td>\n      <td>374</td>\n      <td>40</td>\n      <td>24</td>\n      <td>21</td>\n      <td>14.0</td>\n      <td>0.408647</td>\n      <td>0.005391</td>\n      <td>0.657754</td>\n      <td>0.012069</td>\n      <td>16</td>\n      <td>0.600000</td>\n      <td>7.0</td>\n      <td>0.666667</td>\n    </tr>\n    <tr>\n      <th>4</th>\n      <td>2004</td>\n      <td>270</td>\n      <td>1.883108</td>\n      <td>662</td>\n      <td>207</td>\n      <td>2.942274</td>\n      <td>285</td>\n      <td>25</td>\n      <td>20</td>\n      <td>13</td>\n      <td>11.0</td>\n      <td>0.407855</td>\n      <td>0.006974</td>\n      <td>0.726316</td>\n      <td>0.014214</td>\n      <td>5</td>\n      <td>0.800000</td>\n      <td>2.0</td>\n      <td>0.846154</td>\n    </tr>\n    <tr>\n      <th>5</th>\n      <td>2005</td>\n      <td>324</td>\n      <td>1.537819</td>\n      <td>728</td>\n      <td>209</td>\n      <td>2.181489</td>\n      <td>327</td>\n      <td>39</td>\n      <td>28</td>\n      <td>18</td>\n      <td>15.0</td>\n      <td>0.445055</td>\n      <td>0.004746</td>\n      <td>0.639144</td>\n      <td>0.010438</td>\n      <td>11</td>\n      <td>0.717949</td>\n      <td>3.0</td>\n      <td>0.833333</td>\n    </tr>\n    <tr>\n      <th>6</th>\n      <td>2006</td>\n      <td>376</td>\n      <td>1.761985</td>\n      <td>881</td>\n      <td>278</td>\n      <td>2.682656</td>\n      <td>399</td>\n      <td>51</td>\n      <td>37</td>\n      <td>20</td>\n      <td>18.0</td>\n      <td>0.426788</td>\n      <td>0.004686</td>\n      <td>0.696742</td>\n      <td>0.009650</td>\n      <td>14</td>\n      <td>0.725490</td>\n      <td>2.0</td>\n      <td>0.900000</td>\n    </tr>\n    <tr>\n      <th>7</th>\n      <td>2007</td>\n      <td>269</td>\n      <td>1.875110</td>\n      <td>650</td>\n      <td>203</td>\n      <td>2.735025</td>\n      <td>308</td>\n      <td>36</td>\n      <td>27</td>\n      <td>15</td>\n      <td>11.0</td>\n      <td>0.413846</td>\n      <td>0.006971</td>\n      <td>0.659091</td>\n      <td>0.013473</td>\n      <td>9</td>\n      <td>0.750000</td>\n      <td>4.0</td>\n      <td>0.733333</td>\n    </tr>\n    <tr>\n      <th>8</th>\n      <td>2008</td>\n      <td>271</td>\n      <td>1.803609</td>\n      <td>708</td>\n      <td>238</td>\n      <td>3.085183</td>\n      <td>350</td>\n      <td>37</td>\n      <td>24</td>\n      <td>20</td>\n      <td>11.0</td>\n      <td>0.382768</td>\n      <td>0.006655</td>\n      <td>0.680000</td>\n      <td>0.012963</td>\n      <td>13</td>\n      <td>0.648649</td>\n      <td>9.0</td>\n      <td>0.550000</td>\n    </tr>\n    <tr>\n      <th>9</th>\n      <td>2009</td>\n      <td>240</td>\n      <td>1.799732</td>\n      <td>577</td>\n      <td>220</td>\n      <td>2.829210</td>\n      <td>320</td>\n      <td>37</td>\n      <td>26</td>\n      <td>21</td>\n      <td>10.0</td>\n      <td>0.415945</td>\n      <td>0.007499</td>\n      <td>0.687500</td>\n      <td>0.012860</td>\n      <td>11</td>\n      <td>0.702703</td>\n      <td>11.0</td>\n      <td>0.476190</td>\n    </tr>\n    <tr>\n      <th>10</th>\n      <td>2010</td>\n      <td>259</td>\n      <td>1.541576</td>\n      <td>644</td>\n      <td>226</td>\n      <td>2.723585</td>\n      <td>331</td>\n      <td>31</td>\n      <td>21</td>\n      <td>18</td>\n      <td>12.0</td>\n      <td>0.402174</td>\n      <td>0.005952</td>\n      <td>0.682779</td>\n      <td>0.012051</td>\n      <td>10</td>\n      <td>0.677419</td>\n      <td>6.0</td>\n      <td>0.666667</td>\n    </tr>\n    <tr>\n      <th>11</th>\n      <td>2011</td>\n      <td>246</td>\n      <td>1.844714</td>\n      <td>632</td>\n      <td>173</td>\n      <td>2.695196</td>\n      <td>267</td>\n      <td>28</td>\n      <td>19</td>\n      <td>12</td>\n      <td>6.0</td>\n      <td>0.389241</td>\n      <td>0.007499</td>\n      <td>0.647940</td>\n      <td>0.015579</td>\n      <td>9</td>\n      <td>0.678571</td>\n      <td>6.0</td>\n      <td>0.500000</td>\n    </tr>\n    <tr>\n      <th>12</th>\n      <td>2012</td>\n      <td>264</td>\n      <td>1.731320</td>\n      <td>645</td>\n      <td>205</td>\n      <td>2.453846</td>\n      <td>299</td>\n      <td>35</td>\n      <td>21</td>\n      <td>17</td>\n      <td>14.0</td>\n      <td>0.409302</td>\n      <td>0.006558</td>\n      <td>0.685619</td>\n      <td>0.011970</td>\n      <td>14</td>\n      <td>0.600000</td>\n      <td>3.0</td>\n      <td>0.823529</td>\n    </tr>\n    <tr>\n      <th>13</th>\n      <td>2013</td>\n      <td>214</td>\n      <td>1.673877</td>\n      <td>597</td>\n      <td>213</td>\n      <td>2.552799</td>\n      <td>323</td>\n      <td>26</td>\n      <td>15</td>\n      <td>23</td>\n      <td>14.0</td>\n      <td>0.358459</td>\n      <td>0.007822</td>\n      <td>0.659443</td>\n      <td>0.011985</td>\n      <td>11</td>\n      <td>0.576923</td>\n      <td>9.0</td>\n      <td>0.608696</td>\n    </tr>\n    <tr>\n      <th>14</th>\n      <td>2014</td>\n      <td>249</td>\n      <td>1.684533</td>\n      <td>687</td>\n      <td>212</td>\n      <td>2.791005</td>\n      <td>302</td>\n      <td>38</td>\n      <td>24</td>\n      <td>22</td>\n      <td>16.0</td>\n      <td>0.362445</td>\n      <td>0.006765</td>\n      <td>0.701987</td>\n      <td>0.013165</td>\n      <td>14</td>\n      <td>0.631579</td>\n      <td>6.0</td>\n      <td>0.727273</td>\n    </tr>\n    <tr>\n      <th>15</th>\n      <td>2015</td>\n      <td>239</td>\n      <td>1.726565</td>\n      <td>591</td>\n      <td>156</td>\n      <td>2.391299</td>\n      <td>228</td>\n      <td>30</td>\n      <td>17</td>\n      <td>13</td>\n      <td>9.0</td>\n      <td>0.404399</td>\n      <td>0.007224</td>\n      <td>0.684211</td>\n      <td>0.015329</td>\n      <td>13</td>\n      <td>0.566667</td>\n      <td>4.0</td>\n      <td>0.692308</td>\n    </tr>\n    <tr>\n      <th>16</th>\n      <td>2016</td>\n      <td>92</td>\n      <td>2.034101</td>\n      <td>241</td>\n      <td>69</td>\n      <td>2.395708</td>\n      <td>108</td>\n      <td>14</td>\n      <td>9</td>\n      <td>7</td>\n      <td>3.0</td>\n      <td>0.381743</td>\n      <td>0.022110</td>\n      <td>0.638889</td>\n      <td>0.034720</td>\n      <td>5</td>\n      <td>0.642857</td>\n      <td>4.0</td>\n      <td>0.428571</td>\n    </tr>\n    <tr>\n      <th>17</th>\n      <td>2017</td>\n      <td>198</td>\n      <td>1.659446</td>\n      <td>479</td>\n      <td>136</td>\n      <td>2.782306</td>\n      <td>201</td>\n      <td>30</td>\n      <td>21</td>\n      <td>16</td>\n      <td>13.0</td>\n      <td>0.413361</td>\n      <td>0.008381</td>\n      <td>0.676617</td>\n      <td>0.020458</td>\n      <td>9</td>\n      <td>0.700000</td>\n      <td>3.0</td>\n      <td>0.812500</td>\n    </tr>\n    <tr>\n      <th>18</th>\n      <td>2018</td>\n      <td>178</td>\n      <td>1.587916</td>\n      <td>439</td>\n      <td>145</td>\n      <td>2.663924</td>\n      <td>212</td>\n      <td>31</td>\n      <td>19</td>\n      <td>17</td>\n      <td>12.0</td>\n      <td>0.405467</td>\n      <td>0.008921</td>\n      <td>0.683962</td>\n      <td>0.018372</td>\n      <td>12</td>\n      <td>0.612903</td>\n      <td>5.0</td>\n      <td>0.705882</td>\n    </tr>\n    <tr>\n      <th>19</th>\n      <td>2019</td>\n      <td>203</td>\n      <td>1.758042</td>\n      <td>494</td>\n      <td>172</td>\n      <td>2.747776</td>\n      <td>242</td>\n      <td>24</td>\n      <td>19</td>\n      <td>12</td>\n      <td>7.0</td>\n      <td>0.410931</td>\n      <td>0.008660</td>\n      <td>0.710744</td>\n      <td>0.015975</td>\n      <td>5</td>\n      <td>0.791667</td>\n      <td>5.0</td>\n      <td>0.583333</td>\n    </tr>\n    <tr>\n      <th>20</th>\n      <td>2020</td>\n      <td>26</td>\n      <td>2.338090</td>\n      <td>69</td>\n      <td>31</td>\n      <td>3.430258</td>\n      <td>46</td>\n      <td>4</td>\n      <td>3</td>\n      <td>2</td>\n      <td>2.0</td>\n      <td>0.376812</td>\n      <td>0.089927</td>\n      <td>0.673913</td>\n      <td>0.110653</td>\n      <td>1</td>\n      <td>0.750000</td>\n      <td>0.0</td>\n      <td>1.000000</td>\n    </tr>\n  </tbody>\n</table>\n</div>"
     },
     "metadata": {},
     "execution_count": 77
    }
   ],
   "source": [
    "up_by_year = (m.groupby('year')\n",
    "     .agg(bpConverted = ('bpConverted', np.sum),\n",
    "          bpConvertedStd = ('bpConverted', np.std),\n",
    "          bpTotal = ('bpTotal', np.sum),\n",
    "          bpSaved = ('bpSaved', np.sum),\n",
    "          bpSavedStd = ('bpSaved', np.std),\n",
    "          bpFaced = ('bpFaced', np.sum),\n",
    "          tbPlayed = ('tbPlayed', np.sum),\n",
    "          tbWon = ('tbWon', np.sum),\n",
    "          decidingSetPlayed = ('decidingSetPlayed', np.sum),\n",
    "          decidingSetWon = ('decidingSetWon', np.sum))\n",
    "     .assign(meanBpConverted = lambda x: x['bpConverted']/x['bpTotal'])\n",
    "     .assign(stdBpConverted = lambda x: x['bpConvertedStd']/x['bpConverted'])\n",
    "     .assign(meanBpSaved = lambda x: x['bpSaved']/x['bpFaced'])\n",
    "     .assign(stdBpSaved = lambda x: x['bpSavedStd']/x['bpSaved'])\n",
    "     .assign(tbLost = lambda x: x['tbPlayed'] - x['tbWon'])\n",
    "     .assign(percTbWon = lambda x: x['tbWon']/x['tbPlayed'])\n",
    "     .assign(DecidingSetLost = lambda x: x['decidingSetPlayed'] - x['decidingSetWon'])\n",
    "     .assign(percDecidingSetWon = lambda x: x['decidingSetWon']/x['decidingSetPlayed'])\n",
    "     .reset_index()\n",
    "     )\n",
    "up_by_year"
   ]
  },
  {
   "cell_type": "code",
   "execution_count": null,
   "metadata": {},
   "outputs": [],
   "source": []
  },
  {
   "cell_type": "code",
   "execution_count": 23,
   "metadata": {},
   "outputs": [
    {
     "output_type": "execute_result",
     "data": {
      "text/plain": [
       "bpFaced               6144.0\n",
       "bpSaved               4150.0\n",
       "bpConverted           4788.0\n",
       "bpTotal              12043.0\n",
       "tbPlayed               652.0\n",
       "tbWon                  427.0\n",
       "decidingSetPlayed      347.0\n",
       "decidingSetWon         231.0\n",
       "dtype: float64"
      ]
     },
     "metadata": {},
     "execution_count": 23
    }
   ],
   "source": [
    "under_pressure_overall = m[['bpFaced', 'bpSaved', 'bpConverted', 'bpTotal', 'tbPlayed', 'tbWon', 'decidingSetPlayed', 'decidingSetWon']].sum()\n",
    "under_pressure_overall"
   ]
  },
  {
   "cell_type": "code",
   "execution_count": 83,
   "metadata": {},
   "outputs": [
    {
     "output_type": "display_data",
     "data": {
      "application/vnd.plotly.v1+json": {
       "config": {
        "plotlyServerURL": "https://plot.ly"
       },
       "data": [
        {
         "line": {
          "color": "darksalmon",
          "width": 1
         },
         "mode": "lines",
         "name": "Upper Band",
         "type": "scatter",
         "x": [
          2000,
          2001,
          2002,
          2003,
          2004,
          2005,
          2006,
          2007,
          2008,
          2009,
          2010,
          2011,
          2012,
          2013,
          2014,
          2015,
          2016,
          2017,
          2018,
          2019,
          2020
         ],
         "xaxis": "x",
         "y": [
          0.34634823634667233,
          0.3860972861663466,
          0.3939572967619309,
          0.4194281915709418,
          0.4218039296980167,
          0.4545476566317541,
          0.43616000203041394,
          0.42778748920976717,
          0.39607913095958286,
          0.4309423049252374,
          0.414077975602675,
          0.4042381773681099,
          0.42241838490106304,
          0.3741026734035447,
          0.3759758034722464,
          0.4188475618358381,
          0.4259623215880246,
          0.43012324495429954,
          0.4233087192372491,
          0.42825178130836855,
          0.5566647010413619
         ],
         "yaxis": "y"
        },
        {
         "fill": "tonexty",
         "line": {
          "color": "darksalmon",
          "width": 1
         },
         "mode": "lines",
         "name": "Lower Band",
         "type": "scatter",
         "x": [
          2000,
          2001,
          2002,
          2003,
          2004,
          2005,
          2006,
          2007,
          2008,
          2009,
          2010,
          2011,
          2012,
          2013,
          2014,
          2015,
          2016,
          2017,
          2018,
          2019,
          2020
         ],
         "xaxis": "x",
         "y": [
          0.3017999118014758,
          0.35149136631592287,
          0.3618182807958249,
          0.3978660901584864,
          0.3939060400905029,
          0.43556223347813594,
          0.41741548037594245,
          0.39990481848254056,
          0.36945759220425894,
          0.4009467765305685,
          0.39026985048428153,
          0.374242835290118,
          0.39618626626172765,
          0.34281524954452897,
          0.34891502622207676,
          0.38995108452626,
          0.3375231555903986,
          0.3965990932502934,
          0.38762522153723833,
          0.3936105668697691,
          0.19695848736443516
         ],
         "yaxis": "y"
        },
        {
         "connectgaps": true,
         "marker": {
          "color": "rgb(33,113,181)"
         },
         "mode": "lines+markers",
         "name": "Mean Perc BP Converted",
         "textposition": "top center",
         "type": "scatter",
         "x": [
          2000,
          2001,
          2002,
          2003,
          2004,
          2005,
          2006,
          2007,
          2008,
          2009,
          2010,
          2011,
          2012,
          2013,
          2014,
          2015,
          2016,
          2017,
          2018,
          2019,
          2020
         ],
         "xaxis": "x",
         "y": [
          0.32407407407407407,
          0.36879432624113473,
          0.3778877887788779,
          0.4086471408647141,
          0.4078549848942598,
          0.44505494505494503,
          0.4267877412031782,
          0.41384615384615386,
          0.3827683615819209,
          0.41594454072790293,
          0.40217391304347827,
          0.38924050632911394,
          0.40930232558139534,
          0.35845896147403683,
          0.3624454148471616,
          0.40439932318104904,
          0.3817427385892116,
          0.4133611691022965,
          0.4054669703872437,
          0.4109311740890688,
          0.37681159420289856
         ],
         "yaxis": "y"
        },
        {
         "domain": {
          "x": [
           0.6599999999999999,
           0.94
          ],
          "y": [
           0.825,
           1
          ]
         },
         "labels": [
          "BP Converted",
          "BP Not Converted"
         ],
         "marker": {
          "colors": [
           "seagreen",
           "indianred"
          ],
          "line": {
           "color": "white",
           "width": 1
          }
         },
         "type": "pie",
         "values": [
          4788,
          7255
         ]
        },
        {
         "line": {
          "color": "darksalmon",
          "width": 1
         },
         "mode": "lines",
         "name": "Upper Band",
         "type": "scatter",
         "x": [
          2000,
          2001,
          2002,
          2003,
          2004,
          2005,
          2006,
          2007,
          2008,
          2009,
          2010,
          2011,
          2012,
          2013,
          2014,
          2015,
          2016,
          2017,
          2018,
          2019,
          2020
         ],
         "xaxis": "x2",
         "y": [
          0.6801240299866232,
          0.6973876876880778,
          0.6900139562247998,
          0.6818920219253359,
          0.7547435618678064,
          0.6600192203246368,
          0.7160415345005289,
          0.6860369657001759,
          0.705925907953739,
          0.71322008662787,
          0.7068819785864305,
          0.6790984051677033,
          0.7095586912012961,
          0.683412669007322,
          0.7283169884595024,
          0.7148682029929789,
          0.708329707549799,
          0.7175331838089024,
          0.7207060438503803,
          0.7426946859617564,
          0.8952199803761178
         ],
         "yaxis": "y2"
        },
        {
         "fill": "tonexty",
         "line": {
          "color": "darksalmon",
          "width": 1
         },
         "mode": "lines",
         "name": "Lower Band",
         "type": "scatter",
         "x": [
          2000,
          2001,
          2002,
          2003,
          2004,
          2005,
          2006,
          2007,
          2008,
          2009,
          2010,
          2011,
          2012,
          2013,
          2014,
          2015,
          2016,
          2017,
          2018,
          2019,
          2020
         ],
         "xaxis": "x2",
         "y": [
          0.6230674593750788,
          0.6447175754698169,
          0.6433193771085335,
          0.6336159994650383,
          0.697888017079562,
          0.6182682414490636,
          0.677442174772654,
          0.6321448524816422,
          0.6540740920462611,
          0.66177991337213,
          0.6586769338002764,
          0.6167817446450309,
          0.6616787669926838,
          0.6354727799090866,
          0.6756565214742725,
          0.6535528496386,
          0.5694480702279787,
          0.6357006470368688,
          0.6472184844515065,
          0.6787929173440287,
          0.4526061065804039
         ],
         "yaxis": "y2"
        },
        {
         "connectgaps": true,
         "marker": {
          "color": "rgb(217,71,1)"
         },
         "mode": "lines+markers",
         "name": "Mean Perc BP Saved",
         "textposition": "top center",
         "type": "scatter",
         "x": [
          2000,
          2001,
          2002,
          2003,
          2004,
          2005,
          2006,
          2007,
          2008,
          2009,
          2010,
          2011,
          2012,
          2013,
          2014,
          2015,
          2016,
          2017,
          2018,
          2019,
          2020
         ],
         "xaxis": "x2",
         "y": [
          0.651595744680851,
          0.6710526315789473,
          0.6666666666666666,
          0.6577540106951871,
          0.7263157894736842,
          0.6391437308868502,
          0.6967418546365914,
          0.6590909090909091,
          0.68,
          0.6875,
          0.6827794561933535,
          0.6479400749063671,
          0.68561872909699,
          0.6594427244582043,
          0.7019867549668874,
          0.6842105263157895,
          0.6388888888888888,
          0.6766169154228856,
          0.6839622641509434,
          0.7107438016528925,
          0.6739130434782609
         ],
         "yaxis": "y2"
        },
        {
         "domain": {
          "x": [
           0,
           0.27999999999999997
          ],
          "y": [
           0.55,
           0.7250000000000001
          ]
         },
         "labels": [
          "BP Saved",
          "BP Lost"
         ],
         "marker": {
          "colors": [
           "seagreen",
           "indianred"
          ],
          "line": {
           "color": "white",
           "width": 1
          }
         },
         "type": "pie",
         "values": [
          4150,
          1994
         ]
        },
        {
         "marker": {
          "color": "seagreen"
         },
         "name": "TieBreak Won",
         "opacity": 0.8,
         "text": [
          13,
          24,
          16,
          24,
          20,
          28,
          37,
          27,
          24,
          26,
          21,
          19,
          21,
          15,
          24,
          17,
          9,
          21,
          19,
          19,
          3
         ],
         "textfont": {
          "size": 8
         },
         "textposition": "inside",
         "type": "bar",
         "x": [
          2000,
          2001,
          2002,
          2003,
          2004,
          2005,
          2006,
          2007,
          2008,
          2009,
          2010,
          2011,
          2012,
          2013,
          2014,
          2015,
          2016,
          2017,
          2018,
          2019,
          2020
         ],
         "xaxis": "x3",
         "y": [
          13,
          24,
          16,
          24,
          20,
          28,
          37,
          27,
          24,
          26,
          21,
          19,
          21,
          15,
          24,
          17,
          9,
          21,
          19,
          19,
          3
         ],
         "yaxis": "y3"
        },
        {
         "marker": {
          "color": "indianred"
         },
         "name": "TieBreak Lost",
         "opacity": 0.8,
         "text": [
          14,
          17,
          12,
          16,
          5,
          11,
          14,
          9,
          13,
          11,
          10,
          9,
          14,
          11,
          14,
          13,
          5,
          9,
          12,
          5,
          1
         ],
         "textfont": {
          "size": 8
         },
         "textposition": "inside",
         "type": "bar",
         "x": [
          2000,
          2001,
          2002,
          2003,
          2004,
          2005,
          2006,
          2007,
          2008,
          2009,
          2010,
          2011,
          2012,
          2013,
          2014,
          2015,
          2016,
          2017,
          2018,
          2019,
          2020
         ],
         "xaxis": "x3",
         "y": [
          14,
          17,
          12,
          16,
          5,
          11,
          14,
          9,
          13,
          11,
          10,
          9,
          14,
          11,
          14,
          13,
          5,
          9,
          12,
          5,
          1
         ],
         "yaxis": "y3"
        },
        {
         "line": {
          "color": "midnightblue",
          "width": 2
         },
         "mode": "lines+text",
         "name": "Win Rate",
         "text": [
          0.48,
          0.59,
          0.57,
          0.6,
          0.8,
          0.72,
          0.73,
          0.75,
          0.65,
          0.7,
          0.68,
          0.68,
          0.6,
          0.58,
          0.63,
          0.57,
          0.64,
          0.7,
          0.61,
          0.79,
          0.75
         ],
         "textfont": {
          "size": 8
         },
         "textposition": "top center",
         "type": "scatter",
         "x": [
          2000,
          2001,
          2002,
          2003,
          2004,
          2005,
          2006,
          2007,
          2008,
          2009,
          2010,
          2011,
          2012,
          2013,
          2014,
          2015,
          2016,
          2017,
          2018,
          2019,
          2020
         ],
         "xaxis": "x3",
         "y": [
          0.48148148148148145,
          0.5853658536585366,
          0.5714285714285714,
          0.6,
          0.8,
          0.717948717948718,
          0.7254901960784313,
          0.75,
          0.6486486486486487,
          0.7027027027027027,
          0.6774193548387096,
          0.6785714285714286,
          0.6,
          0.5769230769230769,
          0.631578947368421,
          0.5666666666666667,
          0.6428571428571429,
          0.7,
          0.6129032258064516,
          0.7916666666666666,
          0.75
         ],
         "yaxis": "y4"
        },
        {
         "domain": {
          "x": [
           0.6599999999999999,
           0.94
          ],
          "y": [
           0.275,
           0.45
          ]
         },
         "labels": [
          "TB Won",
          "TP Lost"
         ],
         "marker": {
          "colors": [
           "seagreen",
           "indianred"
          ],
          "line": {
           "color": "white",
           "width": 1
          }
         },
         "type": "pie",
         "values": [
          427,
          225
         ]
        },
        {
         "marker": {
          "color": "seagreen"
         },
         "name": "Deciding Sets Won",
         "opacity": 0.8,
         "text": [
          13,
          24,
          16,
          24,
          20,
          28,
          37,
          27,
          24,
          26,
          21,
          19,
          21,
          15,
          24,
          17,
          9,
          21,
          19,
          19,
          3
         ],
         "textfont": {
          "size": 8
         },
         "textposition": "inside",
         "type": "bar",
         "x": [
          2000,
          2001,
          2002,
          2003,
          2004,
          2005,
          2006,
          2007,
          2008,
          2009,
          2010,
          2011,
          2012,
          2013,
          2014,
          2015,
          2016,
          2017,
          2018,
          2019,
          2020
         ],
         "xaxis": "x4",
         "y": [
          8,
          16,
          9,
          14,
          11,
          15,
          18,
          11,
          11,
          10,
          12,
          6,
          14,
          14,
          16,
          9,
          3,
          13,
          12,
          7,
          2
         ],
         "yaxis": "y5"
        },
        {
         "marker": {
          "color": "indianred"
         },
         "name": "Deciding Sets Lost",
         "opacity": 0.8,
         "text": [
          14,
          17,
          12,
          16,
          5,
          11,
          14,
          9,
          13,
          11,
          10,
          9,
          14,
          11,
          14,
          13,
          5,
          9,
          12,
          5,
          1
         ],
         "textfont": {
          "size": 8
         },
         "textposition": "inside",
         "type": "bar",
         "x": [
          2000,
          2001,
          2002,
          2003,
          2004,
          2005,
          2006,
          2007,
          2008,
          2009,
          2010,
          2011,
          2012,
          2013,
          2014,
          2015,
          2016,
          2017,
          2018,
          2019,
          2020
         ],
         "xaxis": "x4",
         "y": [
          10,
          7,
          10,
          7,
          2,
          3,
          2,
          4,
          9,
          11,
          6,
          6,
          3,
          9,
          6,
          4,
          4,
          3,
          5,
          5,
          0
         ],
         "yaxis": "y5"
        },
        {
         "line": {
          "color": "midnightblue",
          "width": 2
         },
         "mode": "lines+text",
         "name": "Win Rate",
         "text": [
          0.48,
          0.59,
          0.57,
          0.6,
          0.8,
          0.72,
          0.73,
          0.75,
          0.65,
          0.7,
          0.68,
          0.68,
          0.6,
          0.58,
          0.63,
          0.57,
          0.64,
          0.7,
          0.61,
          0.79,
          0.75
         ],
         "textfont": {
          "size": 8
         },
         "textposition": "top center",
         "type": "scatter",
         "x": [
          2000,
          2001,
          2002,
          2003,
          2004,
          2005,
          2006,
          2007,
          2008,
          2009,
          2010,
          2011,
          2012,
          2013,
          2014,
          2015,
          2016,
          2017,
          2018,
          2019,
          2020
         ],
         "xaxis": "x4",
         "y": [
          0.4444444444444444,
          0.6956521739130435,
          0.47368421052631576,
          0.6666666666666666,
          0.8461538461538461,
          0.8333333333333334,
          0.9,
          0.7333333333333333,
          0.55,
          0.47619047619047616,
          0.6666666666666666,
          0.5,
          0.8235294117647058,
          0.6086956521739131,
          0.7272727272727273,
          0.6923076923076923,
          0.42857142857142855,
          0.8125,
          0.7058823529411765,
          0.5833333333333334,
          1
         ],
         "yaxis": "y6"
        },
        {
         "domain": {
          "x": [
           0,
           0.27999999999999997
          ],
          "y": [
           0,
           0.175
          ]
         },
         "labels": [
          "Deciding Set Won",
          "Deciding Set Lost"
         ],
         "marker": {
          "colors": [
           "seagreen",
           "indianred"
          ],
          "line": {
           "color": "white",
           "width": 1
          }
         },
         "type": "pie",
         "values": [
          231,
          116
         ]
        }
       ],
       "layout": {
        "annotations": [
         {
          "font": {
           "size": 16
          },
          "showarrow": false,
          "text": "Percentage BreakPoint Converted by Year",
          "x": 0.30499999999999994,
          "xanchor": "center",
          "xref": "paper",
          "y": 1,
          "yanchor": "bottom",
          "yref": "paper"
         },
         {
          "font": {
           "size": 16
          },
          "showarrow": false,
          "text": "Perc. BreakPoint Converted Overall",
          "x": 0.7999999999999999,
          "xanchor": "center",
          "xref": "paper",
          "y": 1,
          "yanchor": "bottom",
          "yref": "paper"
         },
         {
          "font": {
           "size": 16
          },
          "showarrow": false,
          "text": "Perc. BreakPoint Saved Overall",
          "x": 0.13999999999999999,
          "xanchor": "center",
          "xref": "paper",
          "y": 0.7250000000000001,
          "yanchor": "bottom",
          "yref": "paper"
         },
         {
          "font": {
           "size": 16
          },
          "showarrow": false,
          "text": "Percentage BreakPoint Saved by Year",
          "x": 0.635,
          "xanchor": "center",
          "xref": "paper",
          "y": 0.7250000000000001,
          "yanchor": "bottom",
          "yref": "paper"
         },
         {
          "font": {
           "size": 16
          },
          "showarrow": false,
          "text": "TieBreak Won by Year",
          "x": 0.30499999999999994,
          "xanchor": "center",
          "xref": "paper",
          "y": 0.45,
          "yanchor": "bottom",
          "yref": "paper"
         },
         {
          "font": {
           "size": 16
          },
          "showarrow": false,
          "text": "TieBreak Won Overall",
          "x": 0.7999999999999999,
          "xanchor": "center",
          "xref": "paper",
          "y": 0.45,
          "yanchor": "bottom",
          "yref": "paper"
         },
         {
          "font": {
           "size": 16
          },
          "showarrow": false,
          "text": "Deciding Sets Won Overall",
          "x": 0.13999999999999999,
          "xanchor": "center",
          "xref": "paper",
          "y": 0.175,
          "yanchor": "bottom",
          "yref": "paper"
         },
         {
          "font": {
           "size": 16
          },
          "showarrow": false,
          "text": "Deciding Sets Won by Year",
          "x": 0.635,
          "xanchor": "center",
          "xref": "paper",
          "y": 0.175,
          "yanchor": "bottom",
          "yref": "paper"
         }
        ],
        "barmode": "stack",
        "height": 1000,
        "showlegend": false,
        "template": {
         "data": {
          "bar": [
           {
            "error_x": {
             "color": "#2a3f5f"
            },
            "error_y": {
             "color": "#2a3f5f"
            },
            "marker": {
             "line": {
              "color": "#E5ECF6",
              "width": 0.5
             }
            },
            "type": "bar"
           }
          ],
          "barpolar": [
           {
            "marker": {
             "line": {
              "color": "#E5ECF6",
              "width": 0.5
             }
            },
            "type": "barpolar"
           }
          ],
          "carpet": [
           {
            "aaxis": {
             "endlinecolor": "#2a3f5f",
             "gridcolor": "white",
             "linecolor": "white",
             "minorgridcolor": "white",
             "startlinecolor": "#2a3f5f"
            },
            "baxis": {
             "endlinecolor": "#2a3f5f",
             "gridcolor": "white",
             "linecolor": "white",
             "minorgridcolor": "white",
             "startlinecolor": "#2a3f5f"
            },
            "type": "carpet"
           }
          ],
          "choropleth": [
           {
            "colorbar": {
             "outlinewidth": 0,
             "ticks": ""
            },
            "type": "choropleth"
           }
          ],
          "contour": [
           {
            "colorbar": {
             "outlinewidth": 0,
             "ticks": ""
            },
            "colorscale": [
             [
              0,
              "#0d0887"
             ],
             [
              0.1111111111111111,
              "#46039f"
             ],
             [
              0.2222222222222222,
              "#7201a8"
             ],
             [
              0.3333333333333333,
              "#9c179e"
             ],
             [
              0.4444444444444444,
              "#bd3786"
             ],
             [
              0.5555555555555556,
              "#d8576b"
             ],
             [
              0.6666666666666666,
              "#ed7953"
             ],
             [
              0.7777777777777778,
              "#fb9f3a"
             ],
             [
              0.8888888888888888,
              "#fdca26"
             ],
             [
              1,
              "#f0f921"
             ]
            ],
            "type": "contour"
           }
          ],
          "contourcarpet": [
           {
            "colorbar": {
             "outlinewidth": 0,
             "ticks": ""
            },
            "type": "contourcarpet"
           }
          ],
          "heatmap": [
           {
            "colorbar": {
             "outlinewidth": 0,
             "ticks": ""
            },
            "colorscale": [
             [
              0,
              "#0d0887"
             ],
             [
              0.1111111111111111,
              "#46039f"
             ],
             [
              0.2222222222222222,
              "#7201a8"
             ],
             [
              0.3333333333333333,
              "#9c179e"
             ],
             [
              0.4444444444444444,
              "#bd3786"
             ],
             [
              0.5555555555555556,
              "#d8576b"
             ],
             [
              0.6666666666666666,
              "#ed7953"
             ],
             [
              0.7777777777777778,
              "#fb9f3a"
             ],
             [
              0.8888888888888888,
              "#fdca26"
             ],
             [
              1,
              "#f0f921"
             ]
            ],
            "type": "heatmap"
           }
          ],
          "heatmapgl": [
           {
            "colorbar": {
             "outlinewidth": 0,
             "ticks": ""
            },
            "colorscale": [
             [
              0,
              "#0d0887"
             ],
             [
              0.1111111111111111,
              "#46039f"
             ],
             [
              0.2222222222222222,
              "#7201a8"
             ],
             [
              0.3333333333333333,
              "#9c179e"
             ],
             [
              0.4444444444444444,
              "#bd3786"
             ],
             [
              0.5555555555555556,
              "#d8576b"
             ],
             [
              0.6666666666666666,
              "#ed7953"
             ],
             [
              0.7777777777777778,
              "#fb9f3a"
             ],
             [
              0.8888888888888888,
              "#fdca26"
             ],
             [
              1,
              "#f0f921"
             ]
            ],
            "type": "heatmapgl"
           }
          ],
          "histogram": [
           {
            "marker": {
             "colorbar": {
              "outlinewidth": 0,
              "ticks": ""
             }
            },
            "type": "histogram"
           }
          ],
          "histogram2d": [
           {
            "colorbar": {
             "outlinewidth": 0,
             "ticks": ""
            },
            "colorscale": [
             [
              0,
              "#0d0887"
             ],
             [
              0.1111111111111111,
              "#46039f"
             ],
             [
              0.2222222222222222,
              "#7201a8"
             ],
             [
              0.3333333333333333,
              "#9c179e"
             ],
             [
              0.4444444444444444,
              "#bd3786"
             ],
             [
              0.5555555555555556,
              "#d8576b"
             ],
             [
              0.6666666666666666,
              "#ed7953"
             ],
             [
              0.7777777777777778,
              "#fb9f3a"
             ],
             [
              0.8888888888888888,
              "#fdca26"
             ],
             [
              1,
              "#f0f921"
             ]
            ],
            "type": "histogram2d"
           }
          ],
          "histogram2dcontour": [
           {
            "colorbar": {
             "outlinewidth": 0,
             "ticks": ""
            },
            "colorscale": [
             [
              0,
              "#0d0887"
             ],
             [
              0.1111111111111111,
              "#46039f"
             ],
             [
              0.2222222222222222,
              "#7201a8"
             ],
             [
              0.3333333333333333,
              "#9c179e"
             ],
             [
              0.4444444444444444,
              "#bd3786"
             ],
             [
              0.5555555555555556,
              "#d8576b"
             ],
             [
              0.6666666666666666,
              "#ed7953"
             ],
             [
              0.7777777777777778,
              "#fb9f3a"
             ],
             [
              0.8888888888888888,
              "#fdca26"
             ],
             [
              1,
              "#f0f921"
             ]
            ],
            "type": "histogram2dcontour"
           }
          ],
          "mesh3d": [
           {
            "colorbar": {
             "outlinewidth": 0,
             "ticks": ""
            },
            "type": "mesh3d"
           }
          ],
          "parcoords": [
           {
            "line": {
             "colorbar": {
              "outlinewidth": 0,
              "ticks": ""
             }
            },
            "type": "parcoords"
           }
          ],
          "pie": [
           {
            "automargin": true,
            "type": "pie"
           }
          ],
          "scatter": [
           {
            "marker": {
             "colorbar": {
              "outlinewidth": 0,
              "ticks": ""
             }
            },
            "type": "scatter"
           }
          ],
          "scatter3d": [
           {
            "line": {
             "colorbar": {
              "outlinewidth": 0,
              "ticks": ""
             }
            },
            "marker": {
             "colorbar": {
              "outlinewidth": 0,
              "ticks": ""
             }
            },
            "type": "scatter3d"
           }
          ],
          "scattercarpet": [
           {
            "marker": {
             "colorbar": {
              "outlinewidth": 0,
              "ticks": ""
             }
            },
            "type": "scattercarpet"
           }
          ],
          "scattergeo": [
           {
            "marker": {
             "colorbar": {
              "outlinewidth": 0,
              "ticks": ""
             }
            },
            "type": "scattergeo"
           }
          ],
          "scattergl": [
           {
            "marker": {
             "colorbar": {
              "outlinewidth": 0,
              "ticks": ""
             }
            },
            "type": "scattergl"
           }
          ],
          "scattermapbox": [
           {
            "marker": {
             "colorbar": {
              "outlinewidth": 0,
              "ticks": ""
             }
            },
            "type": "scattermapbox"
           }
          ],
          "scatterpolar": [
           {
            "marker": {
             "colorbar": {
              "outlinewidth": 0,
              "ticks": ""
             }
            },
            "type": "scatterpolar"
           }
          ],
          "scatterpolargl": [
           {
            "marker": {
             "colorbar": {
              "outlinewidth": 0,
              "ticks": ""
             }
            },
            "type": "scatterpolargl"
           }
          ],
          "scatterternary": [
           {
            "marker": {
             "colorbar": {
              "outlinewidth": 0,
              "ticks": ""
             }
            },
            "type": "scatterternary"
           }
          ],
          "surface": [
           {
            "colorbar": {
             "outlinewidth": 0,
             "ticks": ""
            },
            "colorscale": [
             [
              0,
              "#0d0887"
             ],
             [
              0.1111111111111111,
              "#46039f"
             ],
             [
              0.2222222222222222,
              "#7201a8"
             ],
             [
              0.3333333333333333,
              "#9c179e"
             ],
             [
              0.4444444444444444,
              "#bd3786"
             ],
             [
              0.5555555555555556,
              "#d8576b"
             ],
             [
              0.6666666666666666,
              "#ed7953"
             ],
             [
              0.7777777777777778,
              "#fb9f3a"
             ],
             [
              0.8888888888888888,
              "#fdca26"
             ],
             [
              1,
              "#f0f921"
             ]
            ],
            "type": "surface"
           }
          ],
          "table": [
           {
            "cells": {
             "fill": {
              "color": "#EBF0F8"
             },
             "line": {
              "color": "white"
             }
            },
            "header": {
             "fill": {
              "color": "#C8D4E3"
             },
             "line": {
              "color": "white"
             }
            },
            "type": "table"
           }
          ]
         },
         "layout": {
          "annotationdefaults": {
           "arrowcolor": "#2a3f5f",
           "arrowhead": 0,
           "arrowwidth": 1
          },
          "coloraxis": {
           "colorbar": {
            "outlinewidth": 0,
            "ticks": ""
           }
          },
          "colorscale": {
           "diverging": [
            [
             0,
             "#8e0152"
            ],
            [
             0.1,
             "#c51b7d"
            ],
            [
             0.2,
             "#de77ae"
            ],
            [
             0.3,
             "#f1b6da"
            ],
            [
             0.4,
             "#fde0ef"
            ],
            [
             0.5,
             "#f7f7f7"
            ],
            [
             0.6,
             "#e6f5d0"
            ],
            [
             0.7,
             "#b8e186"
            ],
            [
             0.8,
             "#7fbc41"
            ],
            [
             0.9,
             "#4d9221"
            ],
            [
             1,
             "#276419"
            ]
           ],
           "sequential": [
            [
             0,
             "#0d0887"
            ],
            [
             0.1111111111111111,
             "#46039f"
            ],
            [
             0.2222222222222222,
             "#7201a8"
            ],
            [
             0.3333333333333333,
             "#9c179e"
            ],
            [
             0.4444444444444444,
             "#bd3786"
            ],
            [
             0.5555555555555556,
             "#d8576b"
            ],
            [
             0.6666666666666666,
             "#ed7953"
            ],
            [
             0.7777777777777778,
             "#fb9f3a"
            ],
            [
             0.8888888888888888,
             "#fdca26"
            ],
            [
             1,
             "#f0f921"
            ]
           ],
           "sequentialminus": [
            [
             0,
             "#0d0887"
            ],
            [
             0.1111111111111111,
             "#46039f"
            ],
            [
             0.2222222222222222,
             "#7201a8"
            ],
            [
             0.3333333333333333,
             "#9c179e"
            ],
            [
             0.4444444444444444,
             "#bd3786"
            ],
            [
             0.5555555555555556,
             "#d8576b"
            ],
            [
             0.6666666666666666,
             "#ed7953"
            ],
            [
             0.7777777777777778,
             "#fb9f3a"
            ],
            [
             0.8888888888888888,
             "#fdca26"
            ],
            [
             1,
             "#f0f921"
            ]
           ]
          },
          "colorway": [
           "#636efa",
           "#EF553B",
           "#00cc96",
           "#ab63fa",
           "#FFA15A",
           "#19d3f3",
           "#FF6692",
           "#B6E880",
           "#FF97FF",
           "#FECB52"
          ],
          "font": {
           "color": "#2a3f5f"
          },
          "geo": {
           "bgcolor": "white",
           "lakecolor": "white",
           "landcolor": "#E5ECF6",
           "showlakes": true,
           "showland": true,
           "subunitcolor": "white"
          },
          "hoverlabel": {
           "align": "left"
          },
          "hovermode": "closest",
          "mapbox": {
           "style": "light"
          },
          "paper_bgcolor": "white",
          "plot_bgcolor": "#E5ECF6",
          "polar": {
           "angularaxis": {
            "gridcolor": "white",
            "linecolor": "white",
            "ticks": ""
           },
           "bgcolor": "#E5ECF6",
           "radialaxis": {
            "gridcolor": "white",
            "linecolor": "white",
            "ticks": ""
           }
          },
          "scene": {
           "xaxis": {
            "backgroundcolor": "#E5ECF6",
            "gridcolor": "white",
            "gridwidth": 2,
            "linecolor": "white",
            "showbackground": true,
            "ticks": "",
            "zerolinecolor": "white"
           },
           "yaxis": {
            "backgroundcolor": "#E5ECF6",
            "gridcolor": "white",
            "gridwidth": 2,
            "linecolor": "white",
            "showbackground": true,
            "ticks": "",
            "zerolinecolor": "white"
           },
           "zaxis": {
            "backgroundcolor": "#E5ECF6",
            "gridcolor": "white",
            "gridwidth": 2,
            "linecolor": "white",
            "showbackground": true,
            "ticks": "",
            "zerolinecolor": "white"
           }
          },
          "shapedefaults": {
           "line": {
            "color": "#2a3f5f"
           }
          },
          "ternary": {
           "aaxis": {
            "gridcolor": "white",
            "linecolor": "white",
            "ticks": ""
           },
           "baxis": {
            "gridcolor": "white",
            "linecolor": "white",
            "ticks": ""
           },
           "bgcolor": "#E5ECF6",
           "caxis": {
            "gridcolor": "white",
            "linecolor": "white",
            "ticks": ""
           }
          },
          "title": {
           "x": 0.05
          },
          "xaxis": {
           "automargin": true,
           "gridcolor": "white",
           "linecolor": "white",
           "ticks": "",
           "title": {
            "standoff": 15
           },
           "zerolinecolor": "white",
           "zerolinewidth": 2
          },
          "yaxis": {
           "automargin": true,
           "gridcolor": "white",
           "linecolor": "white",
           "ticks": "",
           "title": {
            "standoff": 15
           },
           "zerolinecolor": "white",
           "zerolinewidth": 2
          }
         }
        },
        "width": 1000,
        "xaxis": {
         "anchor": "y",
         "domain": [
          0,
          0.6099999999999999
         ],
         "title": {
          "text": "Year"
         }
        },
        "xaxis2": {
         "anchor": "y2",
         "domain": [
          0.32999999999999996,
          0.94
         ],
         "title": {
          "text": "Year"
         }
        },
        "xaxis3": {
         "anchor": "y3",
         "domain": [
          0,
          0.6099999999999999
         ],
         "title": {
          "text": "Year"
         }
        },
        "xaxis4": {
         "anchor": "y5",
         "domain": [
          0.32999999999999996,
          0.94
         ],
         "title": {
          "text": "Year"
         }
        },
        "yaxis": {
         "anchor": "x",
         "domain": [
          0.825,
          1
         ],
         "title": {
          "text": "Percentage"
         }
        },
        "yaxis2": {
         "anchor": "x2",
         "domain": [
          0.55,
          0.7250000000000001
         ],
         "side": "right",
         "title": {
          "text": "Percentage"
         }
        },
        "yaxis3": {
         "anchor": "x3",
         "domain": [
          0.275,
          0.45
         ],
         "title": {
          "text": "Num. Tb"
         }
        },
        "yaxis4": {
         "anchor": "x3",
         "overlaying": "y3",
         "side": "right",
         "title": {
          "text": "Percentage"
         }
        },
        "yaxis5": {
         "anchor": "x4",
         "domain": [
          0,
          0.175
         ],
         "title": {
          "text": "Num. Sets"
         }
        },
        "yaxis6": {
         "anchor": "x4",
         "overlaying": "y5",
         "side": "right",
         "title": {
          "text": "Percentage"
         }
        }
       }
      }
     },
     "metadata": {}
    }
   ],
   "source": [
    "def plot_under_pressure(tp):\n",
    "\n",
    "    m = tp.selected_matches\n",
    "    \n",
    "    up_by_year = (m.groupby('year')\n",
    "        .agg(bpConverted = ('bpConverted', np.sum),\n",
    "             bpConvertedStd = ('bpConverted', np.std),\n",
    "             bpTotal = ('bpTotal', np.sum),\n",
    "             bpSaved = ('bpSaved', np.sum),\n",
    "             bpSavedStd = ('bpSaved', np.std),\n",
    "             bpFaced = ('bpFaced', np.sum),\n",
    "             tbPlayed = ('tbPlayed', np.sum),\n",
    "             tbWon = ('tbWon', np.sum),\n",
    "             decidingSetPlayed = ('decidingSetPlayed', np.sum),\n",
    "             decidingSetWon = ('decidingSetWon', np.sum))\n",
    "        .assign(meanBpConverted = lambda x: x['bpConverted']/x['bpTotal'])\n",
    "        .assign(stdBpConverted = lambda x: x['bpConvertedStd']/x['bpConverted'])\n",
    "        .assign(meanBpSaved = lambda x: x['bpSaved']/x['bpFaced'])\n",
    "        .assign(stdBpSaved = lambda x: x['bpSavedStd']/x['bpSaved'])\n",
    "        .assign(tbLost = lambda x: x['tbPlayed'] - x['tbWon'])\n",
    "        .assign(percTbWon = lambda x: x['tbWon']/x['tbPlayed'])\n",
    "        .assign(DecidingSetLost = lambda x: x['decidingSetPlayed'] - x['decidingSetWon'])\n",
    "        .assign(percDecidingSetWon = lambda x: x['decidingSetWon']/x['decidingSetPlayed'])\n",
    "        .reset_index()\n",
    "    )\n",
    "\n",
    "    up_overall = m[['bpFaced', 'bpSaved', 'bpConverted', 'bpTotal', 'tbPlayed', 'tbWon', 'decidingSetPlayed', 'decidingSetWon']].sum()\n",
    "\n",
    "    colors = [\n",
    "        'rgb(33,113,181)',\n",
    "        'rgb(217,71,1)',\n",
    "        'rgb(81, 178, 124)',\n",
    "        'rgb(235, 127, 134)'\n",
    "        ]\n",
    "\n",
    "\n",
    "    fig = make_subplots(\n",
    "        cols=3, rows=4,\n",
    "        specs=[[{'colspan': 2}, None, {'type': 'pie'}],\n",
    "                [{'type': 'pie'}, {'colspan': 2}, None],\n",
    "                [{'colspan': 2, 'secondary_y': True}, None, {'type': 'pie'}],\n",
    "                [{'type': 'pie'}, {'colspan': 2, 'secondary_y': True}, None]],\n",
    "        shared_xaxes=True,\n",
    "        subplot_titles=[\n",
    "                'Percentage BreakPoint Converted by Year',  'Perc. BreakPoint Converted Overall',\n",
    "                'Perc. BreakPoint Saved Overall',  'Percentage BreakPoint Saved by Year',\n",
    "                'TieBreak Won by Year',  'TieBreak Won Overall',\n",
    "                'Deciding Sets Won Overall',  'Deciding Sets Won by Year'\n",
    "                ],\n",
    "        vertical_spacing=0.1,\n",
    "        horizontal_spacing=0.05\n",
    "    )\n",
    "        \n",
    "\n",
    "    x = up_by_year['year']\n",
    "    \n",
    "    # Break Point Converted\n",
    "    fig.add_trace(\n",
    "        go.Scatter(\n",
    "            x=x, y=up_by_year['meanBpConverted'] + 2* up_by_year['stdBpConverted'],\n",
    "            name='Upper Band',\n",
    "            fill=None,\n",
    "            mode='lines',\n",
    "            line=dict(color='darksalmon', width=1)\n",
    "        ),\n",
    "        row=1, col=1\n",
    "    )\n",
    "\n",
    "    fig.add_trace(\n",
    "        go.Scatter(\n",
    "            x=x, y=up_by_year['meanBpConverted'] - 2* up_by_year['stdBpConverted'],\n",
    "            name='Lower Band',\n",
    "            fill='tonexty', # fill area between trace0 and trace1\n",
    "            mode='lines',\n",
    "            line=dict(color='darksalmon', width=1)\n",
    "        ),\n",
    "        row=1, col=1\n",
    "    )\n",
    "\n",
    "    fig.add_trace(\n",
    "        go.Scatter(\n",
    "            x=x, y=up_by_year['meanBpConverted'],\n",
    "            name='Mean Perc BP Converted',\n",
    "            textposition='top center',\n",
    "            mode='lines+markers',\n",
    "            connectgaps=True,\n",
    "            marker={'color': colors[0]},\n",
    "        ),\n",
    "        row=1, col=1\n",
    "    )\n",
    "\n",
    "    fig.add_trace(\n",
    "        go.Pie(\n",
    "            labels=['BP Converted', 'BP Not Converted'],\n",
    "            values=[up_overall['bpConverted'], up_overall['bpTotal'] - up_overall['bpConverted']],\n",
    "            marker={'colors': ['seagreen', 'indianred'],\n",
    "                        'line': {'color':'white', 'width':1}}\n",
    "        ),\n",
    "        row=1, col=3\n",
    "    )\n",
    "\n",
    "\n",
    "    # Break Point Saved\n",
    "    fig.add_trace(\n",
    "        go.Scatter(\n",
    "            x=x, y=up_by_year['meanBpSaved'] + 2* up_by_year['stdBpSaved'],\n",
    "            name='Upper Band',\n",
    "            fill=None,\n",
    "            mode='lines',\n",
    "            line=dict(color='darksalmon', width=1)\n",
    "        ),\n",
    "        row=2, col=2\n",
    "    )\n",
    "\n",
    "    fig.add_trace(\n",
    "        go.Scatter(\n",
    "            x=x, y=up_by_year['meanBpSaved'] - 2* up_by_year['stdBpSaved'],\n",
    "            name='Lower Band',\n",
    "            fill='tonexty', # fill area between trace0 and trace1\n",
    "            mode='lines',\n",
    "            line=dict(color='darksalmon', width=1)\n",
    "        ),\n",
    "        row=2, col=2\n",
    "    )\n",
    "\n",
    "    fig.add_trace(\n",
    "        go.Scatter(\n",
    "            x=x, y=up_by_year['meanBpSaved'],\n",
    "            name='Mean Perc BP Saved',\n",
    "            textposition='top center',\n",
    "            mode='lines+markers',\n",
    "            connectgaps=True,\n",
    "            marker={'color': colors[1]},\n",
    "        ),\n",
    "        row=2, col=2\n",
    "    )\n",
    "    \n",
    "    fig.add_trace(\n",
    "        go.Pie(\n",
    "            labels=['BP Saved', 'BP Lost'],\n",
    "            values=[up_overall['bpSaved'], up_overall['bpFaced'] - up_overall['bpSaved']],\n",
    "            marker={'colors': ['seagreen', 'indianred'],\n",
    "                        'line': {'color':'white', 'width':1}}\n",
    "        ),\n",
    "        row=2, col=1\n",
    "    )\n",
    "    \n",
    "    \n",
    "    \n",
    "    # Tie Break\n",
    "    fig.add_trace(\n",
    "        go.Bar(\n",
    "            x=x, y=up_by_year['tbWon'],\n",
    "            name='TieBreak Won',\n",
    "            marker={'color': 'seagreen'},\n",
    "            text=up_by_year['tbWon'],\n",
    "            textposition='inside',\n",
    "            textfont_size=8,\n",
    "            opacity=0.8\n",
    "        ),\n",
    "        row=3, col=1,\n",
    "        secondary_y=False\n",
    "    )\n",
    "\n",
    "    fig.add_trace(\n",
    "        go.Bar(\n",
    "            x=x, y=up_by_year['tbLost'],\n",
    "            name='TieBreak Lost',\n",
    "            marker={'color': 'indianred'},\n",
    "            text=up_by_year['tbLost'],\n",
    "            textposition='inside',\n",
    "            textfont_size=8,\n",
    "            opacity=0.8\n",
    "        ),\n",
    "        row=3, col=1,\n",
    "        secondary_y=False\n",
    "    )\n",
    "\n",
    "    fig.add_trace(\n",
    "        go.Scatter(\n",
    "            x=x, y=up_by_year['percTbWon'],\n",
    "            name='Win Rate',\n",
    "            line={'color':'midnightblue', 'width':2},\n",
    "            mode='lines+text',\n",
    "            text=up_by_year['percTbWon'].round(2),\n",
    "            textposition='top center',\n",
    "            textfont_size=8\n",
    "        ),\n",
    "        row=3, col=1,\n",
    "        secondary_y=True\n",
    "    )\n",
    "   \n",
    "    fig.add_trace(\n",
    "        go.Pie(\n",
    "            labels=['TB Won', 'TP Lost'],\n",
    "            values=[up_overall['tbWon'], up_overall['tbPlayed'] - up_overall['tbWon']],\n",
    "            marker={'colors': ['seagreen', 'indianred'],\n",
    "                        'line': {'color':'white', 'width':1}}\n",
    "        ),\n",
    "        row=3, col=3\n",
    "    )\n",
    "    \n",
    "    \n",
    "    \n",
    "    # Deciding Set\n",
    "    fig.add_trace(\n",
    "        go.Bar(\n",
    "            x=x, y=up_by_year['decidingSetWon'],\n",
    "            name='Deciding Sets Won',\n",
    "            marker={'color': 'seagreen'},\n",
    "            text=up_by_year['tbWon'],\n",
    "            textposition='inside',\n",
    "            textfont_size=8,\n",
    "            opacity=0.8\n",
    "        ),\n",
    "        row=4, col=2,\n",
    "        secondary_y=False\n",
    "    )\n",
    "\n",
    "    fig.add_trace(\n",
    "        go.Bar(\n",
    "            x=x, y=up_by_year['DecidingSetLost'],\n",
    "            name='Deciding Sets Lost',\n",
    "            marker={'color': 'indianred'},\n",
    "            text=up_by_year['tbLost'],\n",
    "            textposition='inside',\n",
    "            textfont_size=8,\n",
    "            opacity=0.8\n",
    "        ),\n",
    "        row=4, col=2,\n",
    "        secondary_y=False\n",
    "    )\n",
    "    \n",
    "    fig.add_trace(\n",
    "        go.Scatter(\n",
    "            x=x, y=up_by_year['percDecidingSetWon'],\n",
    "            name='Win Rate',\n",
    "            line={'color':'midnightblue', 'width':2},\n",
    "            mode='lines+text',\n",
    "            text=up_by_year['percTbWon'].round(2),\n",
    "            textposition='top center',\n",
    "            textfont_size=8\n",
    "        ),\n",
    "        row=4, col=2,\n",
    "        secondary_y=True\n",
    "    )\n",
    "   \n",
    "    fig.add_trace(\n",
    "        go.Pie(\n",
    "            labels=['Deciding Set Won', 'Deciding Set Lost'],\n",
    "            values=[up_overall['decidingSetWon'], up_overall['decidingSetPlayed'] - up_overall['decidingSetWon']],\n",
    "            marker={'colors': ['seagreen', 'indianred'],\n",
    "                        'line': {'color':'white', 'width':1}}\n",
    "        ),\n",
    "        row=4, col=1\n",
    "    )\n",
    "    \n",
    "\n",
    "    \n",
    "    \n",
    "    # Layout\n",
    "    fig.update_layout(\n",
    "        barmode='stack',\n",
    "            height = 1000, width=1000, \n",
    "            xaxis1={'title': 'Year'}, xaxis2={'title': 'Year'},\n",
    "            xaxis3={'title': 'Year'}, xaxis4={'title': 'Year'},\n",
    "            yaxis={'title': 'Percentage'}, \n",
    "            yaxis2={'title': 'Percentage', 'side':'right'},\n",
    "            yaxis3={'title': 'Num. Tb'}, yaxis4={'title': 'Percentage', 'side':'right'},\n",
    "            yaxis5={'title': 'Num. Sets'}, yaxis6={'title': 'Percentage', 'side':'right'},\n",
    "            showlegend=False\n",
    "        )\n",
    "    return fig\n",
    "\n",
    "plot_under_pressure(tp)"
   ]
  },
  {
   "cell_type": "code",
   "execution_count": 64,
   "metadata": {},
   "outputs": [
    {
     "output_type": "display_data",
     "data": {
      "application/vnd.plotly.v1+json": {
       "config": {
        "plotlyServerURL": "https://plot.ly"
       },
       "data": [
        {
         "type": "scatter",
         "x": [
          2000,
          2001,
          2002,
          2003,
          2004,
          2005,
          2006,
          2007,
          2008,
          2009,
          2010,
          2011,
          2012,
          2013,
          2014,
          2015,
          2016,
          2017,
          2018,
          2019,
          2020
         ],
         "xaxis": "x",
         "y": [
          0.48148148148148145,
          0.5853658536585366,
          0.5714285714285714,
          0.6,
          0.8,
          0.717948717948718,
          0.7254901960784313,
          0.75,
          0.6486486486486487,
          0.7027027027027027,
          0.6774193548387096,
          0.6785714285714286,
          0.6,
          0.5769230769230769,
          0.631578947368421,
          0.5666666666666667,
          0.6428571428571429,
          0.7,
          0.6129032258064516,
          0.7916666666666666,
          0.75
         ],
         "yaxis": "y"
        },
        {
         "domain": {
          "x": [
           0.7,
           1
          ],
          "y": [
           0.525,
           1
          ]
         },
         "labels": [
          "tbPlayed",
          "tbWon",
          "tbLost"
         ],
         "type": "pie",
         "values": [
          652,
          427,
          225
         ]
        }
       ],
       "layout": {
        "template": {
         "data": {
          "bar": [
           {
            "error_x": {
             "color": "#2a3f5f"
            },
            "error_y": {
             "color": "#2a3f5f"
            },
            "marker": {
             "line": {
              "color": "#E5ECF6",
              "width": 0.5
             }
            },
            "type": "bar"
           }
          ],
          "barpolar": [
           {
            "marker": {
             "line": {
              "color": "#E5ECF6",
              "width": 0.5
             }
            },
            "type": "barpolar"
           }
          ],
          "carpet": [
           {
            "aaxis": {
             "endlinecolor": "#2a3f5f",
             "gridcolor": "white",
             "linecolor": "white",
             "minorgridcolor": "white",
             "startlinecolor": "#2a3f5f"
            },
            "baxis": {
             "endlinecolor": "#2a3f5f",
             "gridcolor": "white",
             "linecolor": "white",
             "minorgridcolor": "white",
             "startlinecolor": "#2a3f5f"
            },
            "type": "carpet"
           }
          ],
          "choropleth": [
           {
            "colorbar": {
             "outlinewidth": 0,
             "ticks": ""
            },
            "type": "choropleth"
           }
          ],
          "contour": [
           {
            "colorbar": {
             "outlinewidth": 0,
             "ticks": ""
            },
            "colorscale": [
             [
              0,
              "#0d0887"
             ],
             [
              0.1111111111111111,
              "#46039f"
             ],
             [
              0.2222222222222222,
              "#7201a8"
             ],
             [
              0.3333333333333333,
              "#9c179e"
             ],
             [
              0.4444444444444444,
              "#bd3786"
             ],
             [
              0.5555555555555556,
              "#d8576b"
             ],
             [
              0.6666666666666666,
              "#ed7953"
             ],
             [
              0.7777777777777778,
              "#fb9f3a"
             ],
             [
              0.8888888888888888,
              "#fdca26"
             ],
             [
              1,
              "#f0f921"
             ]
            ],
            "type": "contour"
           }
          ],
          "contourcarpet": [
           {
            "colorbar": {
             "outlinewidth": 0,
             "ticks": ""
            },
            "type": "contourcarpet"
           }
          ],
          "heatmap": [
           {
            "colorbar": {
             "outlinewidth": 0,
             "ticks": ""
            },
            "colorscale": [
             [
              0,
              "#0d0887"
             ],
             [
              0.1111111111111111,
              "#46039f"
             ],
             [
              0.2222222222222222,
              "#7201a8"
             ],
             [
              0.3333333333333333,
              "#9c179e"
             ],
             [
              0.4444444444444444,
              "#bd3786"
             ],
             [
              0.5555555555555556,
              "#d8576b"
             ],
             [
              0.6666666666666666,
              "#ed7953"
             ],
             [
              0.7777777777777778,
              "#fb9f3a"
             ],
             [
              0.8888888888888888,
              "#fdca26"
             ],
             [
              1,
              "#f0f921"
             ]
            ],
            "type": "heatmap"
           }
          ],
          "heatmapgl": [
           {
            "colorbar": {
             "outlinewidth": 0,
             "ticks": ""
            },
            "colorscale": [
             [
              0,
              "#0d0887"
             ],
             [
              0.1111111111111111,
              "#46039f"
             ],
             [
              0.2222222222222222,
              "#7201a8"
             ],
             [
              0.3333333333333333,
              "#9c179e"
             ],
             [
              0.4444444444444444,
              "#bd3786"
             ],
             [
              0.5555555555555556,
              "#d8576b"
             ],
             [
              0.6666666666666666,
              "#ed7953"
             ],
             [
              0.7777777777777778,
              "#fb9f3a"
             ],
             [
              0.8888888888888888,
              "#fdca26"
             ],
             [
              1,
              "#f0f921"
             ]
            ],
            "type": "heatmapgl"
           }
          ],
          "histogram": [
           {
            "marker": {
             "colorbar": {
              "outlinewidth": 0,
              "ticks": ""
             }
            },
            "type": "histogram"
           }
          ],
          "histogram2d": [
           {
            "colorbar": {
             "outlinewidth": 0,
             "ticks": ""
            },
            "colorscale": [
             [
              0,
              "#0d0887"
             ],
             [
              0.1111111111111111,
              "#46039f"
             ],
             [
              0.2222222222222222,
              "#7201a8"
             ],
             [
              0.3333333333333333,
              "#9c179e"
             ],
             [
              0.4444444444444444,
              "#bd3786"
             ],
             [
              0.5555555555555556,
              "#d8576b"
             ],
             [
              0.6666666666666666,
              "#ed7953"
             ],
             [
              0.7777777777777778,
              "#fb9f3a"
             ],
             [
              0.8888888888888888,
              "#fdca26"
             ],
             [
              1,
              "#f0f921"
             ]
            ],
            "type": "histogram2d"
           }
          ],
          "histogram2dcontour": [
           {
            "colorbar": {
             "outlinewidth": 0,
             "ticks": ""
            },
            "colorscale": [
             [
              0,
              "#0d0887"
             ],
             [
              0.1111111111111111,
              "#46039f"
             ],
             [
              0.2222222222222222,
              "#7201a8"
             ],
             [
              0.3333333333333333,
              "#9c179e"
             ],
             [
              0.4444444444444444,
              "#bd3786"
             ],
             [
              0.5555555555555556,
              "#d8576b"
             ],
             [
              0.6666666666666666,
              "#ed7953"
             ],
             [
              0.7777777777777778,
              "#fb9f3a"
             ],
             [
              0.8888888888888888,
              "#fdca26"
             ],
             [
              1,
              "#f0f921"
             ]
            ],
            "type": "histogram2dcontour"
           }
          ],
          "mesh3d": [
           {
            "colorbar": {
             "outlinewidth": 0,
             "ticks": ""
            },
            "type": "mesh3d"
           }
          ],
          "parcoords": [
           {
            "line": {
             "colorbar": {
              "outlinewidth": 0,
              "ticks": ""
             }
            },
            "type": "parcoords"
           }
          ],
          "pie": [
           {
            "automargin": true,
            "type": "pie"
           }
          ],
          "scatter": [
           {
            "marker": {
             "colorbar": {
              "outlinewidth": 0,
              "ticks": ""
             }
            },
            "type": "scatter"
           }
          ],
          "scatter3d": [
           {
            "line": {
             "colorbar": {
              "outlinewidth": 0,
              "ticks": ""
             }
            },
            "marker": {
             "colorbar": {
              "outlinewidth": 0,
              "ticks": ""
             }
            },
            "type": "scatter3d"
           }
          ],
          "scattercarpet": [
           {
            "marker": {
             "colorbar": {
              "outlinewidth": 0,
              "ticks": ""
             }
            },
            "type": "scattercarpet"
           }
          ],
          "scattergeo": [
           {
            "marker": {
             "colorbar": {
              "outlinewidth": 0,
              "ticks": ""
             }
            },
            "type": "scattergeo"
           }
          ],
          "scattergl": [
           {
            "marker": {
             "colorbar": {
              "outlinewidth": 0,
              "ticks": ""
             }
            },
            "type": "scattergl"
           }
          ],
          "scattermapbox": [
           {
            "marker": {
             "colorbar": {
              "outlinewidth": 0,
              "ticks": ""
             }
            },
            "type": "scattermapbox"
           }
          ],
          "scatterpolar": [
           {
            "marker": {
             "colorbar": {
              "outlinewidth": 0,
              "ticks": ""
             }
            },
            "type": "scatterpolar"
           }
          ],
          "scatterpolargl": [
           {
            "marker": {
             "colorbar": {
              "outlinewidth": 0,
              "ticks": ""
             }
            },
            "type": "scatterpolargl"
           }
          ],
          "scatterternary": [
           {
            "marker": {
             "colorbar": {
              "outlinewidth": 0,
              "ticks": ""
             }
            },
            "type": "scatterternary"
           }
          ],
          "surface": [
           {
            "colorbar": {
             "outlinewidth": 0,
             "ticks": ""
            },
            "colorscale": [
             [
              0,
              "#0d0887"
             ],
             [
              0.1111111111111111,
              "#46039f"
             ],
             [
              0.2222222222222222,
              "#7201a8"
             ],
             [
              0.3333333333333333,
              "#9c179e"
             ],
             [
              0.4444444444444444,
              "#bd3786"
             ],
             [
              0.5555555555555556,
              "#d8576b"
             ],
             [
              0.6666666666666666,
              "#ed7953"
             ],
             [
              0.7777777777777778,
              "#fb9f3a"
             ],
             [
              0.8888888888888888,
              "#fdca26"
             ],
             [
              1,
              "#f0f921"
             ]
            ],
            "type": "surface"
           }
          ],
          "table": [
           {
            "cells": {
             "fill": {
              "color": "#EBF0F8"
             },
             "line": {
              "color": "white"
             }
            },
            "header": {
             "fill": {
              "color": "#C8D4E3"
             },
             "line": {
              "color": "white"
             }
            },
            "type": "table"
           }
          ]
         },
         "layout": {
          "annotationdefaults": {
           "arrowcolor": "#2a3f5f",
           "arrowhead": 0,
           "arrowwidth": 1
          },
          "coloraxis": {
           "colorbar": {
            "outlinewidth": 0,
            "ticks": ""
           }
          },
          "colorscale": {
           "diverging": [
            [
             0,
             "#8e0152"
            ],
            [
             0.1,
             "#c51b7d"
            ],
            [
             0.2,
             "#de77ae"
            ],
            [
             0.3,
             "#f1b6da"
            ],
            [
             0.4,
             "#fde0ef"
            ],
            [
             0.5,
             "#f7f7f7"
            ],
            [
             0.6,
             "#e6f5d0"
            ],
            [
             0.7,
             "#b8e186"
            ],
            [
             0.8,
             "#7fbc41"
            ],
            [
             0.9,
             "#4d9221"
            ],
            [
             1,
             "#276419"
            ]
           ],
           "sequential": [
            [
             0,
             "#0d0887"
            ],
            [
             0.1111111111111111,
             "#46039f"
            ],
            [
             0.2222222222222222,
             "#7201a8"
            ],
            [
             0.3333333333333333,
             "#9c179e"
            ],
            [
             0.4444444444444444,
             "#bd3786"
            ],
            [
             0.5555555555555556,
             "#d8576b"
            ],
            [
             0.6666666666666666,
             "#ed7953"
            ],
            [
             0.7777777777777778,
             "#fb9f3a"
            ],
            [
             0.8888888888888888,
             "#fdca26"
            ],
            [
             1,
             "#f0f921"
            ]
           ],
           "sequentialminus": [
            [
             0,
             "#0d0887"
            ],
            [
             0.1111111111111111,
             "#46039f"
            ],
            [
             0.2222222222222222,
             "#7201a8"
            ],
            [
             0.3333333333333333,
             "#9c179e"
            ],
            [
             0.4444444444444444,
             "#bd3786"
            ],
            [
             0.5555555555555556,
             "#d8576b"
            ],
            [
             0.6666666666666666,
             "#ed7953"
            ],
            [
             0.7777777777777778,
             "#fb9f3a"
            ],
            [
             0.8888888888888888,
             "#fdca26"
            ],
            [
             1,
             "#f0f921"
            ]
           ]
          },
          "colorway": [
           "#636efa",
           "#EF553B",
           "#00cc96",
           "#ab63fa",
           "#FFA15A",
           "#19d3f3",
           "#FF6692",
           "#B6E880",
           "#FF97FF",
           "#FECB52"
          ],
          "font": {
           "color": "#2a3f5f"
          },
          "geo": {
           "bgcolor": "white",
           "lakecolor": "white",
           "landcolor": "#E5ECF6",
           "showlakes": true,
           "showland": true,
           "subunitcolor": "white"
          },
          "hoverlabel": {
           "align": "left"
          },
          "hovermode": "closest",
          "mapbox": {
           "style": "light"
          },
          "paper_bgcolor": "white",
          "plot_bgcolor": "#E5ECF6",
          "polar": {
           "angularaxis": {
            "gridcolor": "white",
            "linecolor": "white",
            "ticks": ""
           },
           "bgcolor": "#E5ECF6",
           "radialaxis": {
            "gridcolor": "white",
            "linecolor": "white",
            "ticks": ""
           }
          },
          "scene": {
           "xaxis": {
            "backgroundcolor": "#E5ECF6",
            "gridcolor": "white",
            "gridwidth": 2,
            "linecolor": "white",
            "showbackground": true,
            "ticks": "",
            "zerolinecolor": "white"
           },
           "yaxis": {
            "backgroundcolor": "#E5ECF6",
            "gridcolor": "white",
            "gridwidth": 2,
            "linecolor": "white",
            "showbackground": true,
            "ticks": "",
            "zerolinecolor": "white"
           },
           "zaxis": {
            "backgroundcolor": "#E5ECF6",
            "gridcolor": "white",
            "gridwidth": 2,
            "linecolor": "white",
            "showbackground": true,
            "ticks": "",
            "zerolinecolor": "white"
           }
          },
          "shapedefaults": {
           "line": {
            "color": "#2a3f5f"
           }
          },
          "ternary": {
           "aaxis": {
            "gridcolor": "white",
            "linecolor": "white",
            "ticks": ""
           },
           "baxis": {
            "gridcolor": "white",
            "linecolor": "white",
            "ticks": ""
           },
           "bgcolor": "#E5ECF6",
           "caxis": {
            "gridcolor": "white",
            "linecolor": "white",
            "ticks": ""
           }
          },
          "title": {
           "x": 0.05
          },
          "xaxis": {
           "automargin": true,
           "gridcolor": "white",
           "linecolor": "white",
           "ticks": "",
           "title": {
            "standoff": 15
           },
           "zerolinecolor": "white",
           "zerolinewidth": 2
          },
          "yaxis": {
           "automargin": true,
           "gridcolor": "white",
           "linecolor": "white",
           "ticks": "",
           "title": {
            "standoff": 15
           },
           "zerolinecolor": "white",
           "zerolinewidth": 2
          }
         }
        },
        "xaxis": {
         "anchor": "y",
         "domain": [
          0,
          0.6499999999999999
         ]
        },
        "xaxis2": {
         "anchor": "y2",
         "domain": [
          0,
          0.3
         ]
        },
        "xaxis3": {
         "anchor": "y3",
         "domain": [
          0.35,
          1
         ]
        },
        "yaxis": {
         "anchor": "x",
         "domain": [
          0.525,
          1
         ]
        },
        "yaxis2": {
         "anchor": "x2",
         "domain": [
          0,
          0.475
         ]
        },
        "yaxis3": {
         "anchor": "x3",
         "domain": [
          0,
          0.475
         ]
        }
       }
      }
     },
     "metadata": {}
    }
   ],
   "source": [
    "fig = make_subplots(\n",
    "    cols=3, rows=2,\n",
    "    specs=[[{'colspan':2}, None, {'type': 'pie'}], \n",
    "           [{}, {'colspan':2}, None], \n",
    "          ],\n",
    "    vertical_spacing=0.05,\n",
    "    horizontal_spacing=0.05\n",
    ")\n",
    "        \n",
    "\n",
    "fig.add_trace(\n",
    "    go.Scatter(\n",
    "        x=t.index,\n",
    "        y=t['percTbWon']\n",
    "    ),\n",
    "    row=1, col=1\n",
    ")\n",
    "\n",
    "fig.add_trace(\n",
    "    go.Pie(\n",
    "        labels = t1.index,\n",
    "        values=t1\n",
    "    ),\n",
    "    row=1, col=3\n",
    ")\n",
    "\n",
    "fig"
   ]
  },
  {
   "cell_type": "code",
   "execution_count": 50,
   "metadata": {},
   "outputs": [
    {
     "output_type": "stream",
     "text": [
      "\u001b[1;31mInit signature:\u001b[0m\n",
      "\u001b[0mgo\u001b[0m\u001b[1;33m.\u001b[0m\u001b[0mPie\u001b[0m\u001b[1;33m(\u001b[0m\u001b[1;33m\n",
      "\u001b[0m    \u001b[0marg\u001b[0m\u001b[1;33m=\u001b[0m\u001b[1;32mNone\u001b[0m\u001b[1;33m,\u001b[0m\u001b[1;33m\n",
      "\u001b[0m    \u001b[0mautomargin\u001b[0m\u001b[1;33m=\u001b[0m\u001b[1;32mNone\u001b[0m\u001b[1;33m,\u001b[0m\u001b[1;33m\n",
      "\u001b[0m    \u001b[0mcustomdata\u001b[0m\u001b[1;33m=\u001b[0m\u001b[1;32mNone\u001b[0m\u001b[1;33m,\u001b[0m\u001b[1;33m\n",
      "\u001b[0m    \u001b[0mcustomdatasrc\u001b[0m\u001b[1;33m=\u001b[0m\u001b[1;32mNone\u001b[0m\u001b[1;33m,\u001b[0m\u001b[1;33m\n",
      "\u001b[0m    \u001b[0mdirection\u001b[0m\u001b[1;33m=\u001b[0m\u001b[1;32mNone\u001b[0m\u001b[1;33m,\u001b[0m\u001b[1;33m\n",
      "\u001b[0m    \u001b[0mdlabel\u001b[0m\u001b[1;33m=\u001b[0m\u001b[1;32mNone\u001b[0m\u001b[1;33m,\u001b[0m\u001b[1;33m\n",
      "\u001b[0m    \u001b[0mdomain\u001b[0m\u001b[1;33m=\u001b[0m\u001b[1;32mNone\u001b[0m\u001b[1;33m,\u001b[0m\u001b[1;33m\n",
      "\u001b[0m    \u001b[0mhole\u001b[0m\u001b[1;33m=\u001b[0m\u001b[1;32mNone\u001b[0m\u001b[1;33m,\u001b[0m\u001b[1;33m\n",
      "\u001b[0m    \u001b[0mhoverinfo\u001b[0m\u001b[1;33m=\u001b[0m\u001b[1;32mNone\u001b[0m\u001b[1;33m,\u001b[0m\u001b[1;33m\n",
      "\u001b[0m    \u001b[0mhoverinfosrc\u001b[0m\u001b[1;33m=\u001b[0m\u001b[1;32mNone\u001b[0m\u001b[1;33m,\u001b[0m\u001b[1;33m\n",
      "\u001b[0m    \u001b[0mhoverlabel\u001b[0m\u001b[1;33m=\u001b[0m\u001b[1;32mNone\u001b[0m\u001b[1;33m,\u001b[0m\u001b[1;33m\n",
      "\u001b[0m    \u001b[0mhovertemplate\u001b[0m\u001b[1;33m=\u001b[0m\u001b[1;32mNone\u001b[0m\u001b[1;33m,\u001b[0m\u001b[1;33m\n",
      "\u001b[0m    \u001b[0mhovertemplatesrc\u001b[0m\u001b[1;33m=\u001b[0m\u001b[1;32mNone\u001b[0m\u001b[1;33m,\u001b[0m\u001b[1;33m\n",
      "\u001b[0m    \u001b[0mhovertext\u001b[0m\u001b[1;33m=\u001b[0m\u001b[1;32mNone\u001b[0m\u001b[1;33m,\u001b[0m\u001b[1;33m\n",
      "\u001b[0m    \u001b[0mhovertextsrc\u001b[0m\u001b[1;33m=\u001b[0m\u001b[1;32mNone\u001b[0m\u001b[1;33m,\u001b[0m\u001b[1;33m\n",
      "\u001b[0m    \u001b[0mids\u001b[0m\u001b[1;33m=\u001b[0m\u001b[1;32mNone\u001b[0m\u001b[1;33m,\u001b[0m\u001b[1;33m\n",
      "\u001b[0m    \u001b[0midssrc\u001b[0m\u001b[1;33m=\u001b[0m\u001b[1;32mNone\u001b[0m\u001b[1;33m,\u001b[0m\u001b[1;33m\n",
      "\u001b[0m    \u001b[0minsidetextfont\u001b[0m\u001b[1;33m=\u001b[0m\u001b[1;32mNone\u001b[0m\u001b[1;33m,\u001b[0m\u001b[1;33m\n",
      "\u001b[0m    \u001b[0minsidetextorientation\u001b[0m\u001b[1;33m=\u001b[0m\u001b[1;32mNone\u001b[0m\u001b[1;33m,\u001b[0m\u001b[1;33m\n",
      "\u001b[0m    \u001b[0mlabel0\u001b[0m\u001b[1;33m=\u001b[0m\u001b[1;32mNone\u001b[0m\u001b[1;33m,\u001b[0m\u001b[1;33m\n",
      "\u001b[0m    \u001b[0mlabels\u001b[0m\u001b[1;33m=\u001b[0m\u001b[1;32mNone\u001b[0m\u001b[1;33m,\u001b[0m\u001b[1;33m\n",
      "\u001b[0m    \u001b[0mlabelssrc\u001b[0m\u001b[1;33m=\u001b[0m\u001b[1;32mNone\u001b[0m\u001b[1;33m,\u001b[0m\u001b[1;33m\n",
      "\u001b[0m    \u001b[0mlegendgroup\u001b[0m\u001b[1;33m=\u001b[0m\u001b[1;32mNone\u001b[0m\u001b[1;33m,\u001b[0m\u001b[1;33m\n",
      "\u001b[0m    \u001b[0mmarker\u001b[0m\u001b[1;33m=\u001b[0m\u001b[1;32mNone\u001b[0m\u001b[1;33m,\u001b[0m\u001b[1;33m\n",
      "\u001b[0m    \u001b[0mmeta\u001b[0m\u001b[1;33m=\u001b[0m\u001b[1;32mNone\u001b[0m\u001b[1;33m,\u001b[0m\u001b[1;33m\n",
      "\u001b[0m    \u001b[0mmetasrc\u001b[0m\u001b[1;33m=\u001b[0m\u001b[1;32mNone\u001b[0m\u001b[1;33m,\u001b[0m\u001b[1;33m\n",
      "\u001b[0m    \u001b[0mname\u001b[0m\u001b[1;33m=\u001b[0m\u001b[1;32mNone\u001b[0m\u001b[1;33m,\u001b[0m\u001b[1;33m\n",
      "\u001b[0m    \u001b[0mopacity\u001b[0m\u001b[1;33m=\u001b[0m\u001b[1;32mNone\u001b[0m\u001b[1;33m,\u001b[0m\u001b[1;33m\n",
      "\u001b[0m    \u001b[0moutsidetextfont\u001b[0m\u001b[1;33m=\u001b[0m\u001b[1;32mNone\u001b[0m\u001b[1;33m,\u001b[0m\u001b[1;33m\n",
      "\u001b[0m    \u001b[0mpull\u001b[0m\u001b[1;33m=\u001b[0m\u001b[1;32mNone\u001b[0m\u001b[1;33m,\u001b[0m\u001b[1;33m\n",
      "\u001b[0m    \u001b[0mpullsrc\u001b[0m\u001b[1;33m=\u001b[0m\u001b[1;32mNone\u001b[0m\u001b[1;33m,\u001b[0m\u001b[1;33m\n",
      "\u001b[0m    \u001b[0mrotation\u001b[0m\u001b[1;33m=\u001b[0m\u001b[1;32mNone\u001b[0m\u001b[1;33m,\u001b[0m\u001b[1;33m\n",
      "\u001b[0m    \u001b[0mscalegroup\u001b[0m\u001b[1;33m=\u001b[0m\u001b[1;32mNone\u001b[0m\u001b[1;33m,\u001b[0m\u001b[1;33m\n",
      "\u001b[0m    \u001b[0mshowlegend\u001b[0m\u001b[1;33m=\u001b[0m\u001b[1;32mNone\u001b[0m\u001b[1;33m,\u001b[0m\u001b[1;33m\n",
      "\u001b[0m    \u001b[0msort\u001b[0m\u001b[1;33m=\u001b[0m\u001b[1;32mNone\u001b[0m\u001b[1;33m,\u001b[0m\u001b[1;33m\n",
      "\u001b[0m    \u001b[0mstream\u001b[0m\u001b[1;33m=\u001b[0m\u001b[1;32mNone\u001b[0m\u001b[1;33m,\u001b[0m\u001b[1;33m\n",
      "\u001b[0m    \u001b[0mtext\u001b[0m\u001b[1;33m=\u001b[0m\u001b[1;32mNone\u001b[0m\u001b[1;33m,\u001b[0m\u001b[1;33m\n",
      "\u001b[0m    \u001b[0mtextfont\u001b[0m\u001b[1;33m=\u001b[0m\u001b[1;32mNone\u001b[0m\u001b[1;33m,\u001b[0m\u001b[1;33m\n",
      "\u001b[0m    \u001b[0mtextinfo\u001b[0m\u001b[1;33m=\u001b[0m\u001b[1;32mNone\u001b[0m\u001b[1;33m,\u001b[0m\u001b[1;33m\n",
      "\u001b[0m    \u001b[0mtextposition\u001b[0m\u001b[1;33m=\u001b[0m\u001b[1;32mNone\u001b[0m\u001b[1;33m,\u001b[0m\u001b[1;33m\n",
      "\u001b[0m    \u001b[0mtextpositionsrc\u001b[0m\u001b[1;33m=\u001b[0m\u001b[1;32mNone\u001b[0m\u001b[1;33m,\u001b[0m\u001b[1;33m\n",
      "\u001b[0m    \u001b[0mtextsrc\u001b[0m\u001b[1;33m=\u001b[0m\u001b[1;32mNone\u001b[0m\u001b[1;33m,\u001b[0m\u001b[1;33m\n",
      "\u001b[0m    \u001b[0mtexttemplate\u001b[0m\u001b[1;33m=\u001b[0m\u001b[1;32mNone\u001b[0m\u001b[1;33m,\u001b[0m\u001b[1;33m\n",
      "\u001b[0m    \u001b[0mtexttemplatesrc\u001b[0m\u001b[1;33m=\u001b[0m\u001b[1;32mNone\u001b[0m\u001b[1;33m,\u001b[0m\u001b[1;33m\n",
      "\u001b[0m    \u001b[0mtitle\u001b[0m\u001b[1;33m=\u001b[0m\u001b[1;32mNone\u001b[0m\u001b[1;33m,\u001b[0m\u001b[1;33m\n",
      "\u001b[0m    \u001b[0mtitlefont\u001b[0m\u001b[1;33m=\u001b[0m\u001b[1;32mNone\u001b[0m\u001b[1;33m,\u001b[0m\u001b[1;33m\n",
      "\u001b[0m    \u001b[0mtitleposition\u001b[0m\u001b[1;33m=\u001b[0m\u001b[1;32mNone\u001b[0m\u001b[1;33m,\u001b[0m\u001b[1;33m\n",
      "\u001b[0m    \u001b[0muid\u001b[0m\u001b[1;33m=\u001b[0m\u001b[1;32mNone\u001b[0m\u001b[1;33m,\u001b[0m\u001b[1;33m\n",
      "\u001b[0m    \u001b[0muirevision\u001b[0m\u001b[1;33m=\u001b[0m\u001b[1;32mNone\u001b[0m\u001b[1;33m,\u001b[0m\u001b[1;33m\n",
      "\u001b[0m    \u001b[0mvalues\u001b[0m\u001b[1;33m=\u001b[0m\u001b[1;32mNone\u001b[0m\u001b[1;33m,\u001b[0m\u001b[1;33m\n",
      "\u001b[0m    \u001b[0mvaluessrc\u001b[0m\u001b[1;33m=\u001b[0m\u001b[1;32mNone\u001b[0m\u001b[1;33m,\u001b[0m\u001b[1;33m\n",
      "\u001b[0m    \u001b[0mvisible\u001b[0m\u001b[1;33m=\u001b[0m\u001b[1;32mNone\u001b[0m\u001b[1;33m,\u001b[0m\u001b[1;33m\n",
      "\u001b[0m    \u001b[1;33m**\u001b[0m\u001b[0mkwargs\u001b[0m\u001b[1;33m,\u001b[0m\u001b[1;33m\n",
      "\u001b[0m\u001b[1;33m)\u001b[0m\u001b[1;33m\u001b[0m\u001b[1;33m\u001b[0m\u001b[0m\n",
      "\u001b[1;31mDocstring:\u001b[0m     \n",
      "Base class for the all trace types.\n",
      "\n",
      "Specific trace type classes (Scatter, Bar, etc.) are code generated as\n",
      "subclasses of this class.\n",
      "\u001b[1;31mInit docstring:\u001b[0m\n",
      "Construct a new Pie object\n",
      "\n",
      "A data visualized by the sectors of the pie is set in `values`.\n",
      "The sector labels are set in `labels`. The sector colors are\n",
      "set in `marker.colors`\n",
      "\n",
      "Parameters\n",
      "----------\n",
      "arg\n",
      "    dict of properties compatible with this constructor or\n",
      "    an instance of :class:`plotly.graph_objs.Pie`\n",
      "automargin\n",
      "    Determines whether outside text labels can push the\n",
      "    margins.\n",
      "customdata\n",
      "    Assigns extra data each datum. This may be useful when\n",
      "    listening to hover, click and selection events. Note\n",
      "    that, \"scatter\" traces also appends customdata items in\n",
      "    the markers DOM elements\n",
      "customdatasrc\n",
      "    Sets the source reference on Chart Studio Cloud for\n",
      "    customdata .\n",
      "direction\n",
      "    Specifies the direction at which succeeding sectors\n",
      "    follow one another.\n",
      "dlabel\n",
      "    Sets the label step. See `label0` for more info.\n",
      "domain\n",
      "    :class:`plotly.graph_objects.pie.Domain` instance or\n",
      "    dict with compatible properties\n",
      "hole\n",
      "    Sets the fraction of the radius to cut out of the pie.\n",
      "    Use this to make a donut chart.\n",
      "hoverinfo\n",
      "    Determines which trace information appear on hover. If\n",
      "    `none` or `skip` are set, no information is displayed\n",
      "    upon hovering. But, if `none` is set, click and hover\n",
      "    events are still fired.\n",
      "hoverinfosrc\n",
      "    Sets the source reference on Chart Studio Cloud for\n",
      "    hoverinfo .\n",
      "hoverlabel\n",
      "    :class:`plotly.graph_objects.pie.Hoverlabel` instance\n",
      "    or dict with compatible properties\n",
      "hovertemplate\n",
      "    Template string used for rendering the information that\n",
      "    appear on hover box. Note that this will override\n",
      "    `hoverinfo`. Variables are inserted using %{variable},\n",
      "    for example \"y: %{y}\". Numbers are formatted using\n",
      "    d3-format's syntax %{variable:d3-format}, for example\n",
      "    \"Price: %{y:$.2f}\". https://github.com/d3/d3-3.x-api-\n",
      "    reference/blob/master/Formatting.md#d3_format for\n",
      "    details on the formatting syntax. Dates are formatted\n",
      "    using d3-time-format's syntax %{variable|d3-time-\n",
      "    format}, for example \"Day: %{2019-01-01|%A}\".\n",
      "    https://github.com/d3/d3-time-format#locale_format for\n",
      "    details on the date formatting syntax. The variables\n",
      "    available in `hovertemplate` are the ones emitted as\n",
      "    event data described at this link\n",
      "    https://plotly.com/javascript/plotlyjs-events/#event-\n",
      "    data. Additionally, every attributes that can be\n",
      "    specified per-point (the ones that are `arrayOk: true`)\n",
      "    are available. variables `label`, `color`, `value`,\n",
      "    `percent` and `text`. Anything contained in tag\n",
      "    `<extra>` is displayed in the secondary box, for\n",
      "    example \"<extra>{fullData.name}</extra>\". To hide the\n",
      "    secondary box completely, use an empty tag\n",
      "    `<extra></extra>`.\n",
      "hovertemplatesrc\n",
      "    Sets the source reference on Chart Studio Cloud for\n",
      "    hovertemplate .\n",
      "hovertext\n",
      "    Sets hover text elements associated with each sector.\n",
      "    If a single string, the same string appears for all\n",
      "    data points. If an array of string, the items are\n",
      "    mapped in order of this trace's sectors. To be seen,\n",
      "    trace `hoverinfo` must contain a \"text\" flag.\n",
      "hovertextsrc\n",
      "    Sets the source reference on Chart Studio Cloud for\n",
      "    hovertext .\n",
      "ids\n",
      "    Assigns id labels to each datum. These ids for object\n",
      "    constancy of data points during animation. Should be an\n",
      "    array of strings, not numbers or any other type.\n",
      "idssrc\n",
      "    Sets the source reference on Chart Studio Cloud for\n",
      "    ids .\n",
      "insidetextfont\n",
      "    Sets the font used for `textinfo` lying inside the\n",
      "    sector.\n",
      "insidetextorientation\n",
      "    Controls the orientation of the text inside chart\n",
      "    sectors. When set to \"auto\", text may be oriented in\n",
      "    any direction in order to be as big as possible in the\n",
      "    middle of a sector. The \"horizontal\" option orients\n",
      "    text to be parallel with the bottom of the chart, and\n",
      "    may make text smaller in order to achieve that goal.\n",
      "    The \"radial\" option orients text along the radius of\n",
      "    the sector. The \"tangential\" option orients text\n",
      "    perpendicular to the radius of the sector.\n",
      "label0\n",
      "    Alternate to `labels`. Builds a numeric set of labels.\n",
      "    Use with `dlabel` where `label0` is the starting label\n",
      "    and `dlabel` the step.\n",
      "labels\n",
      "    Sets the sector labels. If `labels` entries are\n",
      "    duplicated, we sum associated `values` or simply count\n",
      "    occurrences if `values` is not provided. For other\n",
      "    array attributes (including color) we use the first\n",
      "    non-empty entry among all occurrences of the label.\n",
      "labelssrc\n",
      "    Sets the source reference on Chart Studio Cloud for\n",
      "    labels .\n",
      "legendgroup\n",
      "    Sets the legend group for this trace. Traces part of\n",
      "    the same legend group hide/show at the same time when\n",
      "    toggling legend items.\n",
      "marker\n",
      "    :class:`plotly.graph_objects.pie.Marker` instance or\n",
      "    dict with compatible properties\n",
      "meta\n",
      "    Assigns extra meta information associated with this\n",
      "    trace that can be used in various text attributes.\n",
      "    Attributes such as trace `name`, graph, axis and\n",
      "    colorbar `title.text`, annotation `text`\n",
      "    `rangeselector`, `updatemenues` and `sliders` `label`\n",
      "    text all support `meta`. To access the trace `meta`\n",
      "    values in an attribute in the same trace, simply use\n",
      "    `%{meta[i]}` where `i` is the index or key of the\n",
      "    `meta` item in question. To access trace `meta` in\n",
      "    layout attributes, use `%{data[n[.meta[i]}` where `i`\n",
      "    is the index or key of the `meta` and `n` is the trace\n",
      "    index.\n",
      "metasrc\n",
      "    Sets the source reference on Chart Studio Cloud for\n",
      "    meta .\n",
      "name\n",
      "    Sets the trace name. The trace name appear as the\n",
      "    legend item and on hover.\n",
      "opacity\n",
      "    Sets the opacity of the trace.\n",
      "outsidetextfont\n",
      "    Sets the font used for `textinfo` lying outside the\n",
      "    sector.\n",
      "pull\n",
      "    Sets the fraction of larger radius to pull the sectors\n",
      "    out from the center. This can be a constant to pull all\n",
      "    slices apart from each other equally or an array to\n",
      "    highlight one or more slices.\n",
      "pullsrc\n",
      "    Sets the source reference on Chart Studio Cloud for\n",
      "    pull .\n",
      "rotation\n",
      "    Instead of the first slice starting at 12 o'clock,\n",
      "    rotate to some other angle.\n",
      "scalegroup\n",
      "    If there are multiple pie charts that should be sized\n",
      "    according to their totals, link them by providing a\n",
      "    non-empty group id here shared by every trace in the\n",
      "    same group.\n",
      "showlegend\n",
      "    Determines whether or not an item corresponding to this\n",
      "    trace is shown in the legend.\n",
      "sort\n",
      "    Determines whether or not the sectors are reordered\n",
      "    from largest to smallest.\n",
      "stream\n",
      "    :class:`plotly.graph_objects.pie.Stream` instance or\n",
      "    dict with compatible properties\n",
      "text\n",
      "    Sets text elements associated with each sector. If\n",
      "    trace `textinfo` contains a \"text\" flag, these elements\n",
      "    will be seen on the chart. If trace `hoverinfo`\n",
      "    contains a \"text\" flag and \"hovertext\" is not set,\n",
      "    these elements will be seen in the hover labels.\n",
      "textfont\n",
      "    Sets the font used for `textinfo`.\n",
      "textinfo\n",
      "    Determines which trace information appear on the graph.\n",
      "textposition\n",
      "    Specifies the location of the `textinfo`.\n",
      "textpositionsrc\n",
      "    Sets the source reference on Chart Studio Cloud for\n",
      "    textposition .\n",
      "textsrc\n",
      "    Sets the source reference on Chart Studio Cloud for\n",
      "    text .\n",
      "texttemplate\n",
      "    Template string used for rendering the information text\n",
      "    that appear on points. Note that this will override\n",
      "    `textinfo`. Variables are inserted using %{variable},\n",
      "    for example \"y: %{y}\". Numbers are formatted using\n",
      "    d3-format's syntax %{variable:d3-format}, for example\n",
      "    \"Price: %{y:$.2f}\". https://github.com/d3/d3-3.x-api-\n",
      "    reference/blob/master/Formatting.md#d3_format for\n",
      "    details on the formatting syntax. Dates are formatted\n",
      "    using d3-time-format's syntax %{variable|d3-time-\n",
      "    format}, for example \"Day: %{2019-01-01|%A}\".\n",
      "    https://github.com/d3/d3-time-format#locale_format for\n",
      "    details on the date formatting syntax. Every attributes\n",
      "    that can be specified per-point (the ones that are\n",
      "    `arrayOk: true`) are available. variables `label`,\n",
      "    `color`, `value`, `percent` and `text`.\n",
      "texttemplatesrc\n",
      "    Sets the source reference on Chart Studio Cloud for\n",
      "    texttemplate .\n",
      "title\n",
      "    :class:`plotly.graph_objects.pie.Title` instance or\n",
      "    dict with compatible properties\n",
      "titlefont\n",
      "    Deprecated: Please use pie.title.font instead. Sets the\n",
      "    font used for `title`. Note that the title's font used\n",
      "    to be set by the now deprecated `titlefont` attribute.\n",
      "titleposition\n",
      "    Deprecated: Please use pie.title.position instead.\n",
      "    Specifies the location of the `title`. Note that the\n",
      "    title's position used to be set by the now deprecated\n",
      "    `titleposition` attribute.\n",
      "uid\n",
      "    Assign an id to this trace, Use this to provide object\n",
      "    constancy between traces during animations and\n",
      "    transitions.\n",
      "uirevision\n",
      "    Controls persistence of some user-driven changes to the\n",
      "    trace: `constraintrange` in `parcoords` traces, as well\n",
      "    as some `editable: true` modifications such as `name`\n",
      "    and `colorbar.title`. Defaults to `layout.uirevision`.\n",
      "    Note that other user-driven trace attribute changes are\n",
      "    controlled by `layout` attributes: `trace.visible` is\n",
      "    controlled by `layout.legend.uirevision`,\n",
      "    `selectedpoints` is controlled by\n",
      "    `layout.selectionrevision`, and `colorbar.(x|y)`\n",
      "    (accessible with `config: {editable: true}`) is\n",
      "    controlled by `layout.editrevision`. Trace changes are\n",
      "    tracked by `uid`, which only falls back on trace index\n",
      "    if no `uid` is provided. So if your app can add/remove\n",
      "    traces before the end of the `data` array, such that\n",
      "    the same trace has a different index, you can still\n",
      "    preserve user-driven changes if you give each trace a\n",
      "    `uid` that stays with it as it moves.\n",
      "values\n",
      "    Sets the values of the sectors. If omitted, we count\n",
      "    occurrences of each label.\n",
      "valuessrc\n",
      "    Sets the source reference on Chart Studio Cloud for\n",
      "    values .\n",
      "visible\n",
      "    Determines whether or not this trace is visible. If\n",
      "    \"legendonly\", the trace is not drawn, but can appear as\n",
      "    a legend item (provided that the legend itself is\n",
      "    visible).\n",
      "\n",
      "Returns\n",
      "-------\n",
      "Pie\n",
      "\u001b[1;31mFile:\u001b[0m           c:\\users\\fbruz\\anaconda3\\lib\\site-packages\\plotly\\graph_objs\\_pie.py\n",
      "\u001b[1;31mType:\u001b[0m           type\n",
      "\u001b[1;31mSubclasses:\u001b[0m     \n"
     ],
     "name": "stdout"
    }
   ],
   "source": [
    "?go.Pie"
   ]
  },
  {
   "cell_type": "code",
   "execution_count": null,
   "metadata": {},
   "outputs": [],
   "source": []
  }
 ]
}