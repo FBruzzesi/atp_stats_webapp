{
 "metadata": {
  "language_info": {
   "codemirror_mode": {
    "name": "ipython",
    "version": 3
   },
   "file_extension": ".py",
   "mimetype": "text/x-python",
   "name": "python",
   "nbconvert_exporter": "python",
   "pygments_lexer": "ipython3",
   "version": "3.8.5-final"
  },
  "orig_nbformat": 2,
  "kernelspec": {
   "name": "python3",
   "display_name": "Python 3",
   "language": "python"
  }
 },
 "nbformat": 4,
 "nbformat_minor": 2,
 "cells": [
  {
   "cell_type": "code",
   "execution_count": 23,
   "metadata": {},
   "outputs": [
    {
     "output_type": "error",
     "ename": "ModuleNotFoundError",
     "evalue": "No module named 'tennis_utils.scrapers'",
     "traceback": [
      "\u001b[0;31m---------------------------------------------------------------------------\u001b[0m",
      "\u001b[0;31mModuleNotFoundError\u001b[0m                       Traceback (most recent call last)",
      "\u001b[0;32m<ipython-input-23-3a7ce3446897>\u001b[0m in \u001b[0;36m<module>\u001b[0;34m\u001b[0m\n\u001b[1;32m     16\u001b[0m \u001b[0;34m\u001b[0m\u001b[0m\n\u001b[1;32m     17\u001b[0m \u001b[0;32mfrom\u001b[0m \u001b[0mtennis_utils\u001b[0m\u001b[0;34m.\u001b[0m\u001b[0mplayer\u001b[0m \u001b[0;32mimport\u001b[0m \u001b[0mTennisDataLoader\u001b[0m\u001b[0;34m,\u001b[0m \u001b[0mTennisPlayerDataLoader\u001b[0m\u001b[0;34m,\u001b[0m \u001b[0mTennisPlayer\u001b[0m\u001b[0;34m,\u001b[0m \u001b[0mTennisPlayerRenderer\u001b[0m\u001b[0;34m\u001b[0m\u001b[0;34m\u001b[0m\u001b[0m\n\u001b[0;32m---> 18\u001b[0;31m \u001b[0;32mfrom\u001b[0m \u001b[0mtennis_utils\u001b[0m\u001b[0;34m.\u001b[0m\u001b[0mscrapers\u001b[0m \u001b[0;32mimport\u001b[0m \u001b[0mSackmanScraper\u001b[0m\u001b[0;34m\u001b[0m\u001b[0;34m\u001b[0m\u001b[0m\n\u001b[0m\u001b[1;32m     19\u001b[0m \u001b[0;34m\u001b[0m\u001b[0m\n\u001b[1;32m     20\u001b[0m \u001b[0;34m\u001b[0m\u001b[0m\n",
      "\u001b[0;31mModuleNotFoundError\u001b[0m: No module named 'tennis_utils.scrapers'"
     ]
    }
   ],
   "source": [
    "%load_ext autoreload\n",
    "%autoreload 2\n",
    "\n",
    "import pandas as pd\n",
    "import numpy as np\n",
    "\n",
    "pd.set_option('plotting.backend', 'plotly')\n",
    "from datetime import date, datetime as dt\n",
    "import os, re\n",
    "import plotly.colors\n",
    "import plotly.graph_objects as go, plotly.express as px, plotly.figure_factory as ff\n",
    "from plotly.offline import init_notebook_mode\n",
    "from plotly.subplots import make_subplots\n",
    "\n",
    "from statsmodels.stats.proportion import proportion_confint\n",
    "\n",
    "from tennis_utils.player import TennisDataLoader, TennisPlayerDataLoader, TennisPlayer, TennisPlayerRenderer\n",
    "from tennis_utils.scrapers import SackmanScraper\n",
    "\n",
    "\n",
    "def get_player_name(name):\n",
    "\n",
    "    return '. '.join(['.'.join([e[0] for e in name.split(' ')[:-1]]), name.split(' ')[-1]])\n"
   ]
  },
  {
   "cell_type": "code",
   "execution_count": null,
   "metadata": {},
   "outputs": [],
   "source": [
    "\n",
    "player_name = 'Roger Federer'\n",
    "data_path = os.getcwd()+'/data'\n",
    "\n",
    "tdl = TennisDataLoader(data_path+'/matches.parquet', data_path+'/players.parquet')\n",
    "matches_df, players_df = tdl.matches, tdl.players\n",
    "\n",
    "tpdl = TennisPlayerDataLoader(player_name, matches_df, players_df)\n",
    "\n",
    "# Subset selected player matches data\n",
    "player_matches = tpdl.player_matches #matches_df[matches_df['player_name'] == player_name]\n",
    "player_details = tpdl.player_details #players_df[players_df['player_name']==player_name]\n",
    "player_rank = tpdl.player_rank\n",
    "\n",
    "tp = TennisPlayerRenderer(player_name=player_name, \n",
    "                          player_matches=player_matches, \n",
    "                          player_rank=player_rank, \n",
    "                          player_details=player_details)\n"
   ]
  },
  {
   "cell_type": "code",
   "execution_count": 38,
   "metadata": {},
   "outputs": [],
   "source": [
    "import yaml# import load, Loader, dump, Dumper\n",
    "\n",
    "with open(os.getcwd() + '/config.yaml') as file:\n",
    "    # The FullLoader parameter handles the conversion from YAML\n",
    "    # scalar values to Python the dictionary format\n",
    "    data = yaml.load(file, Loader=yaml.Loader)\n",
    "\n",
    "details_mapping = data['details_mapping']"
   ]
  },
  {
   "cell_type": "code",
   "execution_count": 3,
   "metadata": {},
   "outputs": [
    {
     "output_type": "execute_result",
     "data": {
      "text/plain": [
       "'\\nhttps://en.wikipedia.org/wiki/Binomial_proportion_confidence_interval\\nhttps://www.statsmodels.org/dev/generated/statsmodels.stats.proportion.proportion_confint.html\\nhttps://www.ucl.ac.uk/english-usage/staff/sean/resources/binomialpoisson.pdf\\n'"
      ]
     },
     "metadata": {},
     "execution_count": 3
    }
   ],
   "source": [
    "\"\"\"\n",
    "https://en.wikipedia.org/wiki/Binomial_proportion_confidence_interval\n",
    "https://www.statsmodels.org/dev/generated/statsmodels.stats.proportion.proportion_confint.html\n",
    "https://www.ucl.ac.uk/english-usage/staff/sean/resources/binomialpoisson.pdf\n",
    "\"\"\""
   ]
  },
  {
   "cell_type": "code",
   "execution_count": null,
   "metadata": {},
   "outputs": [],
   "source": []
  }
 ]
}