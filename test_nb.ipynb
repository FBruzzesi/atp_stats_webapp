{
 "metadata": {
  "language_info": {
   "codemirror_mode": {
    "name": "ipython",
    "version": 3
   },
   "file_extension": ".py",
   "mimetype": "text/x-python",
   "name": "python",
   "nbconvert_exporter": "python",
   "pygments_lexer": "ipython3",
   "version": "3.8.5-final"
  },
  "orig_nbformat": 2,
  "kernelspec": {
   "name": "python3",
   "display_name": "Python 3",
   "language": "python"
  }
 },
 "nbformat": 4,
 "nbformat_minor": 2,
 "cells": [
  {
   "cell_type": "code",
   "execution_count": 1,
   "metadata": {},
   "outputs": [],
   "source": [
    "%load_ext autoreload\n",
    "%autoreload 2\n",
    "\n",
    "import pandas as pd\n",
    "import numpy as np\n",
    "\n",
    "pd.set_option('plotting.backend', 'plotly')\n",
    "from datetime import date, datetime as dt\n",
    "import os, re\n",
    "import plotly.colors\n",
    "import plotly.graph_objects as go, plotly.express as px, plotly.figure_factory as ff\n",
    "from plotly.offline import init_notebook_mode\n",
    "from plotly.subplots import make_subplots\n",
    "\n",
    "from statsmodels.stats.proportion import proportion_confint\n",
    "\n",
    "from tennis_utils.player import TennisDataLoader, TennisPlayerDataLoader, TennisPlayer, TennisPlayerRenderer\n",
    "\n",
    "def get_player_name(name):\n",
    "\n",
    "    return '. '.join(['.'.join([e[0] for e in name.split(' ')[:-1]]), name.split(' ')[-1]])\n"
   ]
  },
  {
   "cell_type": "code",
   "execution_count": 8,
   "metadata": {},
   "outputs": [
    {
     "output_type": "stream",
     "name": "stdout",
     "text": [
      "106043\n"
     ]
    }
   ],
   "source": [
    "\n",
    "player_name = 'Diego Sebastian Schwartzman'\n",
    "data_path = os.getcwd()+'/data'\n",
    "\n",
    "tdl = TennisDataLoader(data_path)\n",
    "matches_df, players_df = tdl.matches, tdl.players\n",
    "\n",
    "tpdl = TennisPlayerDataLoader(player_name, matches_df, players_df)\n",
    "\n",
    "# # Subset selected player matches data\n",
    "player_matches = tpdl.player_matches #matches_df[matches_df['player_name'] == player_name]\n",
    "player_details = tpdl.player_details #players_df[players_df['player_name']==player_name]\n",
    "# player_rank = tpdl.player_rank\n",
    "\n",
    "# tp = TennisPlayerRenderer(player_name=player_name, \n",
    "#                           player_matches=player_matches, \n",
    "#                           player_rank=player_rank, \n",
    "#                           player_details=player_details)\n"
   ]
  },
  {
   "cell_type": "code",
   "execution_count": 12,
   "metadata": {},
   "outputs": [
    {
     "output_type": "execute_result",
     "data": {
      "text/plain": [
       "       tourney_id      tourney_name surface draw_size tourney_level  \\\n",
       "105514  2010-6208  Buenos Aires2 CH    Clay        32             C   \n",
       "108676  2011-2121          Manta CH    Hard        32             C   \n",
       "111118  2011-3406       Santiago CH    Clay        32             C   \n",
       "112197  2011-3627           Todi CH    Clay        32             C   \n",
       "112216  2011-3627           Todi CH    Clay        32             C   \n",
       "...           ...               ...     ...       ...           ...   \n",
       "300832   2021-580   Australian Open    Hard       128             G   \n",
       "301443  2021-8888           Atp Cup    Hard        12             A   \n",
       "301450  2021-8888           Atp Cup    Hard        12             A   \n",
       "301705  2021-9158           Cordoba    Clay        32             A   \n",
       "301712  2021-9158           Cordoba    Clay        32             A   \n",
       "\n",
       "       tourney_date  match_num      id seed entry  ... perc_returnWon  \\\n",
       "105514   2010-11-22         14  106043  nan    WC  ...       0.426966   \n",
       "108676   2011-07-18          3  106043  nan   nan  ...       0.388235   \n",
       "111118   2011-03-07         13  106043  nan     Q  ...       0.439394   \n",
       "112197   2011-09-12         13  106043  nan   nan  ...       0.573770   \n",
       "112216   2011-09-12         23  106043  nan   nan  ...       0.428571   \n",
       "...             ...        ...     ...  ...   ...  ...            ...   \n",
       "300832   2021-02-08        203  106043  8.0   nan  ...       0.311111   \n",
       "301443   2021-02-02        272  106043  nan   nan  ...       0.518987   \n",
       "301450   2021-02-02        276  106043  nan   nan  ...       0.406250   \n",
       "301705   2021-02-22        293  106043  1.0   nan  ...       0.583333   \n",
       "301712   2021-02-22        297  106043  1.0   nan  ...       0.373494   \n",
       "\n",
       "       perc_servePointsWon  tbPlayed tbWon  decidingSetPlayed  winner  result  \\\n",
       "105514            0.540541         0     0                  1       0    Lost   \n",
       "108676            0.557895         0     0                  1       0    Lost   \n",
       "111118            0.454545         0     0                  0       0    Lost   \n",
       "112197            0.600000         0     0                  0       1     Won   \n",
       "112216            0.564356         2     1                  1       0    Lost   \n",
       "...                    ...       ...   ...                ...     ...     ...   \n",
       "300832            0.546875         0     0                  0       0    Lost   \n",
       "301443            0.620000         1     0                  1       1     Won   \n",
       "301450            0.500000         0     0                  0       0    Lost   \n",
       "301705            0.633333         0     0                  0       1     Won   \n",
       "301712            0.551020         0     0                  1       0    Lost   \n",
       "\n",
       "        year decidingSetWon  secondIn  \n",
       "105514  2010            0.0        30  \n",
       "108676  2011            0.0        33  \n",
       "111118  2011            NaN        17  \n",
       "112197  2011            NaN        30  \n",
       "112216  2011            0.0        42  \n",
       "...      ...            ...       ...  \n",
       "300832  2021            NaN        15  \n",
       "301443  2021            1.0        32  \n",
       "301450  2021            NaN        29  \n",
       "301705  2021            NaN        22  \n",
       "301712  2021            0.0        29  \n",
       "\n",
       "[555 rows x 56 columns]"
      ],
      "text/html": "<div>\n<style scoped>\n    .dataframe tbody tr th:only-of-type {\n        vertical-align: middle;\n    }\n\n    .dataframe tbody tr th {\n        vertical-align: top;\n    }\n\n    .dataframe thead th {\n        text-align: right;\n    }\n</style>\n<table border=\"1\" class=\"dataframe\">\n  <thead>\n    <tr style=\"text-align: right;\">\n      <th></th>\n      <th>tourney_id</th>\n      <th>tourney_name</th>\n      <th>surface</th>\n      <th>draw_size</th>\n      <th>tourney_level</th>\n      <th>tourney_date</th>\n      <th>match_num</th>\n      <th>id</th>\n      <th>seed</th>\n      <th>entry</th>\n      <th>...</th>\n      <th>perc_returnWon</th>\n      <th>perc_servePointsWon</th>\n      <th>tbPlayed</th>\n      <th>tbWon</th>\n      <th>decidingSetPlayed</th>\n      <th>winner</th>\n      <th>result</th>\n      <th>year</th>\n      <th>decidingSetWon</th>\n      <th>secondIn</th>\n    </tr>\n  </thead>\n  <tbody>\n    <tr>\n      <th>105514</th>\n      <td>2010-6208</td>\n      <td>Buenos Aires2 CH</td>\n      <td>Clay</td>\n      <td>32</td>\n      <td>C</td>\n      <td>2010-11-22</td>\n      <td>14</td>\n      <td>106043</td>\n      <td>nan</td>\n      <td>WC</td>\n      <td>...</td>\n      <td>0.426966</td>\n      <td>0.540541</td>\n      <td>0</td>\n      <td>0</td>\n      <td>1</td>\n      <td>0</td>\n      <td>Lost</td>\n      <td>2010</td>\n      <td>0.0</td>\n      <td>30</td>\n    </tr>\n    <tr>\n      <th>108676</th>\n      <td>2011-2121</td>\n      <td>Manta CH</td>\n      <td>Hard</td>\n      <td>32</td>\n      <td>C</td>\n      <td>2011-07-18</td>\n      <td>3</td>\n      <td>106043</td>\n      <td>nan</td>\n      <td>nan</td>\n      <td>...</td>\n      <td>0.388235</td>\n      <td>0.557895</td>\n      <td>0</td>\n      <td>0</td>\n      <td>1</td>\n      <td>0</td>\n      <td>Lost</td>\n      <td>2011</td>\n      <td>0.0</td>\n      <td>33</td>\n    </tr>\n    <tr>\n      <th>111118</th>\n      <td>2011-3406</td>\n      <td>Santiago CH</td>\n      <td>Clay</td>\n      <td>32</td>\n      <td>C</td>\n      <td>2011-03-07</td>\n      <td>13</td>\n      <td>106043</td>\n      <td>nan</td>\n      <td>Q</td>\n      <td>...</td>\n      <td>0.439394</td>\n      <td>0.454545</td>\n      <td>0</td>\n      <td>0</td>\n      <td>0</td>\n      <td>0</td>\n      <td>Lost</td>\n      <td>2011</td>\n      <td>NaN</td>\n      <td>17</td>\n    </tr>\n    <tr>\n      <th>112197</th>\n      <td>2011-3627</td>\n      <td>Todi CH</td>\n      <td>Clay</td>\n      <td>32</td>\n      <td>C</td>\n      <td>2011-09-12</td>\n      <td>13</td>\n      <td>106043</td>\n      <td>nan</td>\n      <td>nan</td>\n      <td>...</td>\n      <td>0.573770</td>\n      <td>0.600000</td>\n      <td>0</td>\n      <td>0</td>\n      <td>0</td>\n      <td>1</td>\n      <td>Won</td>\n      <td>2011</td>\n      <td>NaN</td>\n      <td>30</td>\n    </tr>\n    <tr>\n      <th>112216</th>\n      <td>2011-3627</td>\n      <td>Todi CH</td>\n      <td>Clay</td>\n      <td>32</td>\n      <td>C</td>\n      <td>2011-09-12</td>\n      <td>23</td>\n      <td>106043</td>\n      <td>nan</td>\n      <td>nan</td>\n      <td>...</td>\n      <td>0.428571</td>\n      <td>0.564356</td>\n      <td>2</td>\n      <td>1</td>\n      <td>1</td>\n      <td>0</td>\n      <td>Lost</td>\n      <td>2011</td>\n      <td>0.0</td>\n      <td>42</td>\n    </tr>\n    <tr>\n      <th>...</th>\n      <td>...</td>\n      <td>...</td>\n      <td>...</td>\n      <td>...</td>\n      <td>...</td>\n      <td>...</td>\n      <td>...</td>\n      <td>...</td>\n      <td>...</td>\n      <td>...</td>\n      <td>...</td>\n      <td>...</td>\n      <td>...</td>\n      <td>...</td>\n      <td>...</td>\n      <td>...</td>\n      <td>...</td>\n      <td>...</td>\n      <td>...</td>\n      <td>...</td>\n      <td>...</td>\n    </tr>\n    <tr>\n      <th>300832</th>\n      <td>2021-580</td>\n      <td>Australian Open</td>\n      <td>Hard</td>\n      <td>128</td>\n      <td>G</td>\n      <td>2021-02-08</td>\n      <td>203</td>\n      <td>106043</td>\n      <td>8.0</td>\n      <td>nan</td>\n      <td>...</td>\n      <td>0.311111</td>\n      <td>0.546875</td>\n      <td>0</td>\n      <td>0</td>\n      <td>0</td>\n      <td>0</td>\n      <td>Lost</td>\n      <td>2021</td>\n      <td>NaN</td>\n      <td>15</td>\n    </tr>\n    <tr>\n      <th>301443</th>\n      <td>2021-8888</td>\n      <td>Atp Cup</td>\n      <td>Hard</td>\n      <td>12</td>\n      <td>A</td>\n      <td>2021-02-02</td>\n      <td>272</td>\n      <td>106043</td>\n      <td>nan</td>\n      <td>nan</td>\n      <td>...</td>\n      <td>0.518987</td>\n      <td>0.620000</td>\n      <td>1</td>\n      <td>0</td>\n      <td>1</td>\n      <td>1</td>\n      <td>Won</td>\n      <td>2021</td>\n      <td>1.0</td>\n      <td>32</td>\n    </tr>\n    <tr>\n      <th>301450</th>\n      <td>2021-8888</td>\n      <td>Atp Cup</td>\n      <td>Hard</td>\n      <td>12</td>\n      <td>A</td>\n      <td>2021-02-02</td>\n      <td>276</td>\n      <td>106043</td>\n      <td>nan</td>\n      <td>nan</td>\n      <td>...</td>\n      <td>0.406250</td>\n      <td>0.500000</td>\n      <td>0</td>\n      <td>0</td>\n      <td>0</td>\n      <td>0</td>\n      <td>Lost</td>\n      <td>2021</td>\n      <td>NaN</td>\n      <td>29</td>\n    </tr>\n    <tr>\n      <th>301705</th>\n      <td>2021-9158</td>\n      <td>Cordoba</td>\n      <td>Clay</td>\n      <td>32</td>\n      <td>A</td>\n      <td>2021-02-22</td>\n      <td>293</td>\n      <td>106043</td>\n      <td>1.0</td>\n      <td>nan</td>\n      <td>...</td>\n      <td>0.583333</td>\n      <td>0.633333</td>\n      <td>0</td>\n      <td>0</td>\n      <td>0</td>\n      <td>1</td>\n      <td>Won</td>\n      <td>2021</td>\n      <td>NaN</td>\n      <td>22</td>\n    </tr>\n    <tr>\n      <th>301712</th>\n      <td>2021-9158</td>\n      <td>Cordoba</td>\n      <td>Clay</td>\n      <td>32</td>\n      <td>A</td>\n      <td>2021-02-22</td>\n      <td>297</td>\n      <td>106043</td>\n      <td>1.0</td>\n      <td>nan</td>\n      <td>...</td>\n      <td>0.373494</td>\n      <td>0.551020</td>\n      <td>0</td>\n      <td>0</td>\n      <td>1</td>\n      <td>0</td>\n      <td>Lost</td>\n      <td>2021</td>\n      <td>0.0</td>\n      <td>29</td>\n    </tr>\n  </tbody>\n</table>\n<p>555 rows × 56 columns</p>\n</div>"
     },
     "metadata": {},
     "execution_count": 12
    }
   ],
   "source": [
    "matches_df.loc[lambda x: x['id']=='106043']"
   ]
  },
  {
   "cell_type": "code",
   "execution_count": 11,
   "metadata": {},
   "outputs": [
    {
     "output_type": "execute_result",
     "data": {
      "text/plain": [
       "       tourney_id      tourney_name surface draw_size tourney_level  \\\n",
       "105514  2010-6208  Buenos Aires2 CH    Clay        32             C   \n",
       "108676  2011-2121          Manta CH    Hard        32             C   \n",
       "111118  2011-3406       Santiago CH    Clay        32             C   \n",
       "112197  2011-3627           Todi CH    Clay        32             C   \n",
       "112216  2011-3627           Todi CH    Clay        32             C   \n",
       "...           ...               ...     ...       ...           ...   \n",
       "300832   2021-580   Australian Open    Hard       128             G   \n",
       "301443  2021-8888           Atp Cup    Hard        12             A   \n",
       "301450  2021-8888           Atp Cup    Hard        12             A   \n",
       "301705  2021-9158           Cordoba    Clay        32             A   \n",
       "301712  2021-9158           Cordoba    Clay        32             A   \n",
       "\n",
       "       tourney_date  match_num      id seed entry  ... perc_returnWon  \\\n",
       "105514   2010-11-22         14  106043  nan    WC  ...       0.426966   \n",
       "108676   2011-07-18          3  106043  nan   nan  ...       0.388235   \n",
       "111118   2011-03-07         13  106043  nan     Q  ...       0.439394   \n",
       "112197   2011-09-12         13  106043  nan   nan  ...       0.573770   \n",
       "112216   2011-09-12         23  106043  nan   nan  ...       0.428571   \n",
       "...             ...        ...     ...  ...   ...  ...            ...   \n",
       "300832   2021-02-08        203  106043  8.0   nan  ...       0.311111   \n",
       "301443   2021-02-02        272  106043  nan   nan  ...       0.518987   \n",
       "301450   2021-02-02        276  106043  nan   nan  ...       0.406250   \n",
       "301705   2021-02-22        293  106043  1.0   nan  ...       0.583333   \n",
       "301712   2021-02-22        297  106043  1.0   nan  ...       0.373494   \n",
       "\n",
       "       perc_servePointsWon  tbPlayed tbWon  decidingSetPlayed  winner  result  \\\n",
       "105514            0.540541         0     0                  1       0    Lost   \n",
       "108676            0.557895         0     0                  1       0    Lost   \n",
       "111118            0.454545         0     0                  0       0    Lost   \n",
       "112197            0.600000         0     0                  0       1     Won   \n",
       "112216            0.564356         2     1                  1       0    Lost   \n",
       "...                    ...       ...   ...                ...     ...     ...   \n",
       "300832            0.546875         0     0                  0       0    Lost   \n",
       "301443            0.620000         1     0                  1       1     Won   \n",
       "301450            0.500000         0     0                  0       0    Lost   \n",
       "301705            0.633333         0     0                  0       1     Won   \n",
       "301712            0.551020         0     0                  1       0    Lost   \n",
       "\n",
       "        year decidingSetWon  secondIn  \n",
       "105514  2010            0.0        30  \n",
       "108676  2011            0.0        33  \n",
       "111118  2011            NaN        17  \n",
       "112197  2011            NaN        30  \n",
       "112216  2011            0.0        42  \n",
       "...      ...            ...       ...  \n",
       "300832  2021            NaN        15  \n",
       "301443  2021            1.0        32  \n",
       "301450  2021            NaN        29  \n",
       "301705  2021            NaN        22  \n",
       "301712  2021            0.0        29  \n",
       "\n",
       "[555 rows x 56 columns]"
      ],
      "text/html": "<div>\n<style scoped>\n    .dataframe tbody tr th:only-of-type {\n        vertical-align: middle;\n    }\n\n    .dataframe tbody tr th {\n        vertical-align: top;\n    }\n\n    .dataframe thead th {\n        text-align: right;\n    }\n</style>\n<table border=\"1\" class=\"dataframe\">\n  <thead>\n    <tr style=\"text-align: right;\">\n      <th></th>\n      <th>tourney_id</th>\n      <th>tourney_name</th>\n      <th>surface</th>\n      <th>draw_size</th>\n      <th>tourney_level</th>\n      <th>tourney_date</th>\n      <th>match_num</th>\n      <th>id</th>\n      <th>seed</th>\n      <th>entry</th>\n      <th>...</th>\n      <th>perc_returnWon</th>\n      <th>perc_servePointsWon</th>\n      <th>tbPlayed</th>\n      <th>tbWon</th>\n      <th>decidingSetPlayed</th>\n      <th>winner</th>\n      <th>result</th>\n      <th>year</th>\n      <th>decidingSetWon</th>\n      <th>secondIn</th>\n    </tr>\n  </thead>\n  <tbody>\n    <tr>\n      <th>105514</th>\n      <td>2010-6208</td>\n      <td>Buenos Aires2 CH</td>\n      <td>Clay</td>\n      <td>32</td>\n      <td>C</td>\n      <td>2010-11-22</td>\n      <td>14</td>\n      <td>106043</td>\n      <td>nan</td>\n      <td>WC</td>\n      <td>...</td>\n      <td>0.426966</td>\n      <td>0.540541</td>\n      <td>0</td>\n      <td>0</td>\n      <td>1</td>\n      <td>0</td>\n      <td>Lost</td>\n      <td>2010</td>\n      <td>0.0</td>\n      <td>30</td>\n    </tr>\n    <tr>\n      <th>108676</th>\n      <td>2011-2121</td>\n      <td>Manta CH</td>\n      <td>Hard</td>\n      <td>32</td>\n      <td>C</td>\n      <td>2011-07-18</td>\n      <td>3</td>\n      <td>106043</td>\n      <td>nan</td>\n      <td>nan</td>\n      <td>...</td>\n      <td>0.388235</td>\n      <td>0.557895</td>\n      <td>0</td>\n      <td>0</td>\n      <td>1</td>\n      <td>0</td>\n      <td>Lost</td>\n      <td>2011</td>\n      <td>0.0</td>\n      <td>33</td>\n    </tr>\n    <tr>\n      <th>111118</th>\n      <td>2011-3406</td>\n      <td>Santiago CH</td>\n      <td>Clay</td>\n      <td>32</td>\n      <td>C</td>\n      <td>2011-03-07</td>\n      <td>13</td>\n      <td>106043</td>\n      <td>nan</td>\n      <td>Q</td>\n      <td>...</td>\n      <td>0.439394</td>\n      <td>0.454545</td>\n      <td>0</td>\n      <td>0</td>\n      <td>0</td>\n      <td>0</td>\n      <td>Lost</td>\n      <td>2011</td>\n      <td>NaN</td>\n      <td>17</td>\n    </tr>\n    <tr>\n      <th>112197</th>\n      <td>2011-3627</td>\n      <td>Todi CH</td>\n      <td>Clay</td>\n      <td>32</td>\n      <td>C</td>\n      <td>2011-09-12</td>\n      <td>13</td>\n      <td>106043</td>\n      <td>nan</td>\n      <td>nan</td>\n      <td>...</td>\n      <td>0.573770</td>\n      <td>0.600000</td>\n      <td>0</td>\n      <td>0</td>\n      <td>0</td>\n      <td>1</td>\n      <td>Won</td>\n      <td>2011</td>\n      <td>NaN</td>\n      <td>30</td>\n    </tr>\n    <tr>\n      <th>112216</th>\n      <td>2011-3627</td>\n      <td>Todi CH</td>\n      <td>Clay</td>\n      <td>32</td>\n      <td>C</td>\n      <td>2011-09-12</td>\n      <td>23</td>\n      <td>106043</td>\n      <td>nan</td>\n      <td>nan</td>\n      <td>...</td>\n      <td>0.428571</td>\n      <td>0.564356</td>\n      <td>2</td>\n      <td>1</td>\n      <td>1</td>\n      <td>0</td>\n      <td>Lost</td>\n      <td>2011</td>\n      <td>0.0</td>\n      <td>42</td>\n    </tr>\n    <tr>\n      <th>...</th>\n      <td>...</td>\n      <td>...</td>\n      <td>...</td>\n      <td>...</td>\n      <td>...</td>\n      <td>...</td>\n      <td>...</td>\n      <td>...</td>\n      <td>...</td>\n      <td>...</td>\n      <td>...</td>\n      <td>...</td>\n      <td>...</td>\n      <td>...</td>\n      <td>...</td>\n      <td>...</td>\n      <td>...</td>\n      <td>...</td>\n      <td>...</td>\n      <td>...</td>\n      <td>...</td>\n    </tr>\n    <tr>\n      <th>300832</th>\n      <td>2021-580</td>\n      <td>Australian Open</td>\n      <td>Hard</td>\n      <td>128</td>\n      <td>G</td>\n      <td>2021-02-08</td>\n      <td>203</td>\n      <td>106043</td>\n      <td>8.0</td>\n      <td>nan</td>\n      <td>...</td>\n      <td>0.311111</td>\n      <td>0.546875</td>\n      <td>0</td>\n      <td>0</td>\n      <td>0</td>\n      <td>0</td>\n      <td>Lost</td>\n      <td>2021</td>\n      <td>NaN</td>\n      <td>15</td>\n    </tr>\n    <tr>\n      <th>301443</th>\n      <td>2021-8888</td>\n      <td>Atp Cup</td>\n      <td>Hard</td>\n      <td>12</td>\n      <td>A</td>\n      <td>2021-02-02</td>\n      <td>272</td>\n      <td>106043</td>\n      <td>nan</td>\n      <td>nan</td>\n      <td>...</td>\n      <td>0.518987</td>\n      <td>0.620000</td>\n      <td>1</td>\n      <td>0</td>\n      <td>1</td>\n      <td>1</td>\n      <td>Won</td>\n      <td>2021</td>\n      <td>1.0</td>\n      <td>32</td>\n    </tr>\n    <tr>\n      <th>301450</th>\n      <td>2021-8888</td>\n      <td>Atp Cup</td>\n      <td>Hard</td>\n      <td>12</td>\n      <td>A</td>\n      <td>2021-02-02</td>\n      <td>276</td>\n      <td>106043</td>\n      <td>nan</td>\n      <td>nan</td>\n      <td>...</td>\n      <td>0.406250</td>\n      <td>0.500000</td>\n      <td>0</td>\n      <td>0</td>\n      <td>0</td>\n      <td>0</td>\n      <td>Lost</td>\n      <td>2021</td>\n      <td>NaN</td>\n      <td>29</td>\n    </tr>\n    <tr>\n      <th>301705</th>\n      <td>2021-9158</td>\n      <td>Cordoba</td>\n      <td>Clay</td>\n      <td>32</td>\n      <td>A</td>\n      <td>2021-02-22</td>\n      <td>293</td>\n      <td>106043</td>\n      <td>1.0</td>\n      <td>nan</td>\n      <td>...</td>\n      <td>0.583333</td>\n      <td>0.633333</td>\n      <td>0</td>\n      <td>0</td>\n      <td>0</td>\n      <td>1</td>\n      <td>Won</td>\n      <td>2021</td>\n      <td>NaN</td>\n      <td>22</td>\n    </tr>\n    <tr>\n      <th>301712</th>\n      <td>2021-9158</td>\n      <td>Cordoba</td>\n      <td>Clay</td>\n      <td>32</td>\n      <td>A</td>\n      <td>2021-02-22</td>\n      <td>297</td>\n      <td>106043</td>\n      <td>1.0</td>\n      <td>nan</td>\n      <td>...</td>\n      <td>0.373494</td>\n      <td>0.551020</td>\n      <td>0</td>\n      <td>0</td>\n      <td>1</td>\n      <td>0</td>\n      <td>Lost</td>\n      <td>2021</td>\n      <td>0.0</td>\n      <td>29</td>\n    </tr>\n  </tbody>\n</table>\n<p>555 rows × 56 columns</p>\n</div>"
     },
     "metadata": {},
     "execution_count": 11
    }
   ],
   "source": [
    "matches_df.loc[lambda x: x['player_name'].str.contains('Schwartzman')]"
   ]
  },
  {
   "cell_type": "code",
   "execution_count": 38,
   "metadata": {},
   "outputs": [],
   "source": [
    "import yaml# import load, Loader, dump, Dumper\n",
    "\n",
    "with open(os.getcwd() + '/config.yaml') as file:\n",
    "    # The FullLoader parameter handles the conversion from YAML\n",
    "    # scalar values to Python the dictionary format\n",
    "    data = yaml.load(file, Loader=yaml.Loader)\n",
    "\n",
    "details_mapping = data['details_mapping']"
   ]
  },
  {
   "cell_type": "code",
   "execution_count": 3,
   "metadata": {},
   "outputs": [
    {
     "output_type": "execute_result",
     "data": {
      "text/plain": [
       "'\\nhttps://en.wikipedia.org/wiki/Binomial_proportion_confidence_interval\\nhttps://www.statsmodels.org/dev/generated/statsmodels.stats.proportion.proportion_confint.html\\nhttps://www.ucl.ac.uk/english-usage/staff/sean/resources/binomialpoisson.pdf\\n'"
      ]
     },
     "metadata": {},
     "execution_count": 3
    }
   ],
   "source": [
    "\"\"\"\n",
    "https://en.wikipedia.org/wiki/Binomial_proportion_confidence_interval\n",
    "https://www.statsmodels.org/dev/generated/statsmodels.stats.proportion.proportion_confint.html\n",
    "https://www.ucl.ac.uk/english-usage/staff/sean/resources/binomialpoisson.pdf\n",
    "\"\"\""
   ]
  }
 ]
}